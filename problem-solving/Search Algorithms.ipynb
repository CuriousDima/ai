{
 "cells": [
  {
   "cell_type": "markdown",
   "metadata": {},
   "source": [
    "# Problem definition\n",
    "\n",
    "When the following conditions are met:\n",
    "\n",
    "- The domain can be fully observed\n",
    "- The range of possible actions is known\n",
    "- There's a finite set of actions to select from\n",
    "- The domain operates deterministically\n",
    "- The domain remains static with only our actions creating changes\n",
    "\n",
    "it becomes possible to model a **problem**, conceptualize it as a **search problem**, and utilize various search algorithms to reach the goal."
   ]
  },
  {
   "cell_type": "code",
   "execution_count": 5,
   "metadata": {},
   "outputs": [],
   "source": [
    "class Problem:\n",
    "    def __init__(self, initial, goal=None):\n",
    "        # The goal state is optional, because some problems may not have a goal state.\n",
    "        self.initial = initial\n",
    "        self.goal = goal\n",
    "\n",
    "    def actions(self, state):\n",
    "        # Given a state, return a list of possible actions.\n",
    "        raise NotImplementedError\n",
    "\n",
    "    def result(self, state, action):\n",
    "        # Given a state and an action, return the new state that results from applying the action to the state.\n",
    "        raise NotImplementedError\n",
    "\n",
    "    def goal_test(self, state):\n",
    "        # Return True if the state is a goal state.\n",
    "        return state == self.goal\n",
    "\n",
    "    def path_cost(self, c, state1, action, state2):\n",
    "        # Return the cost of the path that arrives at state2 from state1 via action, assuming cost c to get up to state1.\n",
    "        return c + 1"
   ]
  },
  {
   "cell_type": "markdown",
   "metadata": {},
   "source": [
    "# State Space\n",
    "\n",
    "Search algorithms are designed to locate a specific target state. But they also need to access the state space, including all possible states the agent could potentially be in.\n",
    "\n",
    "The solution of the search problem is a **path** from initial state to goal state: `I → A → S → G`. We simplify the task and store a `Node`. Each node has a parent node, so the path can be rebuilt if necessary.\n",
    "\n",
    "Reference implementation: https://github.com/aimacode/aima-python/blob/master/search.py"
   ]
  },
  {
   "cell_type": "code",
   "execution_count": 6,
   "metadata": {},
   "outputs": [],
   "source": [
    "class Node:\n",
    "    def __init__(self, state, action=None, parent=None, path_cost=0) -> None:\n",
    "        self.state = state\n",
    "        self.cost = path_cost\n",
    "        self.action = action\n",
    "        self.parent = parent\n",
    "\n",
    "    def __repr__(self) -> str:\n",
    "        return f\"<Node state: {self.state}, cost: {self.cost}, action: {self.action}>\"\n",
    "\n",
    "    # Expand the frontier.\n",
    "    def expand(self, problem):\n",
    "        return [\n",
    "            self.child_node(problem, action) for action in problem.actions(self.state)\n",
    "        ]\n",
    "\n",
    "    # Get child node based on the action.\n",
    "    def child_node(self, problem, action):\n",
    "        next_state = problem.result(self.state, action)\n",
    "        next_node = Node(\n",
    "            next_state,\n",
    "            self,\n",
    "            action,\n",
    "            problem.path_cost(self.path_cost, self.state, action, next_state),\n",
    "        )\n",
    "        return next_node\n",
    "\n",
    "    def path(self):\n",
    "        node, path_back = self, []\n",
    "        while node:\n",
    "            path_back.append(node)\n",
    "            node = node.parent\n",
    "        return path_back[::-1]"
   ]
  },
  {
   "cell_type": "code",
   "execution_count": 7,
   "metadata": {},
   "outputs": [],
   "source": [
    "# Simplified road map of Romania\n",
    "romania_map = {\n",
    "    \"Arad\": {\"Zerind\": 75, \"Sibiu\": 140, \"Timisoara\": 118},\n",
    "    \"Zerind\": {\"Arad\": 75, \"Oradea\": 71},\n",
    "    \"Sibiu\": {\"Arad\": 140, \"Fagaras\": 99, \"Oradea\": 151, \"Rimnicu\": 80},\n",
    "    \"Timisoara\": {\"Arad\": 118, \"Lugoj\": 111},\n",
    "    \"Bucharest\": {\"Urziceni\": 85, \"Pitesti\": 101, \"Giurgiu\": 90, \"Fagaras\": 211},\n",
    "    \"Urziceni\": {\"Bucharest\": 85, \"Hirsova\": 98, \"Vaslui\": 142},\n",
    "    \"Pitesti\": {\"Bucharest\": 101, \"Craiova\": 138, \"Rimnicu\": 97},\n",
    "    \"Giurgiu\": {\"Bucharest\": 90},\n",
    "    \"Fagaras\": {\"Bucharest\": 211, \"Sibiu\": 99},\n",
    "    \"Craiova\": {\"Drobeta\": 120, \"Rimnicu\": 146, \"Pitesti\": 138},\n",
    "    \"Drobeta\": {\"Craiova\": 120, \"Mehadia\": 75},\n",
    "    \"Rimnicu\": {\"Craiova\": 146, \"Pitesti\": 97, \"Sibiu\": 80},\n",
    "    \"Mehadia\": {\"Drobeta\": 75, \"Lugoj\": 70},\n",
    "    \"Eforie\": {\"Hirsova\": 86},\n",
    "    \"Hirsova\": {\"Eforie\": 86, \"Urziceni\": 98},\n",
    "    \"Iasi\": {\"Vaslui\": 92, \"Neamt\": 87},\n",
    "    \"Vaslui\": {\"Iasi\": 92, \"Urziceni\": 142},\n",
    "    \"Neamt\": {\"Iasi\": 87},\n",
    "    \"Lugoj\": {\"Timisoara\": 111, \"Mehadia\": 70},\n",
    "    \"Oradea\": {\"Zerind\": 71, \"Sibiu\": 151},\n",
    "}"
   ]
  },
  {
   "cell_type": "markdown",
   "metadata": {},
   "source": [
    "Use a `Problem` interface to formulate search problem."
   ]
  },
  {
   "cell_type": "code",
   "execution_count": 8,
   "metadata": {},
   "outputs": [],
   "source": [
    "class PathFinder(Problem):\n",
    "    def __init__(self, initial, goal, graph):\n",
    "        super().__init__(initial, goal)\n",
    "        self.graph = graph\n",
    "\n",
    "    def actions(self, state):\n",
    "        return romania_map[state].keys()\n",
    "\n",
    "    def result(self, state, action):\n",
    "        # The result is the name of the city we reach by taking the action.\n",
    "        return action\n",
    "\n",
    "    def path_cost(self, c, state1, action, state2):\n",
    "        return c + self.graph[state1][state2]\n",
    "\n",
    "    # No need to override goal_test method because it already does what we want.\n",
    "    # def goal_test(self, state)"
   ]
  },
  {
   "cell_type": "markdown",
   "metadata": {},
   "source": [
    "# Breadth First Search"
   ]
  },
  {
   "cell_type": "code",
   "execution_count": null,
   "metadata": {},
   "outputs": [],
   "source": [
    "def breadth_first_graph_search(problem):\n",
    "    pass"
   ]
  },
  {
   "cell_type": "markdown",
   "metadata": {},
   "source": [
    "# Depth First Search"
   ]
  },
  {
   "cell_type": "code",
   "execution_count": null,
   "metadata": {},
   "outputs": [],
   "source": [
    "def depth_first_graph_search(problem):\n",
    "    pass"
   ]
  },
  {
   "cell_type": "markdown",
   "metadata": {},
   "source": [
    "# Cheapest First Search (Uniform Cost Search)"
   ]
  },
  {
   "cell_type": "code",
   "execution_count": null,
   "metadata": {},
   "outputs": [],
   "source": [
    "def uniform_cost_search(problem):\n",
    "    pass"
   ]
  },
  {
   "cell_type": "markdown",
   "metadata": {},
   "source": [
    "# A* Search"
   ]
  },
  {
   "cell_type": "code",
   "execution_count": null,
   "metadata": {},
   "outputs": [],
   "source": [
    "from dataclasses import dataclass\n",
    "\n",
    "\n",
    "@dataclass(frozen=True)\n",
    "class Location:\n",
    "    __slots__ = [\"x\", \"y\"]\n",
    "    x: int\n",
    "    y: int\n",
    "\n",
    "\n",
    "# We will need locations for a heuristic.\n",
    "locations = {\n",
    "    \"Arad\": Location(91, 492),\n",
    "    \"Bucharest\": Location(400, 327),\n",
    "    \"Craiova\": Location(253, 288),\n",
    "    \"Drobeta\": Location(165, 299),\n",
    "    \"Eforie\": Location(562, 293),\n",
    "    \"Fagaras\": Location(305, 449),\n",
    "    \"Giurgiu\": Location(375, 270),\n",
    "    \"Hirsova\": Location(534, 350),\n",
    "    \"Iasi\": Location(473, 506),\n",
    "    \"Lugoj\": Location(165, 379),\n",
    "    \"Mehadia\": Location(168, 339),\n",
    "    \"Neamt\": Location(406, 537),\n",
    "    \"Oradea\": Location(131, 571),\n",
    "    \"Pitesti\": Location(320, 368),\n",
    "    \"Rimnicu\": Location(233, 410),\n",
    "    \"Sibiu\": Location(207, 457),\n",
    "    \"Timisoara\": Location(94, 410),\n",
    "    \"Urziceni\": Location(456, 350),\n",
    "    \"Vaslui\": Location(509, 444),\n",
    "    \"Zerind\": Location(108, 531),\n",
    "}"
   ]
  }
 ],
 "metadata": {
  "kernelspec": {
   "display_name": "Python 3",
   "language": "python",
   "name": "python3"
  },
  "language_info": {
   "codemirror_mode": {
    "name": "ipython",
    "version": 3
   },
   "file_extension": ".py",
   "mimetype": "text/x-python",
   "name": "python",
   "nbconvert_exporter": "python",
   "pygments_lexer": "ipython3",
   "version": "3.12.2"
  }
 },
 "nbformat": 4,
 "nbformat_minor": 2
}
