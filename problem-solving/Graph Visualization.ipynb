{
 "cells": [
  {
   "cell_type": "code",
   "execution_count": 1,
   "metadata": {},
   "outputs": [],
   "source": [
    "from pyvis.network import Network"
   ]
  },
  {
   "cell_type": "code",
   "execution_count": 13,
   "metadata": {},
   "outputs": [],
   "source": [
    "n = 36\n",
    "roads = [\n",
    "    [7, 11, 418],\n",
    "    [13, 23, 287],\n",
    "    [16, 25, 7891],\n",
    "    [15, 7, 9695],\n",
    "    [4, 3, 9569],\n",
    "    [17, 7, 1809],\n",
    "    [14, 3, 4720],\n",
    "    [14, 4, 6118],\n",
    "    [9, 2, 4290],\n",
    "    [32, 17, 5645],\n",
    "    [14, 16, 426],\n",
    "    [36, 7, 6721],\n",
    "    [13, 30, 9444],\n",
    "    [3, 25, 4635],\n",
    "    [33, 5, 1669],\n",
    "    [22, 18, 8910],\n",
    "    [5, 28, 7865],\n",
    "    [13, 10, 9466],\n",
    "    [7, 9, 2457],\n",
    "    [11, 8, 4711],\n",
    "    [17, 11, 6308],\n",
    "    [7, 34, 3789],\n",
    "    [8, 33, 9659],\n",
    "    [16, 3, 4187],\n",
    "    [16, 20, 3595],\n",
    "    [23, 10, 6251],\n",
    "    [26, 22, 6180],\n",
    "    [4, 16, 5577],\n",
    "    [26, 7, 5398],\n",
    "    [6, 36, 8671],\n",
    "    [10, 19, 3028],\n",
    "    [23, 30, 1330],\n",
    "    [19, 13, 8315],\n",
    "    [25, 20, 4740],\n",
    "    [25, 4, 5818],\n",
    "    [30, 10, 8030],\n",
    "    [30, 19, 7527],\n",
    "    [28, 6, 6804],\n",
    "    [21, 27, 1746],\n",
    "    [18, 9, 5189],\n",
    "    [7, 27, 6560],\n",
    "    [20, 14, 2450],\n",
    "    [27, 32, 3951],\n",
    "    [2, 21, 3927],\n",
    "    [1, 15, 9283],\n",
    "    [3, 20, 5428],\n",
    "    [15, 26, 5871],\n",
    "    [19, 23, 4533],\n",
    "    [14, 25, 6992],\n",
    "    [4, 20, 5831],\n",
    "]\n",
    "\n",
    "net = Network()\n",
    "for i in range(1, n + 1):\n",
    "    net.add_node(i, label=str(i))\n",
    "\n",
    "for node_1, node_2, score in roads:\n",
    "    net.add_edge(node_1, node_2, value=score, label=str(score))"
   ]
  },
  {
   "cell_type": "code",
   "execution_count": 16,
   "metadata": {},
   "outputs": [
    {
     "name": "stdout",
     "output_type": "stream",
     "text": [
      "LeetCode_2492_Testcase_38.html\n"
     ]
    }
   ],
   "source": [
    "net.show(\"LeetCode_2492_Testcase_38.html\", notebook=False)"
   ]
  },
  {
   "cell_type": "code",
   "execution_count": null,
   "metadata": {},
   "outputs": [],
   "source": []
  }
 ],
 "metadata": {
  "kernelspec": {
   "display_name": "venv",
   "language": "python",
   "name": "python3"
  },
  "language_info": {
   "codemirror_mode": {
    "name": "ipython",
    "version": 3
   },
   "file_extension": ".py",
   "mimetype": "text/x-python",
   "name": "python",
   "nbconvert_exporter": "python",
   "pygments_lexer": "ipython3",
   "version": "3.12.2"
  }
 },
 "nbformat": 4,
 "nbformat_minor": 2
}
