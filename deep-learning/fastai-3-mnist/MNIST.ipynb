{
 "cells": [
  {
   "cell_type": "markdown",
   "id": "bf4b06fa-825f-4842-b6a8-0aa2e2b97cc6",
   "metadata": {},
   "source": [
    "# The MNIST (Modified National Institute of Standards and Technology) dataset \n",
    "\n",
    "The purpose of this lesson is to provide a deeper understanding of how image recognition works using the MNIST dataset."
   ]
  },
  {
   "cell_type": "code",
   "execution_count": 1,
   "id": "7eb40729-0b5e-4818-aa0f-e29d0b542eee",
   "metadata": {},
   "outputs": [],
   "source": [
    "from fastai.vision.all import *\n",
    "from fastbook import *\n",
    "\n",
    "matplotlib.rc('image', cmap='Greys')"
   ]
  },
  {
   "cell_type": "code",
   "execution_count": 2,
   "id": "a198d410-7f53-4ce7-9776-db9e5385d5c7",
   "metadata": {},
   "outputs": [],
   "source": [
    "import os\n",
    "import random\n",
    "from IPython.display import display\n",
    "from PIL import Image\n",
    "\n",
    "from functools import partial"
   ]
  },
  {
   "cell_type": "markdown",
   "id": "f5436672-29d3-4210-98d9-911d7fef9046",
   "metadata": {},
   "source": [
    "# Download MNIST Sample"
   ]
  },
  {
   "cell_type": "code",
   "execution_count": 3,
   "id": "60a49714-0e0b-4085-a5d7-9b80a1576337",
   "metadata": {},
   "outputs": [
    {
     "name": "stdout",
     "output_type": "stream",
     "text": [
      "The MNIST dataset can be downloaded from here: https://s3.amazonaws.com/fast-ai-sample/mnist_sample.tgz\n",
      "Unpacked here: /Users/dima/.fastai/data/mnist_sample\n"
     ]
    }
   ],
   "source": [
    "print(f\"The MNIST dataset can be downloaded from here: {URLs.MNIST_SAMPLE}\")\n",
    "path = untar_data(URLs.MNIST_SAMPLE)\n",
    "print(f\"Unpacked here: {path}\")"
   ]
  },
  {
   "cell_type": "markdown",
   "id": "912e0bf7-63a1-4bcf-9504-c02cd7e5cf6b",
   "metadata": {},
   "source": [
    "# Inspect Data"
   ]
  },
  {
   "cell_type": "code",
   "execution_count": 4,
   "id": "c2fad9f7-8890-4aef-b133-c9e5b84fb531",
   "metadata": {},
   "outputs": [
    {
     "name": "stdout",
     "output_type": "stream",
     "text": [
      "\u001b[01;34m/Users/dima/.fastai/data/mnist_sample\u001b[0m\n",
      "├── \u001b[00mlabels.csv\u001b[0m\n",
      "├── \u001b[01;34mtrain\u001b[0m\n",
      "│   ├── \u001b[01;34m3\u001b[0m\n",
      "│   └── \u001b[01;34m7\u001b[0m\n",
      "└── \u001b[01;34mvalid\u001b[0m\n",
      "    ├── \u001b[01;34m3\u001b[0m\n",
      "    └── \u001b[01;34m7\u001b[0m\n",
      "\n",
      "7 directories, 1 file\n"
     ]
    }
   ],
   "source": [
    "!tree -L 2 /Users/dima/.fastai/data/mnist_sample"
   ]
  },
  {
   "cell_type": "code",
   "execution_count": 5,
   "id": "717e9f53-a5de-416a-874f-77fe9b244824",
   "metadata": {},
   "outputs": [],
   "source": [
    "def show_n_images(folder_path, n):    \n",
    "    # Get all image files in the folder\n",
    "    image_files = [f for f in os.listdir(folder_path) if f.lower().endswith(('.png', '.jpg', '.jpeg', '.gif', '.bmp'))]\n",
    "    \n",
    "    # Select any 3 images randomly\n",
    "    selected_images = random.sample(image_files, n)\n",
    "    \n",
    "    # Display the selected images\n",
    "    for img_file in selected_images:\n",
    "        img_path = os.path.join(folder_path, img_file)\n",
    "        img = Image.open(img_path)\n",
    "        display(img)\n",
    "\n",
    "show_three_images = partial(show_n_images, n=3)"
   ]
  },
  {
   "cell_type": "code",
   "execution_count": 6,
   "id": "866be70a-669f-4cf6-a84d-09d5aa333182",
   "metadata": {},
   "outputs": [
    {
     "data": {
      "image/jpeg": "[encoded data removed]",
      "image/png": "[encoded data removed]",
      "text/plain": [
       "<PIL.PngImagePlugin.PngImageFile image mode=L size=28x28>"
      ]
     },
     "metadata": {},
     "output_type": "display_data"
    },
    {
     "data": {
      "image/jpeg": "[encoded data removed]",
      "image/png": "[encoded data removed]",
      "text/plain": [
       "<PIL.PngImagePlugin.PngImageFile image mode=L size=28x28>"
      ]
     },
     "metadata": {},
     "output_type": "display_data"
    },
    {
     "data": {
      "image/jpeg": "[encoded data removed]",
      "image/png": "[encoded data removed]",
      "text/plain": [
       "<PIL.PngImagePlugin.PngImageFile image mode=L size=28x28>"
      ]
     },
     "metadata": {},
     "output_type": "display_data"
    }
   ],
   "source": [
    "show_three_images(path / \"train\" / \"3\")"
   ]
  },
  {
   "cell_type": "code",
   "execution_count": 7,
   "id": "d852ad8a-d977-4572-8043-f679dc7ce7fd",
   "metadata": {},
   "outputs": [
    {
     "data": {
      "image/jpeg": "[encoded data removed]",
      "image/png": "[encoded data removed]",
      "text/plain": [
       "<PIL.PngImagePlugin.PngImageFile image mode=L size=28x28>"
      ]
     },
     "metadata": {},
     "output_type": "display_data"
    },
    {
     "data": {
      "image/jpeg": "[encoded data removed]",
      "image/png": "[encoded data removed]",
      "text/plain": [
       "<PIL.PngImagePlugin.PngImageFile image mode=L size=28x28>"
      ]
     },
     "metadata": {},
     "output_type": "display_data"
    },
    {
     "data": {
      "image/jpeg": "[encoded data removed]",
      "image/png": "[encoded data removed]",
      "text/plain": [
       "<PIL.PngImagePlugin.PngImageFile image mode=L size=28x28>"
      ]
     },
     "metadata": {},
     "output_type": "display_data"
    }
   ],
   "source": [
    "show_three_images(path / \"train\" / \"7\")"
   ]
  },
  {
   "cell_type": "code",
   "execution_count": 8,
   "id": "475aaf40-54f4-4c57-8df5-1d390dc1ee60",
   "metadata": {},
   "outputs": [
    {
     "data": {
      "image/jpeg": "[encoded data removed]",
      "image/png": "[encoded data removed]",
      "text/plain": [
       "<PIL.PngImagePlugin.PngImageFile image mode=L size=28x28>"
      ]
     },
     "execution_count": 8,
     "metadata": {},
     "output_type": "execute_result"
    }
   ],
   "source": [
    "img3 = Image.open(path / \"train\" / \"3\" / \"10.png\")\n",
    "img3"
   ]
  },
  {
   "cell_type": "code",
   "execution_count": 9,
   "id": "76d89383-e1c8-4b81-96fc-0066aadfebdc",
   "metadata": {},
   "outputs": [
    {
     "name": "stdout",
     "output_type": "stream",
     "text": [
      "[[  0   0   0   0   0   0   0   0   0   0   0   0   0   0   0   0   0   0   0   0   0   0   0   0   0   0   0   0]\n",
      " [  0   0   0   0   0   0   0   0   0   0   0   0   0   0   0   0   0   0   0   0   0   0   0   0   0   0   0   0]\n",
      " [  0   0   0   0   0   0   0   0   0   0   0   0   0   0   0   0   0   0   0   0   0   0   0   0   0   0   0   0]\n",
      " [  0   0   0   0   0   0   0   0   0   0   0   0   0   0   0   0   0   0   0   0   0   0   0   0   0   0   0   0]\n",
      " [  0   0   0   0   0   0   0   0   0   0   0  42 118 219 166 118 118   6   0   0   0   0   0   0   0   0   0   0]\n",
      " [  0   0   0   0   0   0   0   0   0   0 103 242 254 254 254 254 254  66   0   0   0   0   0   0   0   0   0   0]\n",
      " [  0   0   0   0   0   0   0   0   0   0  18 232 254 254 254 254 254 238  70   0   0   0   0   0   0   0   0   0]\n",
      " [  0   0   0   0   0   0   0   0   0   0   0 104 244 254 224 254 254 254 141   0   0   0   0   0   0   0   0   0]\n",
      " [  0   0   0   0   0   0   0   0   0   0   0   0 207 254 210 254 254 254  34   0   0   0   0   0   0   0   0   0]\n",
      " [  0   0   0   0   0   0   0   0   0   0   0   0  84 206 254 254 254 254  41   0   0   0   0   0   0   0   0   0]\n",
      " [  0   0   0   0   0   0   0   0   0   0   0   0   0  24 209 254 254 254 171   0   0   0   0   0   0   0   0   0]\n",
      " [  0   0   0   0   0   0   0   0   0   0   0   0  91 137 253 254 254 254 112   0   0   0   0   0   0   0   0   0]\n",
      " [  0   0   0   0   0   0   0   0   0   0  40 214 250 254 254 254 254 254  34   0   0   0   0   0   0   0   0   0]\n",
      " [  0   0   0   0   0   0   0   0   0   0  81 247 254 254 254 254 254 254 146   0   0   0   0   0   0   0   0   0]\n",
      " [  0   0   0   0   0   0   0   0   0   0   0 110 246 254 254 254 254 254 171   0   0   0   0   0   0   0   0   0]\n",
      " [  0   0   0   0   0   0   0   0   0   0   0   0  73  89  89  93 240 254 171   0   0   0   0   0   0   0   0   0]\n",
      " [  0   0   0   0   0   0   0   0   0   0   0   0   0   0   0   1 128 254 219  31   0   0   0   0   0   0   0   0]\n",
      " [  0   0   0   0   0   0   0   0   0   0   0   0   0   0   0   7 254 254 214  28   0   0   0   0   0   0   0   0]\n",
      " [  0   0   0   0   0   0   0   0   0   0   0   0   0   0   0 138 254 254 116   0   0   0   0   0   0   0   0   0]\n",
      " [  0   0   0   0   0   0  19 177  90   0   0   0   0   0  25 240 254 254  34   0   0   0   0   0   0   0   0   0]\n",
      " [  0   0   0   0   0   0 164 254 215  63  36   0  51  89 206 254 254 139   8   0   0   0   0   0   0   0   0   0]\n",
      " [  0   0   0   0   0   0  57 197 254 254 222 180 241 254 254 253 213  11   0   0   0   0   0   0   0   0   0   0]\n",
      " [  0   0   0   0   0   0   0 140 105 254 254 254 254 254 254 236   0   0   0   0   0   0   0   0   0   0   0   0]\n",
      " [  0   0   0   0   0   0   0   0   7 117 117 165 254 254 239  50   0   0   0   0   0   0   0   0   0   0   0   0]\n",
      " [  0   0   0   0   0   0   0   0   0   0   0   0   0   0   0   0   0   0   0   0   0   0   0   0   0   0   0   0]\n",
      " [  0   0   0   0   0   0   0   0   0   0   0   0   0   0   0   0   0   0   0   0   0   0   0   0   0   0   0   0]\n",
      " [  0   0   0   0   0   0   0   0   0   0   0   0   0   0   0   0   0   0   0   0   0   0   0   0   0   0   0   0]\n",
      " [  0   0   0   0   0   0   0   0   0   0   0   0   0   0   0   0   0   0   0   0   0   0   0   0   0   0   0   0]]\n"
     ]
    }
   ],
   "source": [
    "print(array(img3))"
   ]
  },
  {
   "cell_type": "code",
   "execution_count": 10,
   "id": "295897a2-f9b3-41e3-8353-f968fc134d13",
   "metadata": {},
   "outputs": [
    {
     "data": {
      "text/plain": [
       "\u001b[31mDocstring:\u001b[39m\n",
       "array(object, dtype=None, *, copy=True, order='K', subok=False, ndmin=0,\n",
       "      like=None)\n",
       "\n",
       "Create an array.\n",
       "\n",
       "Parameters\n",
       "----------\n",
       "object : array_like\n",
       "    An array, any object exposing the array interface, an object whose\n",
       "    ``__array__`` method returns an array, or any (nested) sequence.\n",
       "    If object is a scalar, a 0-dimensional array containing object is\n",
       "    returned.\n",
       "dtype : data-type, optional\n",
       "    The desired data-type for the array. If not given, NumPy will try to use\n",
       "    a default ``dtype`` that can represent the values (by applying promotion\n",
       "    rules when necessary.)\n",
       "copy : bool, optional\n",
       "    If ``True`` (default), then the array data is copied. If ``None``,\n",
       "    a copy will only be made if ``__array__`` returns a copy, if obj is\n",
       "    a nested sequence, or if a copy is needed to satisfy any of the other\n",
       "    requirements (``dtype``, ``order``, etc.). Note that any copy of\n",
       "    the data is shallow, i.e., for arrays with object dtype, the new\n",
       "    array will point to the same objects. See Examples for `ndarray.copy`.\n",
       "    For ``False`` it raises a ``ValueError`` if a copy cannot be avoided.\n",
       "    Default: ``True``.\n",
       "order : {'K', 'A', 'C', 'F'}, optional\n",
       "    Specify the memory layout of the array. If object is not an array, the\n",
       "    newly created array will be in C order (row major) unless 'F' is\n",
       "    specified, in which case it will be in Fortran order (column major).\n",
       "    If object is an array the following holds.\n",
       "\n",
       "    ===== ========= ===================================================\n",
       "    order  no copy                     copy=True\n",
       "    ===== ========= ===================================================\n",
       "    'K'   unchanged F & C order preserved, otherwise most similar order\n",
       "    'A'   unchanged F order if input is F and not C, otherwise C order\n",
       "    'C'   C order   C order\n",
       "    'F'   F order   F order\n",
       "    ===== ========= ===================================================\n",
       "\n",
       "    When ``copy=None`` and a copy is made for other reasons, the result is\n",
       "    the same as if ``copy=True``, with some exceptions for 'A', see the\n",
       "    Notes section. The default order is 'K'.\n",
       "subok : bool, optional\n",
       "    If True, then sub-classes will be passed-through, otherwise\n",
       "    the returned array will be forced to be a base-class array (default).\n",
       "ndmin : int, optional\n",
       "    Specifies the minimum number of dimensions that the resulting\n",
       "    array should have.  Ones will be prepended to the shape as\n",
       "    needed to meet this requirement.\n",
       "like : array_like, optional\n",
       "    Reference object to allow the creation of arrays which are not\n",
       "    NumPy arrays. If an array-like passed in as ``like`` supports\n",
       "    the ``__array_function__`` protocol, the result will be defined\n",
       "    by it. In this case, it ensures the creation of an array object\n",
       "    compatible with that passed in via this argument.\n",
       "\n",
       "    .. versionadded:: 1.20.0\n",
       "\n",
       "Returns\n",
       "-------\n",
       "out : ndarray\n",
       "    An array object satisfying the specified requirements.\n",
       "\n",
       "See Also\n",
       "--------\n",
       "empty_like : Return an empty array with shape and type of input.\n",
       "ones_like : Return an array of ones with shape and type of input.\n",
       "zeros_like : Return an array of zeros with shape and type of input.\n",
       "full_like : Return a new array with shape of input filled with value.\n",
       "empty : Return a new uninitialized array.\n",
       "ones : Return a new array setting values to one.\n",
       "zeros : Return a new array setting values to zero.\n",
       "full : Return a new array of given shape filled with value.\n",
       "copy: Return an array copy of the given object.\n",
       "\n",
       "\n",
       "Notes\n",
       "-----\n",
       "When order is 'A' and ``object`` is an array in neither 'C' nor 'F' order,\n",
       "and a copy is forced by a change in dtype, then the order of the result is\n",
       "not necessarily 'C' as expected. This is likely a bug.\n",
       "\n",
       "Examples\n",
       "--------\n",
       ">>> import numpy as np\n",
       ">>> np.array([1, 2, 3])\n",
       "array([1, 2, 3])\n",
       "\n",
       "Upcasting:\n",
       "\n",
       ">>> np.array([1, 2, 3.0])\n",
       "array([ 1.,  2.,  3.])\n",
       "\n",
       "More than one dimension:\n",
       "\n",
       ">>> np.array([[1, 2], [3, 4]])\n",
       "array([[1, 2],\n",
       "       [3, 4]])\n",
       "\n",
       "Minimum dimensions 2:\n",
       "\n",
       ">>> np.array([1, 2, 3], ndmin=2)\n",
       "array([[1, 2, 3]])\n",
       "\n",
       "Type provided:\n",
       "\n",
       ">>> np.array([1, 2, 3], dtype=complex)\n",
       "array([ 1.+0.j,  2.+0.j,  3.+0.j])\n",
       "\n",
       "Data-type consisting of more than one element:\n",
       "\n",
       ">>> x = np.array([(1,2),(3,4)],dtype=[('a','<i4'),('b','<i4')])\n",
       ">>> x['a']\n",
       "array([1, 3], dtype=int32)\n",
       "\n",
       "Creating an array from sub-classes:\n",
       "\n",
       ">>> np.array(np.asmatrix('1 2; 3 4'))\n",
       "array([[1, 2],\n",
       "       [3, 4]])\n",
       "\n",
       ">>> np.array(np.asmatrix('1 2; 3 4'), subok=True)\n",
       "matrix([[1, 2],\n",
       "        [3, 4]])\n",
       "\u001b[31mType:\u001b[39m      builtin_function_or_method"
      ]
     },
     "metadata": {},
     "output_type": "display_data"
    }
   ],
   "source": [
    "array?"
   ]
  },
  {
   "cell_type": "markdown",
   "id": "3602bba6-3ad4-4036-97a2-43a435894d20",
   "metadata": {},
   "source": [
    "---\n",
    "\n",
    "The same image, but as **Tensor**."
   ]
  },
  {
   "cell_type": "code",
   "execution_count": 11,
   "id": "209e22c4-060a-4272-b6a4-479e175f4b5a",
   "metadata": {},
   "outputs": [
    {
     "data": {
      "text/html": [
       "<style type=\"text/css\">\n",
       "#T_64040_row0_col0, #T_64040_row0_col1, #T_64040_row0_col2, #T_64040_row0_col3, #T_64040_row0_col4, #T_64040_row0_col5, #T_64040_row0_col6, #T_64040_row0_col7, #T_64040_row0_col8, #T_64040_row0_col9, #T_64040_row0_col10, #T_64040_row0_col11, #T_64040_row0_col12, #T_64040_row0_col13, #T_64040_row0_col14, #T_64040_row0_col15, #T_64040_row0_col16, #T_64040_row0_col17, #T_64040_row0_col18, #T_64040_row0_col19, #T_64040_row0_col20, #T_64040_row0_col21, #T_64040_row0_col22, #T_64040_row0_col23, #T_64040_row0_col24, #T_64040_row0_col25, #T_64040_row0_col26, #T_64040_row0_col27, #T_64040_row1_col0, #T_64040_row1_col1, #T_64040_row1_col2, #T_64040_row1_col3, #T_64040_row1_col4, #T_64040_row1_col5, #T_64040_row1_col6, #T_64040_row1_col7, #T_64040_row1_col8, #T_64040_row1_col9, #T_64040_row1_col10, #T_64040_row1_col11, #T_64040_row1_col12, #T_64040_row1_col13, #T_64040_row1_col14, #T_64040_row1_col15, #T_64040_row1_col16, #T_64040_row1_col17, #T_64040_row1_col18, #T_64040_row1_col19, #T_64040_row1_col20, #T_64040_row1_col21, #T_64040_row1_col22, #T_64040_row1_col23, #T_64040_row1_col24, #T_64040_row1_col25, #T_64040_row1_col26, #T_64040_row1_col27, #T_64040_row2_col0, #T_64040_row2_col1, #T_64040_row2_col2, #T_64040_row2_col3, #T_64040_row2_col4, #T_64040_row2_col5, #T_64040_row2_col6, #T_64040_row2_col7, #T_64040_row2_col8, #T_64040_row2_col9, #T_64040_row2_col10, #T_64040_row2_col11, #T_64040_row2_col12, #T_64040_row2_col13, #T_64040_row2_col14, #T_64040_row2_col15, #T_64040_row2_col16, #T_64040_row2_col17, #T_64040_row2_col18, #T_64040_row2_col19, #T_64040_row2_col20, #T_64040_row2_col21, #T_64040_row2_col22, #T_64040_row2_col23, #T_64040_row2_col24, #T_64040_row2_col25, #T_64040_row2_col26, #T_64040_row2_col27, #T_64040_row3_col0, #T_64040_row3_col1, #T_64040_row3_col2, #T_64040_row3_col3, #T_64040_row3_col4, #T_64040_row3_col5, #T_64040_row3_col6, #T_64040_row3_col7, #T_64040_row3_col8, #T_64040_row3_col9, #T_64040_row3_col10, #T_64040_row3_col11, #T_64040_row3_col12, #T_64040_row3_col13, #T_64040_row3_col14, #T_64040_row3_col15, #T_64040_row3_col16, #T_64040_row3_col17, #T_64040_row3_col18, #T_64040_row3_col19, #T_64040_row3_col20, #T_64040_row3_col21, #T_64040_row3_col22, #T_64040_row3_col23, #T_64040_row3_col24, #T_64040_row3_col25, #T_64040_row3_col26, #T_64040_row3_col27, #T_64040_row4_col0, #T_64040_row4_col1, #T_64040_row4_col2, #T_64040_row4_col3, #T_64040_row4_col4, #T_64040_row4_col5, #T_64040_row4_col6, #T_64040_row4_col7, #T_64040_row4_col8, #T_64040_row4_col9, #T_64040_row4_col10, #T_64040_row4_col18, #T_64040_row4_col19, #T_64040_row4_col20, #T_64040_row4_col21, #T_64040_row4_col22, #T_64040_row4_col23, #T_64040_row4_col24, #T_64040_row4_col25, #T_64040_row4_col26, #T_64040_row4_col27, #T_64040_row5_col0, #T_64040_row5_col1, #T_64040_row5_col2, #T_64040_row5_col3, #T_64040_row5_col4, #T_64040_row5_col5, #T_64040_row5_col6, #T_64040_row5_col7, #T_64040_row5_col8, #T_64040_row5_col9, #T_64040_row5_col18, #T_64040_row5_col19, #T_64040_row5_col20, #T_64040_row5_col21, #T_64040_row5_col22, #T_64040_row5_col23, #T_64040_row5_col24, #T_64040_row5_col25, #T_64040_row5_col26, #T_64040_row5_col27, #T_64040_row6_col0, #T_64040_row6_col1, #T_64040_row6_col2, #T_64040_row6_col3, #T_64040_row6_col4, #T_64040_row6_col5, #T_64040_row6_col6, #T_64040_row6_col7, #T_64040_row6_col8, #T_64040_row6_col9, #T_64040_row6_col19, #T_64040_row6_col20, #T_64040_row6_col21, #T_64040_row6_col22, #T_64040_row6_col23, #T_64040_row6_col24, #T_64040_row6_col25, #T_64040_row6_col26, #T_64040_row6_col27, #T_64040_row7_col0, #T_64040_row7_col1, #T_64040_row7_col2, #T_64040_row7_col3, #T_64040_row7_col4, #T_64040_row7_col5, #T_64040_row7_col6, #T_64040_row7_col7, #T_64040_row7_col8, #T_64040_row7_col9, #T_64040_row7_col10, #T_64040_row7_col19, #T_64040_row7_col20, #T_64040_row7_col21, #T_64040_row7_col22, #T_64040_row7_col23, #T_64040_row7_col24, #T_64040_row7_col25, #T_64040_row7_col26, #T_64040_row7_col27, #T_64040_row8_col0, #T_64040_row8_col1, #T_64040_row8_col2, #T_64040_row8_col3, #T_64040_row8_col4, #T_64040_row8_col5, #T_64040_row8_col6, #T_64040_row8_col7, #T_64040_row8_col8, #T_64040_row8_col9, #T_64040_row8_col10, #T_64040_row8_col11, #T_64040_row8_col19, #T_64040_row8_col20, #T_64040_row8_col21, #T_64040_row8_col22, #T_64040_row8_col23, #T_64040_row8_col24, #T_64040_row8_col25, #T_64040_row8_col26, #T_64040_row8_col27, #T_64040_row9_col0, #T_64040_row9_col1, #T_64040_row9_col2, #T_64040_row9_col3, #T_64040_row9_col4, #T_64040_row9_col5, #T_64040_row9_col6, #T_64040_row9_col7, #T_64040_row9_col8, #T_64040_row9_col9, #T_64040_row9_col10, #T_64040_row9_col11, #T_64040_row9_col19, #T_64040_row9_col20, #T_64040_row9_col21, #T_64040_row9_col22, #T_64040_row9_col23, #T_64040_row9_col24, #T_64040_row9_col25, #T_64040_row9_col26, #T_64040_row9_col27, #T_64040_row10_col0, #T_64040_row10_col1, #T_64040_row10_col2, #T_64040_row10_col3, #T_64040_row10_col4, #T_64040_row10_col5, #T_64040_row10_col6, #T_64040_row10_col7, #T_64040_row10_col8, #T_64040_row10_col9, #T_64040_row10_col10, #T_64040_row10_col11, #T_64040_row10_col12, #T_64040_row10_col19, #T_64040_row10_col20, #T_64040_row10_col21, #T_64040_row10_col22, #T_64040_row10_col23, #T_64040_row10_col24, #T_64040_row10_col25, #T_64040_row10_col26, #T_64040_row10_col27, #T_64040_row11_col0, #T_64040_row11_col1, #T_64040_row11_col2, #T_64040_row11_col3, #T_64040_row11_col4, #T_64040_row11_col5, #T_64040_row11_col6, #T_64040_row11_col7, #T_64040_row11_col8, #T_64040_row11_col9, #T_64040_row11_col10, #T_64040_row11_col11, #T_64040_row11_col19, #T_64040_row11_col20, #T_64040_row11_col21, #T_64040_row11_col22, #T_64040_row11_col23, #T_64040_row11_col24, #T_64040_row11_col25, #T_64040_row11_col26, #T_64040_row11_col27, #T_64040_row12_col0, #T_64040_row12_col1, #T_64040_row12_col2, #T_64040_row12_col3, #T_64040_row12_col4, #T_64040_row12_col5, #T_64040_row12_col6, #T_64040_row12_col7, #T_64040_row12_col8, #T_64040_row12_col9, #T_64040_row12_col19, #T_64040_row12_col20, #T_64040_row12_col21, #T_64040_row12_col22, #T_64040_row12_col23, #T_64040_row12_col24, #T_64040_row12_col25, #T_64040_row12_col26, #T_64040_row12_col27, #T_64040_row13_col0, #T_64040_row13_col1, #T_64040_row13_col2, #T_64040_row13_col3, #T_64040_row13_col4, #T_64040_row13_col5, #T_64040_row13_col6, #T_64040_row13_col7, #T_64040_row13_col8, #T_64040_row13_col9, #T_64040_row13_col19, #T_64040_row13_col20, #T_64040_row13_col21, #T_64040_row13_col22, #T_64040_row13_col23, #T_64040_row13_col24, #T_64040_row13_col25, #T_64040_row13_col26, #T_64040_row13_col27, #T_64040_row14_col0, #T_64040_row14_col1, #T_64040_row14_col2, #T_64040_row14_col3, #T_64040_row14_col4, #T_64040_row14_col5, #T_64040_row14_col6, #T_64040_row14_col7, #T_64040_row14_col8, #T_64040_row14_col9, #T_64040_row14_col10, #T_64040_row14_col19, #T_64040_row14_col20, #T_64040_row14_col21, #T_64040_row14_col22, #T_64040_row14_col23, #T_64040_row14_col24, #T_64040_row14_col25, #T_64040_row14_col26, #T_64040_row14_col27, #T_64040_row15_col0, #T_64040_row15_col1, #T_64040_row15_col2, #T_64040_row15_col3, #T_64040_row15_col4, #T_64040_row15_col5, #T_64040_row15_col6, #T_64040_row15_col7, #T_64040_row15_col8, #T_64040_row15_col9, #T_64040_row15_col10, #T_64040_row15_col11, #T_64040_row15_col19, #T_64040_row15_col20, #T_64040_row15_col21, #T_64040_row15_col22, #T_64040_row15_col23, #T_64040_row15_col24, #T_64040_row15_col25, #T_64040_row15_col26, #T_64040_row15_col27, #T_64040_row16_col0, #T_64040_row16_col1, #T_64040_row16_col2, #T_64040_row16_col3, #T_64040_row16_col4, #T_64040_row16_col5, #T_64040_row16_col6, #T_64040_row16_col7, #T_64040_row16_col8, #T_64040_row16_col9, #T_64040_row16_col10, #T_64040_row16_col11, #T_64040_row16_col12, #T_64040_row16_col13, #T_64040_row16_col14, #T_64040_row16_col15, #T_64040_row16_col20, #T_64040_row16_col21, #T_64040_row16_col22, #T_64040_row16_col23, #T_64040_row16_col24, #T_64040_row16_col25, #T_64040_row16_col26, #T_64040_row16_col27, #T_64040_row17_col0, #T_64040_row17_col1, #T_64040_row17_col2, #T_64040_row17_col3, #T_64040_row17_col4, #T_64040_row17_col5, #T_64040_row17_col6, #T_64040_row17_col7, #T_64040_row17_col8, #T_64040_row17_col9, #T_64040_row17_col10, #T_64040_row17_col11, #T_64040_row17_col12, #T_64040_row17_col13, #T_64040_row17_col14, #T_64040_row17_col20, #T_64040_row17_col21, #T_64040_row17_col22, #T_64040_row17_col23, #T_64040_row17_col24, #T_64040_row17_col25, #T_64040_row17_col26, #T_64040_row17_col27, #T_64040_row18_col0, #T_64040_row18_col1, #T_64040_row18_col2, #T_64040_row18_col3, #T_64040_row18_col4, #T_64040_row18_col5, #T_64040_row18_col6, #T_64040_row18_col7, #T_64040_row18_col8, #T_64040_row18_col9, #T_64040_row18_col10, #T_64040_row18_col11, #T_64040_row18_col12, #T_64040_row18_col13, #T_64040_row18_col14, #T_64040_row18_col19, #T_64040_row18_col20, #T_64040_row18_col21, #T_64040_row18_col22, #T_64040_row18_col23, #T_64040_row18_col24, #T_64040_row18_col25, #T_64040_row18_col26, #T_64040_row18_col27, #T_64040_row19_col0, #T_64040_row19_col1, #T_64040_row19_col2, #T_64040_row19_col3, #T_64040_row19_col4, #T_64040_row19_col5, #T_64040_row19_col9, #T_64040_row19_col10, #T_64040_row19_col11, #T_64040_row19_col12, #T_64040_row19_col13, #T_64040_row19_col19, #T_64040_row19_col20, #T_64040_row19_col21, #T_64040_row19_col22, #T_64040_row19_col23, #T_64040_row19_col24, #T_64040_row19_col25, #T_64040_row19_col26, #T_64040_row19_col27, #T_64040_row20_col0, #T_64040_row20_col1, #T_64040_row20_col2, #T_64040_row20_col3, #T_64040_row20_col4, #T_64040_row20_col5, #T_64040_row20_col11, #T_64040_row20_col19, #T_64040_row20_col20, #T_64040_row20_col21, #T_64040_row20_col22, #T_64040_row20_col23, #T_64040_row20_col24, #T_64040_row20_col25, #T_64040_row20_col26, #T_64040_row20_col27, #T_64040_row21_col0, #T_64040_row21_col1, #T_64040_row21_col2, #T_64040_row21_col3, #T_64040_row21_col4, #T_64040_row21_col5, #T_64040_row21_col18, #T_64040_row21_col19, #T_64040_row21_col20, #T_64040_row21_col21, #T_64040_row21_col22, #T_64040_row21_col23, #T_64040_row21_col24, #T_64040_row21_col25, #T_64040_row21_col26, #T_64040_row21_col27, #T_64040_row22_col0, #T_64040_row22_col1, #T_64040_row22_col2, #T_64040_row22_col3, #T_64040_row22_col4, #T_64040_row22_col5, #T_64040_row22_col6, #T_64040_row22_col16, #T_64040_row22_col17, #T_64040_row22_col18, #T_64040_row22_col19, #T_64040_row22_col20, #T_64040_row22_col21, #T_64040_row22_col22, #T_64040_row22_col23, #T_64040_row22_col24, #T_64040_row22_col25, #T_64040_row22_col26, #T_64040_row22_col27, #T_64040_row23_col0, #T_64040_row23_col1, #T_64040_row23_col2, #T_64040_row23_col3, #T_64040_row23_col4, #T_64040_row23_col5, #T_64040_row23_col6, #T_64040_row23_col7, #T_64040_row23_col16, #T_64040_row23_col17, #T_64040_row23_col18, #T_64040_row23_col19, #T_64040_row23_col20, #T_64040_row23_col21, #T_64040_row23_col22, #T_64040_row23_col23, #T_64040_row23_col24, #T_64040_row23_col25, #T_64040_row23_col26, #T_64040_row23_col27, #T_64040_row24_col0, #T_64040_row24_col1, #T_64040_row24_col2, #T_64040_row24_col3, #T_64040_row24_col4, #T_64040_row24_col5, #T_64040_row24_col6, #T_64040_row24_col7, #T_64040_row24_col8, #T_64040_row24_col9, #T_64040_row24_col10, #T_64040_row24_col11, #T_64040_row24_col12, #T_64040_row24_col13, #T_64040_row24_col14, #T_64040_row24_col15, #T_64040_row24_col16, #T_64040_row24_col17, #T_64040_row24_col18, #T_64040_row24_col19, #T_64040_row24_col20, #T_64040_row24_col21, #T_64040_row24_col22, #T_64040_row24_col23, #T_64040_row24_col24, #T_64040_row24_col25, #T_64040_row24_col26, #T_64040_row24_col27, #T_64040_row25_col0, #T_64040_row25_col1, #T_64040_row25_col2, #T_64040_row25_col3, #T_64040_row25_col4, #T_64040_row25_col5, #T_64040_row25_col6, #T_64040_row25_col7, #T_64040_row25_col8, #T_64040_row25_col9, #T_64040_row25_col10, #T_64040_row25_col11, #T_64040_row25_col12, #T_64040_row25_col13, #T_64040_row25_col14, #T_64040_row25_col15, #T_64040_row25_col16, #T_64040_row25_col17, #T_64040_row25_col18, #T_64040_row25_col19, #T_64040_row25_col20, #T_64040_row25_col21, #T_64040_row25_col22, #T_64040_row25_col23, #T_64040_row25_col24, #T_64040_row25_col25, #T_64040_row25_col26, #T_64040_row25_col27, #T_64040_row26_col0, #T_64040_row26_col1, #T_64040_row26_col2, #T_64040_row26_col3, #T_64040_row26_col4, #T_64040_row26_col5, #T_64040_row26_col6, #T_64040_row26_col7, #T_64040_row26_col8, #T_64040_row26_col9, #T_64040_row26_col10, #T_64040_row26_col11, #T_64040_row26_col12, #T_64040_row26_col13, #T_64040_row26_col14, #T_64040_row26_col15, #T_64040_row26_col16, #T_64040_row26_col17, #T_64040_row26_col18, #T_64040_row26_col19, #T_64040_row26_col20, #T_64040_row26_col21, #T_64040_row26_col22, #T_64040_row26_col23, #T_64040_row26_col24, #T_64040_row26_col25, #T_64040_row26_col26, #T_64040_row26_col27, #T_64040_row27_col0, #T_64040_row27_col1, #T_64040_row27_col2, #T_64040_row27_col3, #T_64040_row27_col4, #T_64040_row27_col5, #T_64040_row27_col6, #T_64040_row27_col7, #T_64040_row27_col8, #T_64040_row27_col9, #T_64040_row27_col10, #T_64040_row27_col11, #T_64040_row27_col12, #T_64040_row27_col13, #T_64040_row27_col14, #T_64040_row27_col15, #T_64040_row27_col16, #T_64040_row27_col17, #T_64040_row27_col18, #T_64040_row27_col19, #T_64040_row27_col20, #T_64040_row27_col21, #T_64040_row27_col22, #T_64040_row27_col23, #T_64040_row27_col24, #T_64040_row27_col25, #T_64040_row27_col26, #T_64040_row27_col27 {\n",
       "  font-size: 8pt;\n",
       "  background-color: #ffffff;\n",
       "  color: #000000;\n",
       "}\n",
       "#T_64040_row4_col11 {\n",
       "  font-size: 8pt;\n",
       "  background-color: #e9e9e9;\n",
       "  color: #000000;\n",
       "}\n",
       "#T_64040_row4_col12, #T_64040_row4_col15, #T_64040_row4_col16 {\n",
       "  font-size: 8pt;\n",
       "  background-color: #a2a2a2;\n",
       "  color: #f1f1f1;\n",
       "}\n",
       "#T_64040_row4_col13 {\n",
       "  font-size: 8pt;\n",
       "  background-color: #292929;\n",
       "  color: #f1f1f1;\n",
       "}\n",
       "#T_64040_row4_col14 {\n",
       "  font-size: 8pt;\n",
       "  background-color: #6b6b6b;\n",
       "  color: #f1f1f1;\n",
       "}\n",
       "#T_64040_row4_col17, #T_64040_row17_col15, #T_64040_row23_col8 {\n",
       "  font-size: 8pt;\n",
       "  background-color: #fcfcfc;\n",
       "  color: #000000;\n",
       "}\n",
       "#T_64040_row5_col10 {\n",
       "  font-size: 8pt;\n",
       "  background-color: #b4b4b4;\n",
       "  color: #000000;\n",
       "}\n",
       "#T_64040_row5_col11 {\n",
       "  font-size: 8pt;\n",
       "  background-color: #0e0e0e;\n",
       "  color: #f1f1f1;\n",
       "}\n",
       "#T_64040_row5_col12, #T_64040_row5_col13, #T_64040_row5_col14, #T_64040_row5_col15, #T_64040_row5_col16, #T_64040_row6_col12, #T_64040_row6_col13, #T_64040_row6_col14, #T_64040_row6_col15, #T_64040_row6_col16, #T_64040_row7_col13, #T_64040_row7_col15, #T_64040_row7_col16, #T_64040_row7_col17, #T_64040_row8_col13, #T_64040_row8_col15, #T_64040_row8_col16, #T_64040_row8_col17, #T_64040_row9_col14, #T_64040_row9_col15, #T_64040_row9_col16, #T_64040_row9_col17, #T_64040_row10_col15, #T_64040_row10_col16, #T_64040_row10_col17, #T_64040_row11_col15, #T_64040_row11_col16, #T_64040_row11_col17, #T_64040_row12_col13, #T_64040_row12_col14, #T_64040_row12_col15, #T_64040_row12_col16, #T_64040_row12_col17, #T_64040_row13_col12, #T_64040_row13_col13, #T_64040_row13_col14, #T_64040_row13_col15, #T_64040_row13_col16, #T_64040_row13_col17, #T_64040_row14_col13, #T_64040_row14_col14, #T_64040_row14_col15, #T_64040_row14_col16, #T_64040_row14_col17, #T_64040_row15_col17, #T_64040_row16_col17, #T_64040_row16_col18, #T_64040_row16_col19, #T_64040_row17_col16, #T_64040_row17_col17, #T_64040_row18_col16, #T_64040_row18_col17, #T_64040_row19_col16, #T_64040_row19_col17, #T_64040_row20_col6, #T_64040_row20_col7, #T_64040_row20_col15, #T_64040_row20_col16, #T_64040_row21_col8, #T_64040_row21_col9, #T_64040_row21_col13, #T_64040_row21_col14, #T_64040_row22_col9, #T_64040_row22_col10, #T_64040_row22_col11, #T_64040_row22_col12, #T_64040_row22_col13, #T_64040_row22_col14, #T_64040_row23_col12, #T_64040_row23_col13 {\n",
       "  font-size: 8pt;\n",
       "  background-color: #000000;\n",
       "  color: #f1f1f1;\n",
       "}\n",
       "#T_64040_row5_col17 {\n",
       "  font-size: 8pt;\n",
       "  background-color: #d7d7d7;\n",
       "  color: #000000;\n",
       "}\n",
       "#T_64040_row6_col10 {\n",
       "  font-size: 8pt;\n",
       "  background-color: #f7f7f7;\n",
       "  color: #000000;\n",
       "}\n",
       "#T_64040_row6_col11 {\n",
       "  font-size: 8pt;\n",
       "  background-color: #1a1a1a;\n",
       "  color: #f1f1f1;\n",
       "}\n",
       "#T_64040_row6_col17 {\n",
       "  font-size: 8pt;\n",
       "  background-color: #131313;\n",
       "  color: #f1f1f1;\n",
       "}\n",
       "#T_64040_row6_col18, #T_64040_row13_col10 {\n",
       "  font-size: 8pt;\n",
       "  background-color: #cacaca;\n",
       "  color: #000000;\n",
       "}\n",
       "#T_64040_row7_col11 {\n",
       "  font-size: 8pt;\n",
       "  background-color: #b3b3b3;\n",
       "  color: #000000;\n",
       "}\n",
       "#T_64040_row7_col12 {\n",
       "  font-size: 8pt;\n",
       "  background-color: #0c0c0c;\n",
       "  color: #f1f1f1;\n",
       "}\n",
       "#T_64040_row7_col14 {\n",
       "  font-size: 8pt;\n",
       "  background-color: #232323;\n",
       "  color: #f1f1f1;\n",
       "}\n",
       "#T_64040_row7_col18 {\n",
       "  font-size: 8pt;\n",
       "  background-color: #6e6e6e;\n",
       "  color: #f1f1f1;\n",
       "}\n",
       "#T_64040_row8_col12 {\n",
       "  font-size: 8pt;\n",
       "  background-color: #3a3a3a;\n",
       "  color: #f1f1f1;\n",
       "}\n",
       "#T_64040_row8_col14 {\n",
       "  font-size: 8pt;\n",
       "  background-color: #363636;\n",
       "  color: #f1f1f1;\n",
       "}\n",
       "#T_64040_row8_col18, #T_64040_row12_col18, #T_64040_row19_col18 {\n",
       "  font-size: 8pt;\n",
       "  background-color: #ebebeb;\n",
       "  color: #000000;\n",
       "}\n",
       "#T_64040_row9_col12 {\n",
       "  font-size: 8pt;\n",
       "  background-color: #c7c7c7;\n",
       "  color: #000000;\n",
       "}\n",
       "#T_64040_row9_col13, #T_64040_row20_col14 {\n",
       "  font-size: 8pt;\n",
       "  background-color: #3c3c3c;\n",
       "  color: #f1f1f1;\n",
       "}\n",
       "#T_64040_row9_col18 {\n",
       "  font-size: 8pt;\n",
       "  background-color: #e5e5e5;\n",
       "  color: #000000;\n",
       "}\n",
       "#T_64040_row10_col13 {\n",
       "  font-size: 8pt;\n",
       "  background-color: #f4f4f4;\n",
       "  color: #000000;\n",
       "}\n",
       "#T_64040_row10_col14 {\n",
       "  font-size: 8pt;\n",
       "  background-color: #383838;\n",
       "  color: #f1f1f1;\n",
       "}\n",
       "#T_64040_row10_col18, #T_64040_row14_col18, #T_64040_row15_col18 {\n",
       "  font-size: 8pt;\n",
       "  background-color: #474747;\n",
       "  color: #f1f1f1;\n",
       "}\n",
       "#T_64040_row11_col12 {\n",
       "  font-size: 8pt;\n",
       "  background-color: #c1c1c1;\n",
       "  color: #000000;\n",
       "}\n",
       "#T_64040_row11_col13 {\n",
       "  font-size: 8pt;\n",
       "  background-color: #8a8a8a;\n",
       "  color: #f1f1f1;\n",
       "}\n",
       "#T_64040_row11_col14, #T_64040_row21_col15 {\n",
       "  font-size: 8pt;\n",
       "  background-color: #010101;\n",
       "  color: #f1f1f1;\n",
       "}\n",
       "#T_64040_row11_col18 {\n",
       "  font-size: 8pt;\n",
       "  background-color: #939393;\n",
       "  color: #f1f1f1;\n",
       "}\n",
       "#T_64040_row12_col10 {\n",
       "  font-size: 8pt;\n",
       "  background-color: #eaeaea;\n",
       "  color: #000000;\n",
       "}\n",
       "#T_64040_row12_col11 {\n",
       "  font-size: 8pt;\n",
       "  background-color: #303030;\n",
       "  color: #f1f1f1;\n",
       "}\n",
       "#T_64040_row12_col12 {\n",
       "  font-size: 8pt;\n",
       "  background-color: #050505;\n",
       "  color: #f1f1f1;\n",
       "}\n",
       "#T_64040_row13_col11 {\n",
       "  font-size: 8pt;\n",
       "  background-color: #080808;\n",
       "  color: #f1f1f1;\n",
       "}\n",
       "#T_64040_row13_col18 {\n",
       "  font-size: 8pt;\n",
       "  background-color: #686868;\n",
       "  color: #f1f1f1;\n",
       "}\n",
       "#T_64040_row14_col11 {\n",
       "  font-size: 8pt;\n",
       "  background-color: #ababab;\n",
       "  color: #000000;\n",
       "}\n",
       "#T_64040_row14_col12 {\n",
       "  font-size: 8pt;\n",
       "  background-color: #090909;\n",
       "  color: #f1f1f1;\n",
       "}\n",
       "#T_64040_row15_col12 {\n",
       "  font-size: 8pt;\n",
       "  background-color: #d1d1d1;\n",
       "  color: #000000;\n",
       "}\n",
       "#T_64040_row15_col13, #T_64040_row15_col14, #T_64040_row20_col13 {\n",
       "  font-size: 8pt;\n",
       "  background-color: #c3c3c3;\n",
       "  color: #000000;\n",
       "}\n",
       "#T_64040_row15_col15 {\n",
       "  font-size: 8pt;\n",
       "  background-color: #bfbfbf;\n",
       "  color: #000000;\n",
       "}\n",
       "#T_64040_row15_col16, #T_64040_row19_col15 {\n",
       "  font-size: 8pt;\n",
       "  background-color: #101010;\n",
       "  color: #f1f1f1;\n",
       "}\n",
       "#T_64040_row16_col16 {\n",
       "  font-size: 8pt;\n",
       "  background-color: #949494;\n",
       "  color: #f1f1f1;\n",
       "}\n",
       "#T_64040_row17_col18 {\n",
       "  font-size: 8pt;\n",
       "  background-color: #060606;\n",
       "  color: #f1f1f1;\n",
       "}\n",
       "#T_64040_row17_col19 {\n",
       "  font-size: 8pt;\n",
       "  background-color: #1c1c1c;\n",
       "  color: #f1f1f1;\n",
       "}\n",
       "#T_64040_row18_col15 {\n",
       "  font-size: 8pt;\n",
       "  background-color: #898989;\n",
       "  color: #f1f1f1;\n",
       "}\n",
       "#T_64040_row18_col18 {\n",
       "  font-size: 8pt;\n",
       "  background-color: #8e8e8e;\n",
       "  color: #f1f1f1;\n",
       "}\n",
       "#T_64040_row19_col6 {\n",
       "  font-size: 8pt;\n",
       "  background-color: #f1f1f1;\n",
       "  color: #000000;\n",
       "}\n",
       "#T_64040_row19_col7 {\n",
       "  font-size: 8pt;\n",
       "  background-color: #606060;\n",
       "  color: #f1f1f1;\n",
       "}\n",
       "#T_64040_row19_col8 {\n",
       "  font-size: 8pt;\n",
       "  background-color: #c2c2c2;\n",
       "  color: #000000;\n",
       "}\n",
       "#T_64040_row19_col14 {\n",
       "  font-size: 8pt;\n",
       "  background-color: #f3f3f3;\n",
       "  color: #000000;\n",
       "}\n",
       "#T_64040_row20_col8 {\n",
       "  font-size: 8pt;\n",
       "  background-color: #2f2f2f;\n",
       "  color: #f1f1f1;\n",
       "}\n",
       "#T_64040_row20_col9 {\n",
       "  font-size: 8pt;\n",
       "  background-color: #dadada;\n",
       "  color: #000000;\n",
       "}\n",
       "#T_64040_row20_col10 {\n",
       "  font-size: 8pt;\n",
       "  background-color: #ededed;\n",
       "  color: #000000;\n",
       "}\n",
       "#T_64040_row20_col12 {\n",
       "  font-size: 8pt;\n",
       "  background-color: #e2e2e2;\n",
       "  color: #000000;\n",
       "}\n",
       "#T_64040_row20_col17 {\n",
       "  font-size: 8pt;\n",
       "  background-color: #888888;\n",
       "  color: #f1f1f1;\n",
       "}\n",
       "#T_64040_row20_col18 {\n",
       "  font-size: 8pt;\n",
       "  background-color: #fbfbfb;\n",
       "  color: #000000;\n",
       "}\n",
       "#T_64040_row21_col6 {\n",
       "  font-size: 8pt;\n",
       "  background-color: #c4c4c4;\n",
       "  color: #000000;\n",
       "}\n",
       "#T_64040_row21_col7 {\n",
       "  font-size: 8pt;\n",
       "  background-color: #484848;\n",
       "  color: #f1f1f1;\n",
       "}\n",
       "#T_64040_row21_col10 {\n",
       "  font-size: 8pt;\n",
       "  background-color: #252525;\n",
       "  color: #f1f1f1;\n",
       "}\n",
       "#T_64040_row21_col11 {\n",
       "  font-size: 8pt;\n",
       "  background-color: #5d5d5d;\n",
       "  color: #f1f1f1;\n",
       "}\n",
       "#T_64040_row21_col12 {\n",
       "  font-size: 8pt;\n",
       "  background-color: #0f0f0f;\n",
       "  color: #f1f1f1;\n",
       "}\n",
       "#T_64040_row21_col16 {\n",
       "  font-size: 8pt;\n",
       "  background-color: #323232;\n",
       "  color: #f1f1f1;\n",
       "}\n",
       "#T_64040_row21_col17 {\n",
       "  font-size: 8pt;\n",
       "  background-color: #fafafa;\n",
       "  color: #000000;\n",
       "}\n",
       "#T_64040_row22_col7 {\n",
       "  font-size: 8pt;\n",
       "  background-color: #878787;\n",
       "  color: #f1f1f1;\n",
       "}\n",
       "#T_64040_row22_col8 {\n",
       "  font-size: 8pt;\n",
       "  background-color: #b2b2b2;\n",
       "  color: #000000;\n",
       "}\n",
       "#T_64040_row22_col15 {\n",
       "  font-size: 8pt;\n",
       "  background-color: #151515;\n",
       "  color: #f1f1f1;\n",
       "}\n",
       "#T_64040_row23_col9, #T_64040_row23_col10 {\n",
       "  font-size: 8pt;\n",
       "  background-color: #a3a3a3;\n",
       "  color: #f1f1f1;\n",
       "}\n",
       "#T_64040_row23_col11 {\n",
       "  font-size: 8pt;\n",
       "  background-color: #6c6c6c;\n",
       "  color: #f1f1f1;\n",
       "}\n",
       "#T_64040_row23_col14 {\n",
       "  font-size: 8pt;\n",
       "  background-color: #111111;\n",
       "  color: #f1f1f1;\n",
       "}\n",
       "#T_64040_row23_col15 {\n",
       "  font-size: 8pt;\n",
       "  background-color: #e3e3e3;\n",
       "  color: #000000;\n",
       "}\n",
       "</style>\n",
       "<table id=\"T_64040\">\n",
       "  <thead>\n",
       "    <tr>\n",
       "      <th class=\"blank level0\" >&nbsp;</th>\n",
       "      <th id=\"T_64040_level0_col0\" class=\"col_heading level0 col0\" >0</th>\n",
       "      <th id=\"T_64040_level0_col1\" class=\"col_heading level0 col1\" >1</th>\n",
       "      <th id=\"T_64040_level0_col2\" class=\"col_heading level0 col2\" >2</th>\n",
       "      <th id=\"T_64040_level0_col3\" class=\"col_heading level0 col3\" >3</th>\n",
       "      <th id=\"T_64040_level0_col4\" class=\"col_heading level0 col4\" >4</th>\n",
       "      <th id=\"T_64040_level0_col5\" class=\"col_heading level0 col5\" >5</th>\n",
       "      <th id=\"T_64040_level0_col6\" class=\"col_heading level0 col6\" >6</th>\n",
       "      <th id=\"T_64040_level0_col7\" class=\"col_heading level0 col7\" >7</th>\n",
       "      <th id=\"T_64040_level0_col8\" class=\"col_heading level0 col8\" >8</th>\n",
       "      <th id=\"T_64040_level0_col9\" class=\"col_heading level0 col9\" >9</th>\n",
       "      <th id=\"T_64040_level0_col10\" class=\"col_heading level0 col10\" >10</th>\n",
       "      <th id=\"T_64040_level0_col11\" class=\"col_heading level0 col11\" >11</th>\n",
       "      <th id=\"T_64040_level0_col12\" class=\"col_heading level0 col12\" >12</th>\n",
       "      <th id=\"T_64040_level0_col13\" class=\"col_heading level0 col13\" >13</th>\n",
       "      <th id=\"T_64040_level0_col14\" class=\"col_heading level0 col14\" >14</th>\n",
       "      <th id=\"T_64040_level0_col15\" class=\"col_heading level0 col15\" >15</th>\n",
       "      <th id=\"T_64040_level0_col16\" class=\"col_heading level0 col16\" >16</th>\n",
       "      <th id=\"T_64040_level0_col17\" class=\"col_heading level0 col17\" >17</th>\n",
       "      <th id=\"T_64040_level0_col18\" class=\"col_heading level0 col18\" >18</th>\n",
       "      <th id=\"T_64040_level0_col19\" class=\"col_heading level0 col19\" >19</th>\n",
       "      <th id=\"T_64040_level0_col20\" class=\"col_heading level0 col20\" >20</th>\n",
       "      <th id=\"T_64040_level0_col21\" class=\"col_heading level0 col21\" >21</th>\n",
       "      <th id=\"T_64040_level0_col22\" class=\"col_heading level0 col22\" >22</th>\n",
       "      <th id=\"T_64040_level0_col23\" class=\"col_heading level0 col23\" >23</th>\n",
       "      <th id=\"T_64040_level0_col24\" class=\"col_heading level0 col24\" >24</th>\n",
       "      <th id=\"T_64040_level0_col25\" class=\"col_heading level0 col25\" >25</th>\n",
       "      <th id=\"T_64040_level0_col26\" class=\"col_heading level0 col26\" >26</th>\n",
       "      <th id=\"T_64040_level0_col27\" class=\"col_heading level0 col27\" >27</th>\n",
       "    </tr>\n",
       "  </thead>\n",
       "  <tbody>\n",
       "    <tr>\n",
       "      <th id=\"T_64040_level0_row0\" class=\"row_heading level0 row0\" >0</th>\n",
       "      <td id=\"T_64040_row0_col0\" class=\"data row0 col0\" >0</td>\n",
       "      <td id=\"T_64040_row0_col1\" class=\"data row0 col1\" >0</td>\n",
       "      <td id=\"T_64040_row0_col2\" class=\"data row0 col2\" >0</td>\n",
       "      <td id=\"T_64040_row0_col3\" class=\"data row0 col3\" >0</td>\n",
       "      <td id=\"T_64040_row0_col4\" class=\"data row0 col4\" >0</td>\n",
       "      <td id=\"T_64040_row0_col5\" class=\"data row0 col5\" >0</td>\n",
       "      <td id=\"T_64040_row0_col6\" class=\"data row0 col6\" >0</td>\n",
       "      <td id=\"T_64040_row0_col7\" class=\"data row0 col7\" >0</td>\n",
       "      <td id=\"T_64040_row0_col8\" class=\"data row0 col8\" >0</td>\n",
       "      <td id=\"T_64040_row0_col9\" class=\"data row0 col9\" >0</td>\n",
       "      <td id=\"T_64040_row0_col10\" class=\"data row0 col10\" >0</td>\n",
       "      <td id=\"T_64040_row0_col11\" class=\"data row0 col11\" >0</td>\n",
       "      <td id=\"T_64040_row0_col12\" class=\"data row0 col12\" >0</td>\n",
       "      <td id=\"T_64040_row0_col13\" class=\"data row0 col13\" >0</td>\n",
       "      <td id=\"T_64040_row0_col14\" class=\"data row0 col14\" >0</td>\n",
       "      <td id=\"T_64040_row0_col15\" class=\"data row0 col15\" >0</td>\n",
       "      <td id=\"T_64040_row0_col16\" class=\"data row0 col16\" >0</td>\n",
       "      <td id=\"T_64040_row0_col17\" class=\"data row0 col17\" >0</td>\n",
       "      <td id=\"T_64040_row0_col18\" class=\"data row0 col18\" >0</td>\n",
       "      <td id=\"T_64040_row0_col19\" class=\"data row0 col19\" >0</td>\n",
       "      <td id=\"T_64040_row0_col20\" class=\"data row0 col20\" >0</td>\n",
       "      <td id=\"T_64040_row0_col21\" class=\"data row0 col21\" >0</td>\n",
       "      <td id=\"T_64040_row0_col22\" class=\"data row0 col22\" >0</td>\n",
       "      <td id=\"T_64040_row0_col23\" class=\"data row0 col23\" >0</td>\n",
       "      <td id=\"T_64040_row0_col24\" class=\"data row0 col24\" >0</td>\n",
       "      <td id=\"T_64040_row0_col25\" class=\"data row0 col25\" >0</td>\n",
       "      <td id=\"T_64040_row0_col26\" class=\"data row0 col26\" >0</td>\n",
       "      <td id=\"T_64040_row0_col27\" class=\"data row0 col27\" >0</td>\n",
       "    </tr>\n",
       "    <tr>\n",
       "      <th id=\"T_64040_level0_row1\" class=\"row_heading level0 row1\" >1</th>\n",
       "      <td id=\"T_64040_row1_col0\" class=\"data row1 col0\" >0</td>\n",
       "      <td id=\"T_64040_row1_col1\" class=\"data row1 col1\" >0</td>\n",
       "      <td id=\"T_64040_row1_col2\" class=\"data row1 col2\" >0</td>\n",
       "      <td id=\"T_64040_row1_col3\" class=\"data row1 col3\" >0</td>\n",
       "      <td id=\"T_64040_row1_col4\" class=\"data row1 col4\" >0</td>\n",
       "      <td id=\"T_64040_row1_col5\" class=\"data row1 col5\" >0</td>\n",
       "      <td id=\"T_64040_row1_col6\" class=\"data row1 col6\" >0</td>\n",
       "      <td id=\"T_64040_row1_col7\" class=\"data row1 col7\" >0</td>\n",
       "      <td id=\"T_64040_row1_col8\" class=\"data row1 col8\" >0</td>\n",
       "      <td id=\"T_64040_row1_col9\" class=\"data row1 col9\" >0</td>\n",
       "      <td id=\"T_64040_row1_col10\" class=\"data row1 col10\" >0</td>\n",
       "      <td id=\"T_64040_row1_col11\" class=\"data row1 col11\" >0</td>\n",
       "      <td id=\"T_64040_row1_col12\" class=\"data row1 col12\" >0</td>\n",
       "      <td id=\"T_64040_row1_col13\" class=\"data row1 col13\" >0</td>\n",
       "      <td id=\"T_64040_row1_col14\" class=\"data row1 col14\" >0</td>\n",
       "      <td id=\"T_64040_row1_col15\" class=\"data row1 col15\" >0</td>\n",
       "      <td id=\"T_64040_row1_col16\" class=\"data row1 col16\" >0</td>\n",
       "      <td id=\"T_64040_row1_col17\" class=\"data row1 col17\" >0</td>\n",
       "      <td id=\"T_64040_row1_col18\" class=\"data row1 col18\" >0</td>\n",
       "      <td id=\"T_64040_row1_col19\" class=\"data row1 col19\" >0</td>\n",
       "      <td id=\"T_64040_row1_col20\" class=\"data row1 col20\" >0</td>\n",
       "      <td id=\"T_64040_row1_col21\" class=\"data row1 col21\" >0</td>\n",
       "      <td id=\"T_64040_row1_col22\" class=\"data row1 col22\" >0</td>\n",
       "      <td id=\"T_64040_row1_col23\" class=\"data row1 col23\" >0</td>\n",
       "      <td id=\"T_64040_row1_col24\" class=\"data row1 col24\" >0</td>\n",
       "      <td id=\"T_64040_row1_col25\" class=\"data row1 col25\" >0</td>\n",
       "      <td id=\"T_64040_row1_col26\" class=\"data row1 col26\" >0</td>\n",
       "      <td id=\"T_64040_row1_col27\" class=\"data row1 col27\" >0</td>\n",
       "    </tr>\n",
       "    <tr>\n",
       "      <th id=\"T_64040_level0_row2\" class=\"row_heading level0 row2\" >2</th>\n",
       "      <td id=\"T_64040_row2_col0\" class=\"data row2 col0\" >0</td>\n",
       "      <td id=\"T_64040_row2_col1\" class=\"data row2 col1\" >0</td>\n",
       "      <td id=\"T_64040_row2_col2\" class=\"data row2 col2\" >0</td>\n",
       "      <td id=\"T_64040_row2_col3\" class=\"data row2 col3\" >0</td>\n",
       "      <td id=\"T_64040_row2_col4\" class=\"data row2 col4\" >0</td>\n",
       "      <td id=\"T_64040_row2_col5\" class=\"data row2 col5\" >0</td>\n",
       "      <td id=\"T_64040_row2_col6\" class=\"data row2 col6\" >0</td>\n",
       "      <td id=\"T_64040_row2_col7\" class=\"data row2 col7\" >0</td>\n",
       "      <td id=\"T_64040_row2_col8\" class=\"data row2 col8\" >0</td>\n",
       "      <td id=\"T_64040_row2_col9\" class=\"data row2 col9\" >0</td>\n",
       "      <td id=\"T_64040_row2_col10\" class=\"data row2 col10\" >0</td>\n",
       "      <td id=\"T_64040_row2_col11\" class=\"data row2 col11\" >0</td>\n",
       "      <td id=\"T_64040_row2_col12\" class=\"data row2 col12\" >0</td>\n",
       "      <td id=\"T_64040_row2_col13\" class=\"data row2 col13\" >0</td>\n",
       "      <td id=\"T_64040_row2_col14\" class=\"data row2 col14\" >0</td>\n",
       "      <td id=\"T_64040_row2_col15\" class=\"data row2 col15\" >0</td>\n",
       "      <td id=\"T_64040_row2_col16\" class=\"data row2 col16\" >0</td>\n",
       "      <td id=\"T_64040_row2_col17\" class=\"data row2 col17\" >0</td>\n",
       "      <td id=\"T_64040_row2_col18\" class=\"data row2 col18\" >0</td>\n",
       "      <td id=\"T_64040_row2_col19\" class=\"data row2 col19\" >0</td>\n",
       "      <td id=\"T_64040_row2_col20\" class=\"data row2 col20\" >0</td>\n",
       "      <td id=\"T_64040_row2_col21\" class=\"data row2 col21\" >0</td>\n",
       "      <td id=\"T_64040_row2_col22\" class=\"data row2 col22\" >0</td>\n",
       "      <td id=\"T_64040_row2_col23\" class=\"data row2 col23\" >0</td>\n",
       "      <td id=\"T_64040_row2_col24\" class=\"data row2 col24\" >0</td>\n",
       "      <td id=\"T_64040_row2_col25\" class=\"data row2 col25\" >0</td>\n",
       "      <td id=\"T_64040_row2_col26\" class=\"data row2 col26\" >0</td>\n",
       "      <td id=\"T_64040_row2_col27\" class=\"data row2 col27\" >0</td>\n",
       "    </tr>\n",
       "    <tr>\n",
       "      <th id=\"T_64040_level0_row3\" class=\"row_heading level0 row3\" >3</th>\n",
       "      <td id=\"T_64040_row3_col0\" class=\"data row3 col0\" >0</td>\n",
       "      <td id=\"T_64040_row3_col1\" class=\"data row3 col1\" >0</td>\n",
       "      <td id=\"T_64040_row3_col2\" class=\"data row3 col2\" >0</td>\n",
       "      <td id=\"T_64040_row3_col3\" class=\"data row3 col3\" >0</td>\n",
       "      <td id=\"T_64040_row3_col4\" class=\"data row3 col4\" >0</td>\n",
       "      <td id=\"T_64040_row3_col5\" class=\"data row3 col5\" >0</td>\n",
       "      <td id=\"T_64040_row3_col6\" class=\"data row3 col6\" >0</td>\n",
       "      <td id=\"T_64040_row3_col7\" class=\"data row3 col7\" >0</td>\n",
       "      <td id=\"T_64040_row3_col8\" class=\"data row3 col8\" >0</td>\n",
       "      <td id=\"T_64040_row3_col9\" class=\"data row3 col9\" >0</td>\n",
       "      <td id=\"T_64040_row3_col10\" class=\"data row3 col10\" >0</td>\n",
       "      <td id=\"T_64040_row3_col11\" class=\"data row3 col11\" >0</td>\n",
       "      <td id=\"T_64040_row3_col12\" class=\"data row3 col12\" >0</td>\n",
       "      <td id=\"T_64040_row3_col13\" class=\"data row3 col13\" >0</td>\n",
       "      <td id=\"T_64040_row3_col14\" class=\"data row3 col14\" >0</td>\n",
       "      <td id=\"T_64040_row3_col15\" class=\"data row3 col15\" >0</td>\n",
       "      <td id=\"T_64040_row3_col16\" class=\"data row3 col16\" >0</td>\n",
       "      <td id=\"T_64040_row3_col17\" class=\"data row3 col17\" >0</td>\n",
       "      <td id=\"T_64040_row3_col18\" class=\"data row3 col18\" >0</td>\n",
       "      <td id=\"T_64040_row3_col19\" class=\"data row3 col19\" >0</td>\n",
       "      <td id=\"T_64040_row3_col20\" class=\"data row3 col20\" >0</td>\n",
       "      <td id=\"T_64040_row3_col21\" class=\"data row3 col21\" >0</td>\n",
       "      <td id=\"T_64040_row3_col22\" class=\"data row3 col22\" >0</td>\n",
       "      <td id=\"T_64040_row3_col23\" class=\"data row3 col23\" >0</td>\n",
       "      <td id=\"T_64040_row3_col24\" class=\"data row3 col24\" >0</td>\n",
       "      <td id=\"T_64040_row3_col25\" class=\"data row3 col25\" >0</td>\n",
       "      <td id=\"T_64040_row3_col26\" class=\"data row3 col26\" >0</td>\n",
       "      <td id=\"T_64040_row3_col27\" class=\"data row3 col27\" >0</td>\n",
       "    </tr>\n",
       "    <tr>\n",
       "      <th id=\"T_64040_level0_row4\" class=\"row_heading level0 row4\" >4</th>\n",
       "      <td id=\"T_64040_row4_col0\" class=\"data row4 col0\" >0</td>\n",
       "      <td id=\"T_64040_row4_col1\" class=\"data row4 col1\" >0</td>\n",
       "      <td id=\"T_64040_row4_col2\" class=\"data row4 col2\" >0</td>\n",
       "      <td id=\"T_64040_row4_col3\" class=\"data row4 col3\" >0</td>\n",
       "      <td id=\"T_64040_row4_col4\" class=\"data row4 col4\" >0</td>\n",
       "      <td id=\"T_64040_row4_col5\" class=\"data row4 col5\" >0</td>\n",
       "      <td id=\"T_64040_row4_col6\" class=\"data row4 col6\" >0</td>\n",
       "      <td id=\"T_64040_row4_col7\" class=\"data row4 col7\" >0</td>\n",
       "      <td id=\"T_64040_row4_col8\" class=\"data row4 col8\" >0</td>\n",
       "      <td id=\"T_64040_row4_col9\" class=\"data row4 col9\" >0</td>\n",
       "      <td id=\"T_64040_row4_col10\" class=\"data row4 col10\" >0</td>\n",
       "      <td id=\"T_64040_row4_col11\" class=\"data row4 col11\" >42</td>\n",
       "      <td id=\"T_64040_row4_col12\" class=\"data row4 col12\" >118</td>\n",
       "      <td id=\"T_64040_row4_col13\" class=\"data row4 col13\" >219</td>\n",
       "      <td id=\"T_64040_row4_col14\" class=\"data row4 col14\" >166</td>\n",
       "      <td id=\"T_64040_row4_col15\" class=\"data row4 col15\" >118</td>\n",
       "      <td id=\"T_64040_row4_col16\" class=\"data row4 col16\" >118</td>\n",
       "      <td id=\"T_64040_row4_col17\" class=\"data row4 col17\" >6</td>\n",
       "      <td id=\"T_64040_row4_col18\" class=\"data row4 col18\" >0</td>\n",
       "      <td id=\"T_64040_row4_col19\" class=\"data row4 col19\" >0</td>\n",
       "      <td id=\"T_64040_row4_col20\" class=\"data row4 col20\" >0</td>\n",
       "      <td id=\"T_64040_row4_col21\" class=\"data row4 col21\" >0</td>\n",
       "      <td id=\"T_64040_row4_col22\" class=\"data row4 col22\" >0</td>\n",
       "      <td id=\"T_64040_row4_col23\" class=\"data row4 col23\" >0</td>\n",
       "      <td id=\"T_64040_row4_col24\" class=\"data row4 col24\" >0</td>\n",
       "      <td id=\"T_64040_row4_col25\" class=\"data row4 col25\" >0</td>\n",
       "      <td id=\"T_64040_row4_col26\" class=\"data row4 col26\" >0</td>\n",
       "      <td id=\"T_64040_row4_col27\" class=\"data row4 col27\" >0</td>\n",
       "    </tr>\n",
       "    <tr>\n",
       "      <th id=\"T_64040_level0_row5\" class=\"row_heading level0 row5\" >5</th>\n",
       "      <td id=\"T_64040_row5_col0\" class=\"data row5 col0\" >0</td>\n",
       "      <td id=\"T_64040_row5_col1\" class=\"data row5 col1\" >0</td>\n",
       "      <td id=\"T_64040_row5_col2\" class=\"data row5 col2\" >0</td>\n",
       "      <td id=\"T_64040_row5_col3\" class=\"data row5 col3\" >0</td>\n",
       "      <td id=\"T_64040_row5_col4\" class=\"data row5 col4\" >0</td>\n",
       "      <td id=\"T_64040_row5_col5\" class=\"data row5 col5\" >0</td>\n",
       "      <td id=\"T_64040_row5_col6\" class=\"data row5 col6\" >0</td>\n",
       "      <td id=\"T_64040_row5_col7\" class=\"data row5 col7\" >0</td>\n",
       "      <td id=\"T_64040_row5_col8\" class=\"data row5 col8\" >0</td>\n",
       "      <td id=\"T_64040_row5_col9\" class=\"data row5 col9\" >0</td>\n",
       "      <td id=\"T_64040_row5_col10\" class=\"data row5 col10\" >103</td>\n",
       "      <td id=\"T_64040_row5_col11\" class=\"data row5 col11\" >242</td>\n",
       "      <td id=\"T_64040_row5_col12\" class=\"data row5 col12\" >254</td>\n",
       "      <td id=\"T_64040_row5_col13\" class=\"data row5 col13\" >254</td>\n",
       "      <td id=\"T_64040_row5_col14\" class=\"data row5 col14\" >254</td>\n",
       "      <td id=\"T_64040_row5_col15\" class=\"data row5 col15\" >254</td>\n",
       "      <td id=\"T_64040_row5_col16\" class=\"data row5 col16\" >254</td>\n",
       "      <td id=\"T_64040_row5_col17\" class=\"data row5 col17\" >66</td>\n",
       "      <td id=\"T_64040_row5_col18\" class=\"data row5 col18\" >0</td>\n",
       "      <td id=\"T_64040_row5_col19\" class=\"data row5 col19\" >0</td>\n",
       "      <td id=\"T_64040_row5_col20\" class=\"data row5 col20\" >0</td>\n",
       "      <td id=\"T_64040_row5_col21\" class=\"data row5 col21\" >0</td>\n",
       "      <td id=\"T_64040_row5_col22\" class=\"data row5 col22\" >0</td>\n",
       "      <td id=\"T_64040_row5_col23\" class=\"data row5 col23\" >0</td>\n",
       "      <td id=\"T_64040_row5_col24\" class=\"data row5 col24\" >0</td>\n",
       "      <td id=\"T_64040_row5_col25\" class=\"data row5 col25\" >0</td>\n",
       "      <td id=\"T_64040_row5_col26\" class=\"data row5 col26\" >0</td>\n",
       "      <td id=\"T_64040_row5_col27\" class=\"data row5 col27\" >0</td>\n",
       "    </tr>\n",
       "    <tr>\n",
       "      <th id=\"T_64040_level0_row6\" class=\"row_heading level0 row6\" >6</th>\n",
       "      <td id=\"T_64040_row6_col0\" class=\"data row6 col0\" >0</td>\n",
       "      <td id=\"T_64040_row6_col1\" class=\"data row6 col1\" >0</td>\n",
       "      <td id=\"T_64040_row6_col2\" class=\"data row6 col2\" >0</td>\n",
       "      <td id=\"T_64040_row6_col3\" class=\"data row6 col3\" >0</td>\n",
       "      <td id=\"T_64040_row6_col4\" class=\"data row6 col4\" >0</td>\n",
       "      <td id=\"T_64040_row6_col5\" class=\"data row6 col5\" >0</td>\n",
       "      <td id=\"T_64040_row6_col6\" class=\"data row6 col6\" >0</td>\n",
       "      <td id=\"T_64040_row6_col7\" class=\"data row6 col7\" >0</td>\n",
       "      <td id=\"T_64040_row6_col8\" class=\"data row6 col8\" >0</td>\n",
       "      <td id=\"T_64040_row6_col9\" class=\"data row6 col9\" >0</td>\n",
       "      <td id=\"T_64040_row6_col10\" class=\"data row6 col10\" >18</td>\n",
       "      <td id=\"T_64040_row6_col11\" class=\"data row6 col11\" >232</td>\n",
       "      <td id=\"T_64040_row6_col12\" class=\"data row6 col12\" >254</td>\n",
       "      <td id=\"T_64040_row6_col13\" class=\"data row6 col13\" >254</td>\n",
       "      <td id=\"T_64040_row6_col14\" class=\"data row6 col14\" >254</td>\n",
       "      <td id=\"T_64040_row6_col15\" class=\"data row6 col15\" >254</td>\n",
       "      <td id=\"T_64040_row6_col16\" class=\"data row6 col16\" >254</td>\n",
       "      <td id=\"T_64040_row6_col17\" class=\"data row6 col17\" >238</td>\n",
       "      <td id=\"T_64040_row6_col18\" class=\"data row6 col18\" >70</td>\n",
       "      <td id=\"T_64040_row6_col19\" class=\"data row6 col19\" >0</td>\n",
       "      <td id=\"T_64040_row6_col20\" class=\"data row6 col20\" >0</td>\n",
       "      <td id=\"T_64040_row6_col21\" class=\"data row6 col21\" >0</td>\n",
       "      <td id=\"T_64040_row6_col22\" class=\"data row6 col22\" >0</td>\n",
       "      <td id=\"T_64040_row6_col23\" class=\"data row6 col23\" >0</td>\n",
       "      <td id=\"T_64040_row6_col24\" class=\"data row6 col24\" >0</td>\n",
       "      <td id=\"T_64040_row6_col25\" class=\"data row6 col25\" >0</td>\n",
       "      <td id=\"T_64040_row6_col26\" class=\"data row6 col26\" >0</td>\n",
       "      <td id=\"T_64040_row6_col27\" class=\"data row6 col27\" >0</td>\n",
       "    </tr>\n",
       "    <tr>\n",
       "      <th id=\"T_64040_level0_row7\" class=\"row_heading level0 row7\" >7</th>\n",
       "      <td id=\"T_64040_row7_col0\" class=\"data row7 col0\" >0</td>\n",
       "      <td id=\"T_64040_row7_col1\" class=\"data row7 col1\" >0</td>\n",
       "      <td id=\"T_64040_row7_col2\" class=\"data row7 col2\" >0</td>\n",
       "      <td id=\"T_64040_row7_col3\" class=\"data row7 col3\" >0</td>\n",
       "      <td id=\"T_64040_row7_col4\" class=\"data row7 col4\" >0</td>\n",
       "      <td id=\"T_64040_row7_col5\" class=\"data row7 col5\" >0</td>\n",
       "      <td id=\"T_64040_row7_col6\" class=\"data row7 col6\" >0</td>\n",
       "      <td id=\"T_64040_row7_col7\" class=\"data row7 col7\" >0</td>\n",
       "      <td id=\"T_64040_row7_col8\" class=\"data row7 col8\" >0</td>\n",
       "      <td id=\"T_64040_row7_col9\" class=\"data row7 col9\" >0</td>\n",
       "      <td id=\"T_64040_row7_col10\" class=\"data row7 col10\" >0</td>\n",
       "      <td id=\"T_64040_row7_col11\" class=\"data row7 col11\" >104</td>\n",
       "      <td id=\"T_64040_row7_col12\" class=\"data row7 col12\" >244</td>\n",
       "      <td id=\"T_64040_row7_col13\" class=\"data row7 col13\" >254</td>\n",
       "      <td id=\"T_64040_row7_col14\" class=\"data row7 col14\" >224</td>\n",
       "      <td id=\"T_64040_row7_col15\" class=\"data row7 col15\" >254</td>\n",
       "      <td id=\"T_64040_row7_col16\" class=\"data row7 col16\" >254</td>\n",
       "      <td id=\"T_64040_row7_col17\" class=\"data row7 col17\" >254</td>\n",
       "      <td id=\"T_64040_row7_col18\" class=\"data row7 col18\" >141</td>\n",
       "      <td id=\"T_64040_row7_col19\" class=\"data row7 col19\" >0</td>\n",
       "      <td id=\"T_64040_row7_col20\" class=\"data row7 col20\" >0</td>\n",
       "      <td id=\"T_64040_row7_col21\" class=\"data row7 col21\" >0</td>\n",
       "      <td id=\"T_64040_row7_col22\" class=\"data row7 col22\" >0</td>\n",
       "      <td id=\"T_64040_row7_col23\" class=\"data row7 col23\" >0</td>\n",
       "      <td id=\"T_64040_row7_col24\" class=\"data row7 col24\" >0</td>\n",
       "      <td id=\"T_64040_row7_col25\" class=\"data row7 col25\" >0</td>\n",
       "      <td id=\"T_64040_row7_col26\" class=\"data row7 col26\" >0</td>\n",
       "      <td id=\"T_64040_row7_col27\" class=\"data row7 col27\" >0</td>\n",
       "    </tr>\n",
       "    <tr>\n",
       "      <th id=\"T_64040_level0_row8\" class=\"row_heading level0 row8\" >8</th>\n",
       "      <td id=\"T_64040_row8_col0\" class=\"data row8 col0\" >0</td>\n",
       "      <td id=\"T_64040_row8_col1\" class=\"data row8 col1\" >0</td>\n",
       "      <td id=\"T_64040_row8_col2\" class=\"data row8 col2\" >0</td>\n",
       "      <td id=\"T_64040_row8_col3\" class=\"data row8 col3\" >0</td>\n",
       "      <td id=\"T_64040_row8_col4\" class=\"data row8 col4\" >0</td>\n",
       "      <td id=\"T_64040_row8_col5\" class=\"data row8 col5\" >0</td>\n",
       "      <td id=\"T_64040_row8_col6\" class=\"data row8 col6\" >0</td>\n",
       "      <td id=\"T_64040_row8_col7\" class=\"data row8 col7\" >0</td>\n",
       "      <td id=\"T_64040_row8_col8\" class=\"data row8 col8\" >0</td>\n",
       "      <td id=\"T_64040_row8_col9\" class=\"data row8 col9\" >0</td>\n",
       "      <td id=\"T_64040_row8_col10\" class=\"data row8 col10\" >0</td>\n",
       "      <td id=\"T_64040_row8_col11\" class=\"data row8 col11\" >0</td>\n",
       "      <td id=\"T_64040_row8_col12\" class=\"data row8 col12\" >207</td>\n",
       "      <td id=\"T_64040_row8_col13\" class=\"data row8 col13\" >254</td>\n",
       "      <td id=\"T_64040_row8_col14\" class=\"data row8 col14\" >210</td>\n",
       "      <td id=\"T_64040_row8_col15\" class=\"data row8 col15\" >254</td>\n",
       "      <td id=\"T_64040_row8_col16\" class=\"data row8 col16\" >254</td>\n",
       "      <td id=\"T_64040_row8_col17\" class=\"data row8 col17\" >254</td>\n",
       "      <td id=\"T_64040_row8_col18\" class=\"data row8 col18\" >34</td>\n",
       "      <td id=\"T_64040_row8_col19\" class=\"data row8 col19\" >0</td>\n",
       "      <td id=\"T_64040_row8_col20\" class=\"data row8 col20\" >0</td>\n",
       "      <td id=\"T_64040_row8_col21\" class=\"data row8 col21\" >0</td>\n",
       "      <td id=\"T_64040_row8_col22\" class=\"data row8 col22\" >0</td>\n",
       "      <td id=\"T_64040_row8_col23\" class=\"data row8 col23\" >0</td>\n",
       "      <td id=\"T_64040_row8_col24\" class=\"data row8 col24\" >0</td>\n",
       "      <td id=\"T_64040_row8_col25\" class=\"data row8 col25\" >0</td>\n",
       "      <td id=\"T_64040_row8_col26\" class=\"data row8 col26\" >0</td>\n",
       "      <td id=\"T_64040_row8_col27\" class=\"data row8 col27\" >0</td>\n",
       "    </tr>\n",
       "    <tr>\n",
       "      <th id=\"T_64040_level0_row9\" class=\"row_heading level0 row9\" >9</th>\n",
       "      <td id=\"T_64040_row9_col0\" class=\"data row9 col0\" >0</td>\n",
       "      <td id=\"T_64040_row9_col1\" class=\"data row9 col1\" >0</td>\n",
       "      <td id=\"T_64040_row9_col2\" class=\"data row9 col2\" >0</td>\n",
       "      <td id=\"T_64040_row9_col3\" class=\"data row9 col3\" >0</td>\n",
       "      <td id=\"T_64040_row9_col4\" class=\"data row9 col4\" >0</td>\n",
       "      <td id=\"T_64040_row9_col5\" class=\"data row9 col5\" >0</td>\n",
       "      <td id=\"T_64040_row9_col6\" class=\"data row9 col6\" >0</td>\n",
       "      <td id=\"T_64040_row9_col7\" class=\"data row9 col7\" >0</td>\n",
       "      <td id=\"T_64040_row9_col8\" class=\"data row9 col8\" >0</td>\n",
       "      <td id=\"T_64040_row9_col9\" class=\"data row9 col9\" >0</td>\n",
       "      <td id=\"T_64040_row9_col10\" class=\"data row9 col10\" >0</td>\n",
       "      <td id=\"T_64040_row9_col11\" class=\"data row9 col11\" >0</td>\n",
       "      <td id=\"T_64040_row9_col12\" class=\"data row9 col12\" >84</td>\n",
       "      <td id=\"T_64040_row9_col13\" class=\"data row9 col13\" >206</td>\n",
       "      <td id=\"T_64040_row9_col14\" class=\"data row9 col14\" >254</td>\n",
       "      <td id=\"T_64040_row9_col15\" class=\"data row9 col15\" >254</td>\n",
       "      <td id=\"T_64040_row9_col16\" class=\"data row9 col16\" >254</td>\n",
       "      <td id=\"T_64040_row9_col17\" class=\"data row9 col17\" >254</td>\n",
       "      <td id=\"T_64040_row9_col18\" class=\"data row9 col18\" >41</td>\n",
       "      <td id=\"T_64040_row9_col19\" class=\"data row9 col19\" >0</td>\n",
       "      <td id=\"T_64040_row9_col20\" class=\"data row9 col20\" >0</td>\n",
       "      <td id=\"T_64040_row9_col21\" class=\"data row9 col21\" >0</td>\n",
       "      <td id=\"T_64040_row9_col22\" class=\"data row9 col22\" >0</td>\n",
       "      <td id=\"T_64040_row9_col23\" class=\"data row9 col23\" >0</td>\n",
       "      <td id=\"T_64040_row9_col24\" class=\"data row9 col24\" >0</td>\n",
       "      <td id=\"T_64040_row9_col25\" class=\"data row9 col25\" >0</td>\n",
       "      <td id=\"T_64040_row9_col26\" class=\"data row9 col26\" >0</td>\n",
       "      <td id=\"T_64040_row9_col27\" class=\"data row9 col27\" >0</td>\n",
       "    </tr>\n",
       "    <tr>\n",
       "      <th id=\"T_64040_level0_row10\" class=\"row_heading level0 row10\" >10</th>\n",
       "      <td id=\"T_64040_row10_col0\" class=\"data row10 col0\" >0</td>\n",
       "      <td id=\"T_64040_row10_col1\" class=\"data row10 col1\" >0</td>\n",
       "      <td id=\"T_64040_row10_col2\" class=\"data row10 col2\" >0</td>\n",
       "      <td id=\"T_64040_row10_col3\" class=\"data row10 col3\" >0</td>\n",
       "      <td id=\"T_64040_row10_col4\" class=\"data row10 col4\" >0</td>\n",
       "      <td id=\"T_64040_row10_col5\" class=\"data row10 col5\" >0</td>\n",
       "      <td id=\"T_64040_row10_col6\" class=\"data row10 col6\" >0</td>\n",
       "      <td id=\"T_64040_row10_col7\" class=\"data row10 col7\" >0</td>\n",
       "      <td id=\"T_64040_row10_col8\" class=\"data row10 col8\" >0</td>\n",
       "      <td id=\"T_64040_row10_col9\" class=\"data row10 col9\" >0</td>\n",
       "      <td id=\"T_64040_row10_col10\" class=\"data row10 col10\" >0</td>\n",
       "      <td id=\"T_64040_row10_col11\" class=\"data row10 col11\" >0</td>\n",
       "      <td id=\"T_64040_row10_col12\" class=\"data row10 col12\" >0</td>\n",
       "      <td id=\"T_64040_row10_col13\" class=\"data row10 col13\" >24</td>\n",
       "      <td id=\"T_64040_row10_col14\" class=\"data row10 col14\" >209</td>\n",
       "      <td id=\"T_64040_row10_col15\" class=\"data row10 col15\" >254</td>\n",
       "      <td id=\"T_64040_row10_col16\" class=\"data row10 col16\" >254</td>\n",
       "      <td id=\"T_64040_row10_col17\" class=\"data row10 col17\" >254</td>\n",
       "      <td id=\"T_64040_row10_col18\" class=\"data row10 col18\" >171</td>\n",
       "      <td id=\"T_64040_row10_col19\" class=\"data row10 col19\" >0</td>\n",
       "      <td id=\"T_64040_row10_col20\" class=\"data row10 col20\" >0</td>\n",
       "      <td id=\"T_64040_row10_col21\" class=\"data row10 col21\" >0</td>\n",
       "      <td id=\"T_64040_row10_col22\" class=\"data row10 col22\" >0</td>\n",
       "      <td id=\"T_64040_row10_col23\" class=\"data row10 col23\" >0</td>\n",
       "      <td id=\"T_64040_row10_col24\" class=\"data row10 col24\" >0</td>\n",
       "      <td id=\"T_64040_row10_col25\" class=\"data row10 col25\" >0</td>\n",
       "      <td id=\"T_64040_row10_col26\" class=\"data row10 col26\" >0</td>\n",
       "      <td id=\"T_64040_row10_col27\" class=\"data row10 col27\" >0</td>\n",
       "    </tr>\n",
       "    <tr>\n",
       "      <th id=\"T_64040_level0_row11\" class=\"row_heading level0 row11\" >11</th>\n",
       "      <td id=\"T_64040_row11_col0\" class=\"data row11 col0\" >0</td>\n",
       "      <td id=\"T_64040_row11_col1\" class=\"data row11 col1\" >0</td>\n",
       "      <td id=\"T_64040_row11_col2\" class=\"data row11 col2\" >0</td>\n",
       "      <td id=\"T_64040_row11_col3\" class=\"data row11 col3\" >0</td>\n",
       "      <td id=\"T_64040_row11_col4\" class=\"data row11 col4\" >0</td>\n",
       "      <td id=\"T_64040_row11_col5\" class=\"data row11 col5\" >0</td>\n",
       "      <td id=\"T_64040_row11_col6\" class=\"data row11 col6\" >0</td>\n",
       "      <td id=\"T_64040_row11_col7\" class=\"data row11 col7\" >0</td>\n",
       "      <td id=\"T_64040_row11_col8\" class=\"data row11 col8\" >0</td>\n",
       "      <td id=\"T_64040_row11_col9\" class=\"data row11 col9\" >0</td>\n",
       "      <td id=\"T_64040_row11_col10\" class=\"data row11 col10\" >0</td>\n",
       "      <td id=\"T_64040_row11_col11\" class=\"data row11 col11\" >0</td>\n",
       "      <td id=\"T_64040_row11_col12\" class=\"data row11 col12\" >91</td>\n",
       "      <td id=\"T_64040_row11_col13\" class=\"data row11 col13\" >137</td>\n",
       "      <td id=\"T_64040_row11_col14\" class=\"data row11 col14\" >253</td>\n",
       "      <td id=\"T_64040_row11_col15\" class=\"data row11 col15\" >254</td>\n",
       "      <td id=\"T_64040_row11_col16\" class=\"data row11 col16\" >254</td>\n",
       "      <td id=\"T_64040_row11_col17\" class=\"data row11 col17\" >254</td>\n",
       "      <td id=\"T_64040_row11_col18\" class=\"data row11 col18\" >112</td>\n",
       "      <td id=\"T_64040_row11_col19\" class=\"data row11 col19\" >0</td>\n",
       "      <td id=\"T_64040_row11_col20\" class=\"data row11 col20\" >0</td>\n",
       "      <td id=\"T_64040_row11_col21\" class=\"data row11 col21\" >0</td>\n",
       "      <td id=\"T_64040_row11_col22\" class=\"data row11 col22\" >0</td>\n",
       "      <td id=\"T_64040_row11_col23\" class=\"data row11 col23\" >0</td>\n",
       "      <td id=\"T_64040_row11_col24\" class=\"data row11 col24\" >0</td>\n",
       "      <td id=\"T_64040_row11_col25\" class=\"data row11 col25\" >0</td>\n",
       "      <td id=\"T_64040_row11_col26\" class=\"data row11 col26\" >0</td>\n",
       "      <td id=\"T_64040_row11_col27\" class=\"data row11 col27\" >0</td>\n",
       "    </tr>\n",
       "    <tr>\n",
       "      <th id=\"T_64040_level0_row12\" class=\"row_heading level0 row12\" >12</th>\n",
       "      <td id=\"T_64040_row12_col0\" class=\"data row12 col0\" >0</td>\n",
       "      <td id=\"T_64040_row12_col1\" class=\"data row12 col1\" >0</td>\n",
       "      <td id=\"T_64040_row12_col2\" class=\"data row12 col2\" >0</td>\n",
       "      <td id=\"T_64040_row12_col3\" class=\"data row12 col3\" >0</td>\n",
       "      <td id=\"T_64040_row12_col4\" class=\"data row12 col4\" >0</td>\n",
       "      <td id=\"T_64040_row12_col5\" class=\"data row12 col5\" >0</td>\n",
       "      <td id=\"T_64040_row12_col6\" class=\"data row12 col6\" >0</td>\n",
       "      <td id=\"T_64040_row12_col7\" class=\"data row12 col7\" >0</td>\n",
       "      <td id=\"T_64040_row12_col8\" class=\"data row12 col8\" >0</td>\n",
       "      <td id=\"T_64040_row12_col9\" class=\"data row12 col9\" >0</td>\n",
       "      <td id=\"T_64040_row12_col10\" class=\"data row12 col10\" >40</td>\n",
       "      <td id=\"T_64040_row12_col11\" class=\"data row12 col11\" >214</td>\n",
       "      <td id=\"T_64040_row12_col12\" class=\"data row12 col12\" >250</td>\n",
       "      <td id=\"T_64040_row12_col13\" class=\"data row12 col13\" >254</td>\n",
       "      <td id=\"T_64040_row12_col14\" class=\"data row12 col14\" >254</td>\n",
       "      <td id=\"T_64040_row12_col15\" class=\"data row12 col15\" >254</td>\n",
       "      <td id=\"T_64040_row12_col16\" class=\"data row12 col16\" >254</td>\n",
       "      <td id=\"T_64040_row12_col17\" class=\"data row12 col17\" >254</td>\n",
       "      <td id=\"T_64040_row12_col18\" class=\"data row12 col18\" >34</td>\n",
       "      <td id=\"T_64040_row12_col19\" class=\"data row12 col19\" >0</td>\n",
       "      <td id=\"T_64040_row12_col20\" class=\"data row12 col20\" >0</td>\n",
       "      <td id=\"T_64040_row12_col21\" class=\"data row12 col21\" >0</td>\n",
       "      <td id=\"T_64040_row12_col22\" class=\"data row12 col22\" >0</td>\n",
       "      <td id=\"T_64040_row12_col23\" class=\"data row12 col23\" >0</td>\n",
       "      <td id=\"T_64040_row12_col24\" class=\"data row12 col24\" >0</td>\n",
       "      <td id=\"T_64040_row12_col25\" class=\"data row12 col25\" >0</td>\n",
       "      <td id=\"T_64040_row12_col26\" class=\"data row12 col26\" >0</td>\n",
       "      <td id=\"T_64040_row12_col27\" class=\"data row12 col27\" >0</td>\n",
       "    </tr>\n",
       "    <tr>\n",
       "      <th id=\"T_64040_level0_row13\" class=\"row_heading level0 row13\" >13</th>\n",
       "      <td id=\"T_64040_row13_col0\" class=\"data row13 col0\" >0</td>\n",
       "      <td id=\"T_64040_row13_col1\" class=\"data row13 col1\" >0</td>\n",
       "      <td id=\"T_64040_row13_col2\" class=\"data row13 col2\" >0</td>\n",
       "      <td id=\"T_64040_row13_col3\" class=\"data row13 col3\" >0</td>\n",
       "      <td id=\"T_64040_row13_col4\" class=\"data row13 col4\" >0</td>\n",
       "      <td id=\"T_64040_row13_col5\" class=\"data row13 col5\" >0</td>\n",
       "      <td id=\"T_64040_row13_col6\" class=\"data row13 col6\" >0</td>\n",
       "      <td id=\"T_64040_row13_col7\" class=\"data row13 col7\" >0</td>\n",
       "      <td id=\"T_64040_row13_col8\" class=\"data row13 col8\" >0</td>\n",
       "      <td id=\"T_64040_row13_col9\" class=\"data row13 col9\" >0</td>\n",
       "      <td id=\"T_64040_row13_col10\" class=\"data row13 col10\" >81</td>\n",
       "      <td id=\"T_64040_row13_col11\" class=\"data row13 col11\" >247</td>\n",
       "      <td id=\"T_64040_row13_col12\" class=\"data row13 col12\" >254</td>\n",
       "      <td id=\"T_64040_row13_col13\" class=\"data row13 col13\" >254</td>\n",
       "      <td id=\"T_64040_row13_col14\" class=\"data row13 col14\" >254</td>\n",
       "      <td id=\"T_64040_row13_col15\" class=\"data row13 col15\" >254</td>\n",
       "      <td id=\"T_64040_row13_col16\" class=\"data row13 col16\" >254</td>\n",
       "      <td id=\"T_64040_row13_col17\" class=\"data row13 col17\" >254</td>\n",
       "      <td id=\"T_64040_row13_col18\" class=\"data row13 col18\" >146</td>\n",
       "      <td id=\"T_64040_row13_col19\" class=\"data row13 col19\" >0</td>\n",
       "      <td id=\"T_64040_row13_col20\" class=\"data row13 col20\" >0</td>\n",
       "      <td id=\"T_64040_row13_col21\" class=\"data row13 col21\" >0</td>\n",
       "      <td id=\"T_64040_row13_col22\" class=\"data row13 col22\" >0</td>\n",
       "      <td id=\"T_64040_row13_col23\" class=\"data row13 col23\" >0</td>\n",
       "      <td id=\"T_64040_row13_col24\" class=\"data row13 col24\" >0</td>\n",
       "      <td id=\"T_64040_row13_col25\" class=\"data row13 col25\" >0</td>\n",
       "      <td id=\"T_64040_row13_col26\" class=\"data row13 col26\" >0</td>\n",
       "      <td id=\"T_64040_row13_col27\" class=\"data row13 col27\" >0</td>\n",
       "    </tr>\n",
       "    <tr>\n",
       "      <th id=\"T_64040_level0_row14\" class=\"row_heading level0 row14\" >14</th>\n",
       "      <td id=\"T_64040_row14_col0\" class=\"data row14 col0\" >0</td>\n",
       "      <td id=\"T_64040_row14_col1\" class=\"data row14 col1\" >0</td>\n",
       "      <td id=\"T_64040_row14_col2\" class=\"data row14 col2\" >0</td>\n",
       "      <td id=\"T_64040_row14_col3\" class=\"data row14 col3\" >0</td>\n",
       "      <td id=\"T_64040_row14_col4\" class=\"data row14 col4\" >0</td>\n",
       "      <td id=\"T_64040_row14_col5\" class=\"data row14 col5\" >0</td>\n",
       "      <td id=\"T_64040_row14_col6\" class=\"data row14 col6\" >0</td>\n",
       "      <td id=\"T_64040_row14_col7\" class=\"data row14 col7\" >0</td>\n",
       "      <td id=\"T_64040_row14_col8\" class=\"data row14 col8\" >0</td>\n",
       "      <td id=\"T_64040_row14_col9\" class=\"data row14 col9\" >0</td>\n",
       "      <td id=\"T_64040_row14_col10\" class=\"data row14 col10\" >0</td>\n",
       "      <td id=\"T_64040_row14_col11\" class=\"data row14 col11\" >110</td>\n",
       "      <td id=\"T_64040_row14_col12\" class=\"data row14 col12\" >246</td>\n",
       "      <td id=\"T_64040_row14_col13\" class=\"data row14 col13\" >254</td>\n",
       "      <td id=\"T_64040_row14_col14\" class=\"data row14 col14\" >254</td>\n",
       "      <td id=\"T_64040_row14_col15\" class=\"data row14 col15\" >254</td>\n",
       "      <td id=\"T_64040_row14_col16\" class=\"data row14 col16\" >254</td>\n",
       "      <td id=\"T_64040_row14_col17\" class=\"data row14 col17\" >254</td>\n",
       "      <td id=\"T_64040_row14_col18\" class=\"data row14 col18\" >171</td>\n",
       "      <td id=\"T_64040_row14_col19\" class=\"data row14 col19\" >0</td>\n",
       "      <td id=\"T_64040_row14_col20\" class=\"data row14 col20\" >0</td>\n",
       "      <td id=\"T_64040_row14_col21\" class=\"data row14 col21\" >0</td>\n",
       "      <td id=\"T_64040_row14_col22\" class=\"data row14 col22\" >0</td>\n",
       "      <td id=\"T_64040_row14_col23\" class=\"data row14 col23\" >0</td>\n",
       "      <td id=\"T_64040_row14_col24\" class=\"data row14 col24\" >0</td>\n",
       "      <td id=\"T_64040_row14_col25\" class=\"data row14 col25\" >0</td>\n",
       "      <td id=\"T_64040_row14_col26\" class=\"data row14 col26\" >0</td>\n",
       "      <td id=\"T_64040_row14_col27\" class=\"data row14 col27\" >0</td>\n",
       "    </tr>\n",
       "    <tr>\n",
       "      <th id=\"T_64040_level0_row15\" class=\"row_heading level0 row15\" >15</th>\n",
       "      <td id=\"T_64040_row15_col0\" class=\"data row15 col0\" >0</td>\n",
       "      <td id=\"T_64040_row15_col1\" class=\"data row15 col1\" >0</td>\n",
       "      <td id=\"T_64040_row15_col2\" class=\"data row15 col2\" >0</td>\n",
       "      <td id=\"T_64040_row15_col3\" class=\"data row15 col3\" >0</td>\n",
       "      <td id=\"T_64040_row15_col4\" class=\"data row15 col4\" >0</td>\n",
       "      <td id=\"T_64040_row15_col5\" class=\"data row15 col5\" >0</td>\n",
       "      <td id=\"T_64040_row15_col6\" class=\"data row15 col6\" >0</td>\n",
       "      <td id=\"T_64040_row15_col7\" class=\"data row15 col7\" >0</td>\n",
       "      <td id=\"T_64040_row15_col8\" class=\"data row15 col8\" >0</td>\n",
       "      <td id=\"T_64040_row15_col9\" class=\"data row15 col9\" >0</td>\n",
       "      <td id=\"T_64040_row15_col10\" class=\"data row15 col10\" >0</td>\n",
       "      <td id=\"T_64040_row15_col11\" class=\"data row15 col11\" >0</td>\n",
       "      <td id=\"T_64040_row15_col12\" class=\"data row15 col12\" >73</td>\n",
       "      <td id=\"T_64040_row15_col13\" class=\"data row15 col13\" >89</td>\n",
       "      <td id=\"T_64040_row15_col14\" class=\"data row15 col14\" >89</td>\n",
       "      <td id=\"T_64040_row15_col15\" class=\"data row15 col15\" >93</td>\n",
       "      <td id=\"T_64040_row15_col16\" class=\"data row15 col16\" >240</td>\n",
       "      <td id=\"T_64040_row15_col17\" class=\"data row15 col17\" >254</td>\n",
       "      <td id=\"T_64040_row15_col18\" class=\"data row15 col18\" >171</td>\n",
       "      <td id=\"T_64040_row15_col19\" class=\"data row15 col19\" >0</td>\n",
       "      <td id=\"T_64040_row15_col20\" class=\"data row15 col20\" >0</td>\n",
       "      <td id=\"T_64040_row15_col21\" class=\"data row15 col21\" >0</td>\n",
       "      <td id=\"T_64040_row15_col22\" class=\"data row15 col22\" >0</td>\n",
       "      <td id=\"T_64040_row15_col23\" class=\"data row15 col23\" >0</td>\n",
       "      <td id=\"T_64040_row15_col24\" class=\"data row15 col24\" >0</td>\n",
       "      <td id=\"T_64040_row15_col25\" class=\"data row15 col25\" >0</td>\n",
       "      <td id=\"T_64040_row15_col26\" class=\"data row15 col26\" >0</td>\n",
       "      <td id=\"T_64040_row15_col27\" class=\"data row15 col27\" >0</td>\n",
       "    </tr>\n",
       "    <tr>\n",
       "      <th id=\"T_64040_level0_row16\" class=\"row_heading level0 row16\" >16</th>\n",
       "      <td id=\"T_64040_row16_col0\" class=\"data row16 col0\" >0</td>\n",
       "      <td id=\"T_64040_row16_col1\" class=\"data row16 col1\" >0</td>\n",
       "      <td id=\"T_64040_row16_col2\" class=\"data row16 col2\" >0</td>\n",
       "      <td id=\"T_64040_row16_col3\" class=\"data row16 col3\" >0</td>\n",
       "      <td id=\"T_64040_row16_col4\" class=\"data row16 col4\" >0</td>\n",
       "      <td id=\"T_64040_row16_col5\" class=\"data row16 col5\" >0</td>\n",
       "      <td id=\"T_64040_row16_col6\" class=\"data row16 col6\" >0</td>\n",
       "      <td id=\"T_64040_row16_col7\" class=\"data row16 col7\" >0</td>\n",
       "      <td id=\"T_64040_row16_col8\" class=\"data row16 col8\" >0</td>\n",
       "      <td id=\"T_64040_row16_col9\" class=\"data row16 col9\" >0</td>\n",
       "      <td id=\"T_64040_row16_col10\" class=\"data row16 col10\" >0</td>\n",
       "      <td id=\"T_64040_row16_col11\" class=\"data row16 col11\" >0</td>\n",
       "      <td id=\"T_64040_row16_col12\" class=\"data row16 col12\" >0</td>\n",
       "      <td id=\"T_64040_row16_col13\" class=\"data row16 col13\" >0</td>\n",
       "      <td id=\"T_64040_row16_col14\" class=\"data row16 col14\" >0</td>\n",
       "      <td id=\"T_64040_row16_col15\" class=\"data row16 col15\" >1</td>\n",
       "      <td id=\"T_64040_row16_col16\" class=\"data row16 col16\" >128</td>\n",
       "      <td id=\"T_64040_row16_col17\" class=\"data row16 col17\" >254</td>\n",
       "      <td id=\"T_64040_row16_col18\" class=\"data row16 col18\" >219</td>\n",
       "      <td id=\"T_64040_row16_col19\" class=\"data row16 col19\" >31</td>\n",
       "      <td id=\"T_64040_row16_col20\" class=\"data row16 col20\" >0</td>\n",
       "      <td id=\"T_64040_row16_col21\" class=\"data row16 col21\" >0</td>\n",
       "      <td id=\"T_64040_row16_col22\" class=\"data row16 col22\" >0</td>\n",
       "      <td id=\"T_64040_row16_col23\" class=\"data row16 col23\" >0</td>\n",
       "      <td id=\"T_64040_row16_col24\" class=\"data row16 col24\" >0</td>\n",
       "      <td id=\"T_64040_row16_col25\" class=\"data row16 col25\" >0</td>\n",
       "      <td id=\"T_64040_row16_col26\" class=\"data row16 col26\" >0</td>\n",
       "      <td id=\"T_64040_row16_col27\" class=\"data row16 col27\" >0</td>\n",
       "    </tr>\n",
       "    <tr>\n",
       "      <th id=\"T_64040_level0_row17\" class=\"row_heading level0 row17\" >17</th>\n",
       "      <td id=\"T_64040_row17_col0\" class=\"data row17 col0\" >0</td>\n",
       "      <td id=\"T_64040_row17_col1\" class=\"data row17 col1\" >0</td>\n",
       "      <td id=\"T_64040_row17_col2\" class=\"data row17 col2\" >0</td>\n",
       "      <td id=\"T_64040_row17_col3\" class=\"data row17 col3\" >0</td>\n",
       "      <td id=\"T_64040_row17_col4\" class=\"data row17 col4\" >0</td>\n",
       "      <td id=\"T_64040_row17_col5\" class=\"data row17 col5\" >0</td>\n",
       "      <td id=\"T_64040_row17_col6\" class=\"data row17 col6\" >0</td>\n",
       "      <td id=\"T_64040_row17_col7\" class=\"data row17 col7\" >0</td>\n",
       "      <td id=\"T_64040_row17_col8\" class=\"data row17 col8\" >0</td>\n",
       "      <td id=\"T_64040_row17_col9\" class=\"data row17 col9\" >0</td>\n",
       "      <td id=\"T_64040_row17_col10\" class=\"data row17 col10\" >0</td>\n",
       "      <td id=\"T_64040_row17_col11\" class=\"data row17 col11\" >0</td>\n",
       "      <td id=\"T_64040_row17_col12\" class=\"data row17 col12\" >0</td>\n",
       "      <td id=\"T_64040_row17_col13\" class=\"data row17 col13\" >0</td>\n",
       "      <td id=\"T_64040_row17_col14\" class=\"data row17 col14\" >0</td>\n",
       "      <td id=\"T_64040_row17_col15\" class=\"data row17 col15\" >7</td>\n",
       "      <td id=\"T_64040_row17_col16\" class=\"data row17 col16\" >254</td>\n",
       "      <td id=\"T_64040_row17_col17\" class=\"data row17 col17\" >254</td>\n",
       "      <td id=\"T_64040_row17_col18\" class=\"data row17 col18\" >214</td>\n",
       "      <td id=\"T_64040_row17_col19\" class=\"data row17 col19\" >28</td>\n",
       "      <td id=\"T_64040_row17_col20\" class=\"data row17 col20\" >0</td>\n",
       "      <td id=\"T_64040_row17_col21\" class=\"data row17 col21\" >0</td>\n",
       "      <td id=\"T_64040_row17_col22\" class=\"data row17 col22\" >0</td>\n",
       "      <td id=\"T_64040_row17_col23\" class=\"data row17 col23\" >0</td>\n",
       "      <td id=\"T_64040_row17_col24\" class=\"data row17 col24\" >0</td>\n",
       "      <td id=\"T_64040_row17_col25\" class=\"data row17 col25\" >0</td>\n",
       "      <td id=\"T_64040_row17_col26\" class=\"data row17 col26\" >0</td>\n",
       "      <td id=\"T_64040_row17_col27\" class=\"data row17 col27\" >0</td>\n",
       "    </tr>\n",
       "    <tr>\n",
       "      <th id=\"T_64040_level0_row18\" class=\"row_heading level0 row18\" >18</th>\n",
       "      <td id=\"T_64040_row18_col0\" class=\"data row18 col0\" >0</td>\n",
       "      <td id=\"T_64040_row18_col1\" class=\"data row18 col1\" >0</td>\n",
       "      <td id=\"T_64040_row18_col2\" class=\"data row18 col2\" >0</td>\n",
       "      <td id=\"T_64040_row18_col3\" class=\"data row18 col3\" >0</td>\n",
       "      <td id=\"T_64040_row18_col4\" class=\"data row18 col4\" >0</td>\n",
       "      <td id=\"T_64040_row18_col5\" class=\"data row18 col5\" >0</td>\n",
       "      <td id=\"T_64040_row18_col6\" class=\"data row18 col6\" >0</td>\n",
       "      <td id=\"T_64040_row18_col7\" class=\"data row18 col7\" >0</td>\n",
       "      <td id=\"T_64040_row18_col8\" class=\"data row18 col8\" >0</td>\n",
       "      <td id=\"T_64040_row18_col9\" class=\"data row18 col9\" >0</td>\n",
       "      <td id=\"T_64040_row18_col10\" class=\"data row18 col10\" >0</td>\n",
       "      <td id=\"T_64040_row18_col11\" class=\"data row18 col11\" >0</td>\n",
       "      <td id=\"T_64040_row18_col12\" class=\"data row18 col12\" >0</td>\n",
       "      <td id=\"T_64040_row18_col13\" class=\"data row18 col13\" >0</td>\n",
       "      <td id=\"T_64040_row18_col14\" class=\"data row18 col14\" >0</td>\n",
       "      <td id=\"T_64040_row18_col15\" class=\"data row18 col15\" >138</td>\n",
       "      <td id=\"T_64040_row18_col16\" class=\"data row18 col16\" >254</td>\n",
       "      <td id=\"T_64040_row18_col17\" class=\"data row18 col17\" >254</td>\n",
       "      <td id=\"T_64040_row18_col18\" class=\"data row18 col18\" >116</td>\n",
       "      <td id=\"T_64040_row18_col19\" class=\"data row18 col19\" >0</td>\n",
       "      <td id=\"T_64040_row18_col20\" class=\"data row18 col20\" >0</td>\n",
       "      <td id=\"T_64040_row18_col21\" class=\"data row18 col21\" >0</td>\n",
       "      <td id=\"T_64040_row18_col22\" class=\"data row18 col22\" >0</td>\n",
       "      <td id=\"T_64040_row18_col23\" class=\"data row18 col23\" >0</td>\n",
       "      <td id=\"T_64040_row18_col24\" class=\"data row18 col24\" >0</td>\n",
       "      <td id=\"T_64040_row18_col25\" class=\"data row18 col25\" >0</td>\n",
       "      <td id=\"T_64040_row18_col26\" class=\"data row18 col26\" >0</td>\n",
       "      <td id=\"T_64040_row18_col27\" class=\"data row18 col27\" >0</td>\n",
       "    </tr>\n",
       "    <tr>\n",
       "      <th id=\"T_64040_level0_row19\" class=\"row_heading level0 row19\" >19</th>\n",
       "      <td id=\"T_64040_row19_col0\" class=\"data row19 col0\" >0</td>\n",
       "      <td id=\"T_64040_row19_col1\" class=\"data row19 col1\" >0</td>\n",
       "      <td id=\"T_64040_row19_col2\" class=\"data row19 col2\" >0</td>\n",
       "      <td id=\"T_64040_row19_col3\" class=\"data row19 col3\" >0</td>\n",
       "      <td id=\"T_64040_row19_col4\" class=\"data row19 col4\" >0</td>\n",
       "      <td id=\"T_64040_row19_col5\" class=\"data row19 col5\" >0</td>\n",
       "      <td id=\"T_64040_row19_col6\" class=\"data row19 col6\" >19</td>\n",
       "      <td id=\"T_64040_row19_col7\" class=\"data row19 col7\" >177</td>\n",
       "      <td id=\"T_64040_row19_col8\" class=\"data row19 col8\" >90</td>\n",
       "      <td id=\"T_64040_row19_col9\" class=\"data row19 col9\" >0</td>\n",
       "      <td id=\"T_64040_row19_col10\" class=\"data row19 col10\" >0</td>\n",
       "      <td id=\"T_64040_row19_col11\" class=\"data row19 col11\" >0</td>\n",
       "      <td id=\"T_64040_row19_col12\" class=\"data row19 col12\" >0</td>\n",
       "      <td id=\"T_64040_row19_col13\" class=\"data row19 col13\" >0</td>\n",
       "      <td id=\"T_64040_row19_col14\" class=\"data row19 col14\" >25</td>\n",
       "      <td id=\"T_64040_row19_col15\" class=\"data row19 col15\" >240</td>\n",
       "      <td id=\"T_64040_row19_col16\" class=\"data row19 col16\" >254</td>\n",
       "      <td id=\"T_64040_row19_col17\" class=\"data row19 col17\" >254</td>\n",
       "      <td id=\"T_64040_row19_col18\" class=\"data row19 col18\" >34</td>\n",
       "      <td id=\"T_64040_row19_col19\" class=\"data row19 col19\" >0</td>\n",
       "      <td id=\"T_64040_row19_col20\" class=\"data row19 col20\" >0</td>\n",
       "      <td id=\"T_64040_row19_col21\" class=\"data row19 col21\" >0</td>\n",
       "      <td id=\"T_64040_row19_col22\" class=\"data row19 col22\" >0</td>\n",
       "      <td id=\"T_64040_row19_col23\" class=\"data row19 col23\" >0</td>\n",
       "      <td id=\"T_64040_row19_col24\" class=\"data row19 col24\" >0</td>\n",
       "      <td id=\"T_64040_row19_col25\" class=\"data row19 col25\" >0</td>\n",
       "      <td id=\"T_64040_row19_col26\" class=\"data row19 col26\" >0</td>\n",
       "      <td id=\"T_64040_row19_col27\" class=\"data row19 col27\" >0</td>\n",
       "    </tr>\n",
       "    <tr>\n",
       "      <th id=\"T_64040_level0_row20\" class=\"row_heading level0 row20\" >20</th>\n",
       "      <td id=\"T_64040_row20_col0\" class=\"data row20 col0\" >0</td>\n",
       "      <td id=\"T_64040_row20_col1\" class=\"data row20 col1\" >0</td>\n",
       "      <td id=\"T_64040_row20_col2\" class=\"data row20 col2\" >0</td>\n",
       "      <td id=\"T_64040_row20_col3\" class=\"data row20 col3\" >0</td>\n",
       "      <td id=\"T_64040_row20_col4\" class=\"data row20 col4\" >0</td>\n",
       "      <td id=\"T_64040_row20_col5\" class=\"data row20 col5\" >0</td>\n",
       "      <td id=\"T_64040_row20_col6\" class=\"data row20 col6\" >164</td>\n",
       "      <td id=\"T_64040_row20_col7\" class=\"data row20 col7\" >254</td>\n",
       "      <td id=\"T_64040_row20_col8\" class=\"data row20 col8\" >215</td>\n",
       "      <td id=\"T_64040_row20_col9\" class=\"data row20 col9\" >63</td>\n",
       "      <td id=\"T_64040_row20_col10\" class=\"data row20 col10\" >36</td>\n",
       "      <td id=\"T_64040_row20_col11\" class=\"data row20 col11\" >0</td>\n",
       "      <td id=\"T_64040_row20_col12\" class=\"data row20 col12\" >51</td>\n",
       "      <td id=\"T_64040_row20_col13\" class=\"data row20 col13\" >89</td>\n",
       "      <td id=\"T_64040_row20_col14\" class=\"data row20 col14\" >206</td>\n",
       "      <td id=\"T_64040_row20_col15\" class=\"data row20 col15\" >254</td>\n",
       "      <td id=\"T_64040_row20_col16\" class=\"data row20 col16\" >254</td>\n",
       "      <td id=\"T_64040_row20_col17\" class=\"data row20 col17\" >139</td>\n",
       "      <td id=\"T_64040_row20_col18\" class=\"data row20 col18\" >8</td>\n",
       "      <td id=\"T_64040_row20_col19\" class=\"data row20 col19\" >0</td>\n",
       "      <td id=\"T_64040_row20_col20\" class=\"data row20 col20\" >0</td>\n",
       "      <td id=\"T_64040_row20_col21\" class=\"data row20 col21\" >0</td>\n",
       "      <td id=\"T_64040_row20_col22\" class=\"data row20 col22\" >0</td>\n",
       "      <td id=\"T_64040_row20_col23\" class=\"data row20 col23\" >0</td>\n",
       "      <td id=\"T_64040_row20_col24\" class=\"data row20 col24\" >0</td>\n",
       "      <td id=\"T_64040_row20_col25\" class=\"data row20 col25\" >0</td>\n",
       "      <td id=\"T_64040_row20_col26\" class=\"data row20 col26\" >0</td>\n",
       "      <td id=\"T_64040_row20_col27\" class=\"data row20 col27\" >0</td>\n",
       "    </tr>\n",
       "    <tr>\n",
       "      <th id=\"T_64040_level0_row21\" class=\"row_heading level0 row21\" >21</th>\n",
       "      <td id=\"T_64040_row21_col0\" class=\"data row21 col0\" >0</td>\n",
       "      <td id=\"T_64040_row21_col1\" class=\"data row21 col1\" >0</td>\n",
       "      <td id=\"T_64040_row21_col2\" class=\"data row21 col2\" >0</td>\n",
       "      <td id=\"T_64040_row21_col3\" class=\"data row21 col3\" >0</td>\n",
       "      <td id=\"T_64040_row21_col4\" class=\"data row21 col4\" >0</td>\n",
       "      <td id=\"T_64040_row21_col5\" class=\"data row21 col5\" >0</td>\n",
       "      <td id=\"T_64040_row21_col6\" class=\"data row21 col6\" >57</td>\n",
       "      <td id=\"T_64040_row21_col7\" class=\"data row21 col7\" >197</td>\n",
       "      <td id=\"T_64040_row21_col8\" class=\"data row21 col8\" >254</td>\n",
       "      <td id=\"T_64040_row21_col9\" class=\"data row21 col9\" >254</td>\n",
       "      <td id=\"T_64040_row21_col10\" class=\"data row21 col10\" >222</td>\n",
       "      <td id=\"T_64040_row21_col11\" class=\"data row21 col11\" >180</td>\n",
       "      <td id=\"T_64040_row21_col12\" class=\"data row21 col12\" >241</td>\n",
       "      <td id=\"T_64040_row21_col13\" class=\"data row21 col13\" >254</td>\n",
       "      <td id=\"T_64040_row21_col14\" class=\"data row21 col14\" >254</td>\n",
       "      <td id=\"T_64040_row21_col15\" class=\"data row21 col15\" >253</td>\n",
       "      <td id=\"T_64040_row21_col16\" class=\"data row21 col16\" >213</td>\n",
       "      <td id=\"T_64040_row21_col17\" class=\"data row21 col17\" >11</td>\n",
       "      <td id=\"T_64040_row21_col18\" class=\"data row21 col18\" >0</td>\n",
       "      <td id=\"T_64040_row21_col19\" class=\"data row21 col19\" >0</td>\n",
       "      <td id=\"T_64040_row21_col20\" class=\"data row21 col20\" >0</td>\n",
       "      <td id=\"T_64040_row21_col21\" class=\"data row21 col21\" >0</td>\n",
       "      <td id=\"T_64040_row21_col22\" class=\"data row21 col22\" >0</td>\n",
       "      <td id=\"T_64040_row21_col23\" class=\"data row21 col23\" >0</td>\n",
       "      <td id=\"T_64040_row21_col24\" class=\"data row21 col24\" >0</td>\n",
       "      <td id=\"T_64040_row21_col25\" class=\"data row21 col25\" >0</td>\n",
       "      <td id=\"T_64040_row21_col26\" class=\"data row21 col26\" >0</td>\n",
       "      <td id=\"T_64040_row21_col27\" class=\"data row21 col27\" >0</td>\n",
       "    </tr>\n",
       "    <tr>\n",
       "      <th id=\"T_64040_level0_row22\" class=\"row_heading level0 row22\" >22</th>\n",
       "      <td id=\"T_64040_row22_col0\" class=\"data row22 col0\" >0</td>\n",
       "      <td id=\"T_64040_row22_col1\" class=\"data row22 col1\" >0</td>\n",
       "      <td id=\"T_64040_row22_col2\" class=\"data row22 col2\" >0</td>\n",
       "      <td id=\"T_64040_row22_col3\" class=\"data row22 col3\" >0</td>\n",
       "      <td id=\"T_64040_row22_col4\" class=\"data row22 col4\" >0</td>\n",
       "      <td id=\"T_64040_row22_col5\" class=\"data row22 col5\" >0</td>\n",
       "      <td id=\"T_64040_row22_col6\" class=\"data row22 col6\" >0</td>\n",
       "      <td id=\"T_64040_row22_col7\" class=\"data row22 col7\" >140</td>\n",
       "      <td id=\"T_64040_row22_col8\" class=\"data row22 col8\" >105</td>\n",
       "      <td id=\"T_64040_row22_col9\" class=\"data row22 col9\" >254</td>\n",
       "      <td id=\"T_64040_row22_col10\" class=\"data row22 col10\" >254</td>\n",
       "      <td id=\"T_64040_row22_col11\" class=\"data row22 col11\" >254</td>\n",
       "      <td id=\"T_64040_row22_col12\" class=\"data row22 col12\" >254</td>\n",
       "      <td id=\"T_64040_row22_col13\" class=\"data row22 col13\" >254</td>\n",
       "      <td id=\"T_64040_row22_col14\" class=\"data row22 col14\" >254</td>\n",
       "      <td id=\"T_64040_row22_col15\" class=\"data row22 col15\" >236</td>\n",
       "      <td id=\"T_64040_row22_col16\" class=\"data row22 col16\" >0</td>\n",
       "      <td id=\"T_64040_row22_col17\" class=\"data row22 col17\" >0</td>\n",
       "      <td id=\"T_64040_row22_col18\" class=\"data row22 col18\" >0</td>\n",
       "      <td id=\"T_64040_row22_col19\" class=\"data row22 col19\" >0</td>\n",
       "      <td id=\"T_64040_row22_col20\" class=\"data row22 col20\" >0</td>\n",
       "      <td id=\"T_64040_row22_col21\" class=\"data row22 col21\" >0</td>\n",
       "      <td id=\"T_64040_row22_col22\" class=\"data row22 col22\" >0</td>\n",
       "      <td id=\"T_64040_row22_col23\" class=\"data row22 col23\" >0</td>\n",
       "      <td id=\"T_64040_row22_col24\" class=\"data row22 col24\" >0</td>\n",
       "      <td id=\"T_64040_row22_col25\" class=\"data row22 col25\" >0</td>\n",
       "      <td id=\"T_64040_row22_col26\" class=\"data row22 col26\" >0</td>\n",
       "      <td id=\"T_64040_row22_col27\" class=\"data row22 col27\" >0</td>\n",
       "    </tr>\n",
       "    <tr>\n",
       "      <th id=\"T_64040_level0_row23\" class=\"row_heading level0 row23\" >23</th>\n",
       "      <td id=\"T_64040_row23_col0\" class=\"data row23 col0\" >0</td>\n",
       "      <td id=\"T_64040_row23_col1\" class=\"data row23 col1\" >0</td>\n",
       "      <td id=\"T_64040_row23_col2\" class=\"data row23 col2\" >0</td>\n",
       "      <td id=\"T_64040_row23_col3\" class=\"data row23 col3\" >0</td>\n",
       "      <td id=\"T_64040_row23_col4\" class=\"data row23 col4\" >0</td>\n",
       "      <td id=\"T_64040_row23_col5\" class=\"data row23 col5\" >0</td>\n",
       "      <td id=\"T_64040_row23_col6\" class=\"data row23 col6\" >0</td>\n",
       "      <td id=\"T_64040_row23_col7\" class=\"data row23 col7\" >0</td>\n",
       "      <td id=\"T_64040_row23_col8\" class=\"data row23 col8\" >7</td>\n",
       "      <td id=\"T_64040_row23_col9\" class=\"data row23 col9\" >117</td>\n",
       "      <td id=\"T_64040_row23_col10\" class=\"data row23 col10\" >117</td>\n",
       "      <td id=\"T_64040_row23_col11\" class=\"data row23 col11\" >165</td>\n",
       "      <td id=\"T_64040_row23_col12\" class=\"data row23 col12\" >254</td>\n",
       "      <td id=\"T_64040_row23_col13\" class=\"data row23 col13\" >254</td>\n",
       "      <td id=\"T_64040_row23_col14\" class=\"data row23 col14\" >239</td>\n",
       "      <td id=\"T_64040_row23_col15\" class=\"data row23 col15\" >50</td>\n",
       "      <td id=\"T_64040_row23_col16\" class=\"data row23 col16\" >0</td>\n",
       "      <td id=\"T_64040_row23_col17\" class=\"data row23 col17\" >0</td>\n",
       "      <td id=\"T_64040_row23_col18\" class=\"data row23 col18\" >0</td>\n",
       "      <td id=\"T_64040_row23_col19\" class=\"data row23 col19\" >0</td>\n",
       "      <td id=\"T_64040_row23_col20\" class=\"data row23 col20\" >0</td>\n",
       "      <td id=\"T_64040_row23_col21\" class=\"data row23 col21\" >0</td>\n",
       "      <td id=\"T_64040_row23_col22\" class=\"data row23 col22\" >0</td>\n",
       "      <td id=\"T_64040_row23_col23\" class=\"data row23 col23\" >0</td>\n",
       "      <td id=\"T_64040_row23_col24\" class=\"data row23 col24\" >0</td>\n",
       "      <td id=\"T_64040_row23_col25\" class=\"data row23 col25\" >0</td>\n",
       "      <td id=\"T_64040_row23_col26\" class=\"data row23 col26\" >0</td>\n",
       "      <td id=\"T_64040_row23_col27\" class=\"data row23 col27\" >0</td>\n",
       "    </tr>\n",
       "    <tr>\n",
       "      <th id=\"T_64040_level0_row24\" class=\"row_heading level0 row24\" >24</th>\n",
       "      <td id=\"T_64040_row24_col0\" class=\"data row24 col0\" >0</td>\n",
       "      <td id=\"T_64040_row24_col1\" class=\"data row24 col1\" >0</td>\n",
       "      <td id=\"T_64040_row24_col2\" class=\"data row24 col2\" >0</td>\n",
       "      <td id=\"T_64040_row24_col3\" class=\"data row24 col3\" >0</td>\n",
       "      <td id=\"T_64040_row24_col4\" class=\"data row24 col4\" >0</td>\n",
       "      <td id=\"T_64040_row24_col5\" class=\"data row24 col5\" >0</td>\n",
       "      <td id=\"T_64040_row24_col6\" class=\"data row24 col6\" >0</td>\n",
       "      <td id=\"T_64040_row24_col7\" class=\"data row24 col7\" >0</td>\n",
       "      <td id=\"T_64040_row24_col8\" class=\"data row24 col8\" >0</td>\n",
       "      <td id=\"T_64040_row24_col9\" class=\"data row24 col9\" >0</td>\n",
       "      <td id=\"T_64040_row24_col10\" class=\"data row24 col10\" >0</td>\n",
       "      <td id=\"T_64040_row24_col11\" class=\"data row24 col11\" >0</td>\n",
       "      <td id=\"T_64040_row24_col12\" class=\"data row24 col12\" >0</td>\n",
       "      <td id=\"T_64040_row24_col13\" class=\"data row24 col13\" >0</td>\n",
       "      <td id=\"T_64040_row24_col14\" class=\"data row24 col14\" >0</td>\n",
       "      <td id=\"T_64040_row24_col15\" class=\"data row24 col15\" >0</td>\n",
       "      <td id=\"T_64040_row24_col16\" class=\"data row24 col16\" >0</td>\n",
       "      <td id=\"T_64040_row24_col17\" class=\"data row24 col17\" >0</td>\n",
       "      <td id=\"T_64040_row24_col18\" class=\"data row24 col18\" >0</td>\n",
       "      <td id=\"T_64040_row24_col19\" class=\"data row24 col19\" >0</td>\n",
       "      <td id=\"T_64040_row24_col20\" class=\"data row24 col20\" >0</td>\n",
       "      <td id=\"T_64040_row24_col21\" class=\"data row24 col21\" >0</td>\n",
       "      <td id=\"T_64040_row24_col22\" class=\"data row24 col22\" >0</td>\n",
       "      <td id=\"T_64040_row24_col23\" class=\"data row24 col23\" >0</td>\n",
       "      <td id=\"T_64040_row24_col24\" class=\"data row24 col24\" >0</td>\n",
       "      <td id=\"T_64040_row24_col25\" class=\"data row24 col25\" >0</td>\n",
       "      <td id=\"T_64040_row24_col26\" class=\"data row24 col26\" >0</td>\n",
       "      <td id=\"T_64040_row24_col27\" class=\"data row24 col27\" >0</td>\n",
       "    </tr>\n",
       "    <tr>\n",
       "      <th id=\"T_64040_level0_row25\" class=\"row_heading level0 row25\" >25</th>\n",
       "      <td id=\"T_64040_row25_col0\" class=\"data row25 col0\" >0</td>\n",
       "      <td id=\"T_64040_row25_col1\" class=\"data row25 col1\" >0</td>\n",
       "      <td id=\"T_64040_row25_col2\" class=\"data row25 col2\" >0</td>\n",
       "      <td id=\"T_64040_row25_col3\" class=\"data row25 col3\" >0</td>\n",
       "      <td id=\"T_64040_row25_col4\" class=\"data row25 col4\" >0</td>\n",
       "      <td id=\"T_64040_row25_col5\" class=\"data row25 col5\" >0</td>\n",
       "      <td id=\"T_64040_row25_col6\" class=\"data row25 col6\" >0</td>\n",
       "      <td id=\"T_64040_row25_col7\" class=\"data row25 col7\" >0</td>\n",
       "      <td id=\"T_64040_row25_col8\" class=\"data row25 col8\" >0</td>\n",
       "      <td id=\"T_64040_row25_col9\" class=\"data row25 col9\" >0</td>\n",
       "      <td id=\"T_64040_row25_col10\" class=\"data row25 col10\" >0</td>\n",
       "      <td id=\"T_64040_row25_col11\" class=\"data row25 col11\" >0</td>\n",
       "      <td id=\"T_64040_row25_col12\" class=\"data row25 col12\" >0</td>\n",
       "      <td id=\"T_64040_row25_col13\" class=\"data row25 col13\" >0</td>\n",
       "      <td id=\"T_64040_row25_col14\" class=\"data row25 col14\" >0</td>\n",
       "      <td id=\"T_64040_row25_col15\" class=\"data row25 col15\" >0</td>\n",
       "      <td id=\"T_64040_row25_col16\" class=\"data row25 col16\" >0</td>\n",
       "      <td id=\"T_64040_row25_col17\" class=\"data row25 col17\" >0</td>\n",
       "      <td id=\"T_64040_row25_col18\" class=\"data row25 col18\" >0</td>\n",
       "      <td id=\"T_64040_row25_col19\" class=\"data row25 col19\" >0</td>\n",
       "      <td id=\"T_64040_row25_col20\" class=\"data row25 col20\" >0</td>\n",
       "      <td id=\"T_64040_row25_col21\" class=\"data row25 col21\" >0</td>\n",
       "      <td id=\"T_64040_row25_col22\" class=\"data row25 col22\" >0</td>\n",
       "      <td id=\"T_64040_row25_col23\" class=\"data row25 col23\" >0</td>\n",
       "      <td id=\"T_64040_row25_col24\" class=\"data row25 col24\" >0</td>\n",
       "      <td id=\"T_64040_row25_col25\" class=\"data row25 col25\" >0</td>\n",
       "      <td id=\"T_64040_row25_col26\" class=\"data row25 col26\" >0</td>\n",
       "      <td id=\"T_64040_row25_col27\" class=\"data row25 col27\" >0</td>\n",
       "    </tr>\n",
       "    <tr>\n",
       "      <th id=\"T_64040_level0_row26\" class=\"row_heading level0 row26\" >26</th>\n",
       "      <td id=\"T_64040_row26_col0\" class=\"data row26 col0\" >0</td>\n",
       "      <td id=\"T_64040_row26_col1\" class=\"data row26 col1\" >0</td>\n",
       "      <td id=\"T_64040_row26_col2\" class=\"data row26 col2\" >0</td>\n",
       "      <td id=\"T_64040_row26_col3\" class=\"data row26 col3\" >0</td>\n",
       "      <td id=\"T_64040_row26_col4\" class=\"data row26 col4\" >0</td>\n",
       "      <td id=\"T_64040_row26_col5\" class=\"data row26 col5\" >0</td>\n",
       "      <td id=\"T_64040_row26_col6\" class=\"data row26 col6\" >0</td>\n",
       "      <td id=\"T_64040_row26_col7\" class=\"data row26 col7\" >0</td>\n",
       "      <td id=\"T_64040_row26_col8\" class=\"data row26 col8\" >0</td>\n",
       "      <td id=\"T_64040_row26_col9\" class=\"data row26 col9\" >0</td>\n",
       "      <td id=\"T_64040_row26_col10\" class=\"data row26 col10\" >0</td>\n",
       "      <td id=\"T_64040_row26_col11\" class=\"data row26 col11\" >0</td>\n",
       "      <td id=\"T_64040_row26_col12\" class=\"data row26 col12\" >0</td>\n",
       "      <td id=\"T_64040_row26_col13\" class=\"data row26 col13\" >0</td>\n",
       "      <td id=\"T_64040_row26_col14\" class=\"data row26 col14\" >0</td>\n",
       "      <td id=\"T_64040_row26_col15\" class=\"data row26 col15\" >0</td>\n",
       "      <td id=\"T_64040_row26_col16\" class=\"data row26 col16\" >0</td>\n",
       "      <td id=\"T_64040_row26_col17\" class=\"data row26 col17\" >0</td>\n",
       "      <td id=\"T_64040_row26_col18\" class=\"data row26 col18\" >0</td>\n",
       "      <td id=\"T_64040_row26_col19\" class=\"data row26 col19\" >0</td>\n",
       "      <td id=\"T_64040_row26_col20\" class=\"data row26 col20\" >0</td>\n",
       "      <td id=\"T_64040_row26_col21\" class=\"data row26 col21\" >0</td>\n",
       "      <td id=\"T_64040_row26_col22\" class=\"data row26 col22\" >0</td>\n",
       "      <td id=\"T_64040_row26_col23\" class=\"data row26 col23\" >0</td>\n",
       "      <td id=\"T_64040_row26_col24\" class=\"data row26 col24\" >0</td>\n",
       "      <td id=\"T_64040_row26_col25\" class=\"data row26 col25\" >0</td>\n",
       "      <td id=\"T_64040_row26_col26\" class=\"data row26 col26\" >0</td>\n",
       "      <td id=\"T_64040_row26_col27\" class=\"data row26 col27\" >0</td>\n",
       "    </tr>\n",
       "    <tr>\n",
       "      <th id=\"T_64040_level0_row27\" class=\"row_heading level0 row27\" >27</th>\n",
       "      <td id=\"T_64040_row27_col0\" class=\"data row27 col0\" >0</td>\n",
       "      <td id=\"T_64040_row27_col1\" class=\"data row27 col1\" >0</td>\n",
       "      <td id=\"T_64040_row27_col2\" class=\"data row27 col2\" >0</td>\n",
       "      <td id=\"T_64040_row27_col3\" class=\"data row27 col3\" >0</td>\n",
       "      <td id=\"T_64040_row27_col4\" class=\"data row27 col4\" >0</td>\n",
       "      <td id=\"T_64040_row27_col5\" class=\"data row27 col5\" >0</td>\n",
       "      <td id=\"T_64040_row27_col6\" class=\"data row27 col6\" >0</td>\n",
       "      <td id=\"T_64040_row27_col7\" class=\"data row27 col7\" >0</td>\n",
       "      <td id=\"T_64040_row27_col8\" class=\"data row27 col8\" >0</td>\n",
       "      <td id=\"T_64040_row27_col9\" class=\"data row27 col9\" >0</td>\n",
       "      <td id=\"T_64040_row27_col10\" class=\"data row27 col10\" >0</td>\n",
       "      <td id=\"T_64040_row27_col11\" class=\"data row27 col11\" >0</td>\n",
       "      <td id=\"T_64040_row27_col12\" class=\"data row27 col12\" >0</td>\n",
       "      <td id=\"T_64040_row27_col13\" class=\"data row27 col13\" >0</td>\n",
       "      <td id=\"T_64040_row27_col14\" class=\"data row27 col14\" >0</td>\n",
       "      <td id=\"T_64040_row27_col15\" class=\"data row27 col15\" >0</td>\n",
       "      <td id=\"T_64040_row27_col16\" class=\"data row27 col16\" >0</td>\n",
       "      <td id=\"T_64040_row27_col17\" class=\"data row27 col17\" >0</td>\n",
       "      <td id=\"T_64040_row27_col18\" class=\"data row27 col18\" >0</td>\n",
       "      <td id=\"T_64040_row27_col19\" class=\"data row27 col19\" >0</td>\n",
       "      <td id=\"T_64040_row27_col20\" class=\"data row27 col20\" >0</td>\n",
       "      <td id=\"T_64040_row27_col21\" class=\"data row27 col21\" >0</td>\n",
       "      <td id=\"T_64040_row27_col22\" class=\"data row27 col22\" >0</td>\n",
       "      <td id=\"T_64040_row27_col23\" class=\"data row27 col23\" >0</td>\n",
       "      <td id=\"T_64040_row27_col24\" class=\"data row27 col24\" >0</td>\n",
       "      <td id=\"T_64040_row27_col25\" class=\"data row27 col25\" >0</td>\n",
       "      <td id=\"T_64040_row27_col26\" class=\"data row27 col26\" >0</td>\n",
       "      <td id=\"T_64040_row27_col27\" class=\"data row27 col27\" >0</td>\n",
       "    </tr>\n",
       "  </tbody>\n",
       "</table>\n"
      ],
      "text/plain": [
       "<pandas.io.formats.style.Styler at 0x15249ed10>"
      ]
     },
     "execution_count": 11,
     "metadata": {},
     "output_type": "execute_result"
    }
   ],
   "source": [
    "im3_t = tensor(img3)\n",
    "df = pd.DataFrame(im3_t)\n",
    "df.style.set_properties(**{'font-size':'8pt'}).background_gradient('Greys')"
   ]
  },
  {
   "cell_type": "code",
   "execution_count": 12,
   "id": "c7e0cc30-2002-4256-833a-255eeea8095b",
   "metadata": {},
   "outputs": [
    {
     "data": {
      "text/plain": [
       "\u001b[31mSignature:\u001b[39m\n",
       "tensor(\n",
       "    x,\n",
       "    *rest,\n",
       "    dtype=\u001b[38;5;28;01mNone\u001b[39;00m,\n",
       "    device=\u001b[38;5;28;01mNone\u001b[39;00m,\n",
       "    requires_grad=\u001b[38;5;28;01mFalse\u001b[39;00m,\n",
       "    pin_memory=\u001b[38;5;28;01mFalse\u001b[39;00m,\n",
       ")\n",
       "\u001b[31mDocstring:\u001b[39m Like `torch.as_tensor`, but handle lists too, and can pass multiple vector elements directly.\n",
       "\u001b[31mFile:\u001b[39m      ~/venv/lib/python3.11/site-packages/fastai/torch_core.py\n",
       "\u001b[31mType:\u001b[39m      function"
      ]
     },
     "metadata": {},
     "output_type": "display_data"
    }
   ],
   "source": [
    "tensor?"
   ]
  },
  {
   "cell_type": "markdown",
   "id": "b8a2a82a-dcb1-4af6-bfd2-e701a0fe3eb9",
   "metadata": {},
   "source": [
    "# Try Pixel Similarity"
   ]
  },
  {
   "cell_type": "markdown",
   "id": "f0672274-2a5a-405e-9f3f-91f853d2084d",
   "metadata": {},
   "source": [
    "Before we create a more advanced model, let's start with something quick and simple. We'll calculate the average of all pixels for a given number."
   ]
  },
  {
   "cell_type": "code",
   "execution_count": 13,
   "id": "6d8d9f44-a1d0-4136-a959-571d4d0b373b",
   "metadata": {},
   "outputs": [],
   "source": [
    "def avg_mask(number=\"3\"):\n",
    "    folder_path = path / \"train\" / number\n",
    "    image_files = [f for f in os.listdir(folder_path) if f.lower().endswith(('.png', '.jpg', '.jpeg', '.gif', '.bmp'))]\n",
    "    return [tensor(Image.open(folder_path / o)) for o in image_files]\n",
    "    "
   ]
  },
  {
   "cell_type": "code",
   "execution_count": 14,
   "id": "aa348032-5f21-4e79-8d0b-4aa5eb2e8106",
   "metadata": {},
   "outputs": [],
   "source": [
    "three_tensors = avg_mask(\"3\")"
   ]
  },
  {
   "cell_type": "code",
   "execution_count": 15,
   "id": "0762c2c9-5609-4a22-99fc-9fd786779272",
   "metadata": {},
   "outputs": [
    {
     "data": {
      "image/png": "[encoded data removed]",
      "text/plain": [
       "<Figure size 100x100 with 1 Axes>"
      ]
     },
     "metadata": {},
     "output_type": "display_data"
    }
   ],
   "source": [
    "show_image(three_tensors[112]);"
   ]
  },
  {
   "cell_type": "code",
   "execution_count": 16,
   "id": "12d0b1e2-1867-4a3a-abd5-5be88fcb32d6",
   "metadata": {},
   "outputs": [
    {
     "data": {
      "text/plain": [
       "\u001b[31mDocstring:\u001b[39m\n",
       "stack(tensors, dim=0, *, out=None) -> Tensor\n",
       "\n",
       "Concatenates a sequence of tensors along a new dimension.\n",
       "\n",
       "All tensors need to be of the same size.\n",
       "\n",
       ".. seealso::\n",
       "\n",
       "    :func:`torch.cat` concatenates the given sequence along an existing dimension.\n",
       "\n",
       "Arguments:\n",
       "    tensors (sequence of Tensors): sequence of tensors to concatenate\n",
       "    dim (int, optional): dimension to insert. Has to be between 0 and the number\n",
       "        of dimensions of concatenated tensors (inclusive). Default: 0\n",
       "\n",
       "Keyword args:\n",
       "    out (Tensor, optional): the output tensor.\n",
       "\n",
       "Example::\n",
       "\n",
       "    >>> x = torch.randn(2, 3)\n",
       "    >>> x\n",
       "    tensor([[ 0.3367,  0.1288,  0.2345],\n",
       "            [ 0.2303, -1.1229, -0.1863]])\n",
       "    >>> torch.stack((x, x)) # same as torch.stack((x, x), dim=0)\n",
       "    tensor([[[ 0.3367,  0.1288,  0.2345],\n",
       "             [ 0.2303, -1.1229, -0.1863]],\n",
       "\n",
       "            [[ 0.3367,  0.1288,  0.2345],\n",
       "             [ 0.2303, -1.1229, -0.1863]]])\n",
       "    >>> torch.stack((x, x)).size()\n",
       "    torch.Size([2, 2, 3])\n",
       "    >>> torch.stack((x, x), dim=1)\n",
       "    tensor([[[ 0.3367,  0.1288,  0.2345],\n",
       "             [ 0.3367,  0.1288,  0.2345]],\n",
       "\n",
       "            [[ 0.2303, -1.1229, -0.1863],\n",
       "             [ 0.2303, -1.1229, -0.1863]]])\n",
       "    >>> torch.stack((x, x), dim=2)\n",
       "    tensor([[[ 0.3367,  0.3367],\n",
       "             [ 0.1288,  0.1288],\n",
       "             [ 0.2345,  0.2345]],\n",
       "\n",
       "            [[ 0.2303,  0.2303],\n",
       "             [-1.1229, -1.1229],\n",
       "             [-0.1863, -0.1863]]])\n",
       "    >>> torch.stack((x, x), dim=-1)\n",
       "    tensor([[[ 0.3367,  0.3367],\n",
       "             [ 0.1288,  0.1288],\n",
       "             [ 0.2345,  0.2345]],\n",
       "\n",
       "            [[ 0.2303,  0.2303],\n",
       "             [-1.1229, -1.1229],\n",
       "             [-0.1863, -0.1863]]])\n",
       "\u001b[31mType:\u001b[39m      builtin_function_or_method"
      ]
     },
     "metadata": {},
     "output_type": "display_data"
    }
   ],
   "source": [
    "torch.stack?"
   ]
  },
  {
   "cell_type": "code",
   "execution_count": 17,
   "id": "eb47b850-3b05-439f-a203-defaa7ac6259",
   "metadata": {},
   "outputs": [],
   "source": [
    "# Also cast to float and normilize to be between 0 and 1\n",
    "threes = torch.stack(three_tensors).float()/255"
   ]
  },
  {
   "cell_type": "code",
   "execution_count": 18,
   "id": "0ef764e4-3592-4d31-aa06-29e416626c86",
   "metadata": {},
   "outputs": [
    {
     "name": "stdout",
     "output_type": "stream",
     "text": [
      "Shape: torch.Size([6131, 28, 28]), rank: 3\n"
     ]
    }
   ],
   "source": [
    "print(f\"Shape: {threes.shape}, rank: {threes.ndim}\")"
   ]
  },
  {
   "cell_type": "markdown",
   "id": "acafe166-f637-431c-8108-cfbbc66bc96f",
   "metadata": {},
   "source": [
    "The rank of a tensor refers to the number of dimensions (or axes) it has. \n",
    "\n",
    "| Tensor Type | Rank | Example Shape      | Example Description         |\n",
    "|-------------|------|--------------------|-----------------------------|\n",
    "| Scalar      | 0    | `()`               | A single number             |\n",
    "| Vector      | 1    | `(3,)`             | A 1D array                  |\n",
    "| Matrix      | 2    | `(3, 4)`           | A 2D array (rows × columns) |\n",
    "| 3D Tensor   | 3    | `(2, 3, 4)`        | 3D array                    |\n",
    "| n-D Tensor  | n    | `(d1, d2, ..., dn)`| n-dimensional array         |\n"
   ]
  },
  {
   "cell_type": "code",
   "execution_count": 19,
   "id": "58f3e24d-354d-421e-aa4d-ddb9b5995aeb",
   "metadata": {},
   "outputs": [
    {
     "data": {
      "text/plain": [
       "<Axes: >"
      ]
     },
     "execution_count": 19,
     "metadata": {},
     "output_type": "execute_result"
    },
    {
     "data": {
      "image/png": "[encoded data removed]",
      "text/plain": [
       "<Figure size 100x100 with 1 Axes>"
      ]
     },
     "metadata": {},
     "output_type": "display_data"
    }
   ],
   "source": [
    "# Take a mean along dimension zero:\n",
    "mean3 = threes.mean(0)\n",
    "show_image(mean3)"
   ]
  },
  {
   "cell_type": "code",
   "execution_count": 20,
   "id": "5a19f18c-caff-438c-8ec2-15f4680d6c74",
   "metadata": {},
   "outputs": [],
   "source": [
    "seven_tensors = avg_mask(\"7\")\n",
    "sevens = torch.stack(seven_tensors).float()/255\n",
    "mean7 = sevens.mean(0)"
   ]
  },
  {
   "cell_type": "code",
   "execution_count": 21,
   "id": "c3e20287-9e0e-41ca-bd97-38734e8b945e",
   "metadata": {},
   "outputs": [
    {
     "data": {
      "text/plain": [
       "<Axes: >"
      ]
     },
     "execution_count": 21,
     "metadata": {},
     "output_type": "execute_result"
    },
    {
     "data": {
      "image/png": "[encoded data removed]",
      "text/plain": [
       "<Figure size 100x100 with 1 Axes>"
      ]
     },
     "metadata": {},
     "output_type": "display_data"
    }
   ],
   "source": [
    "show_image(mean7)"
   ]
  },
  {
   "cell_type": "code",
   "execution_count": 22,
   "id": "034e3011-19cd-4e6d-94f4-5e3305ebd4ef",
   "metadata": {},
   "outputs": [
    {
     "data": {
      "text/plain": [
       "(tensor(0.0670), tensor(0.1046))"
      ]
     },
     "execution_count": 22,
     "metadata": {},
     "output_type": "execute_result"
    }
   ],
   "source": [
    "# PyTorch already provides root mean squared error (RMSE) or L2 norm.\n",
    "F.mse_loss(threes[112].float(), mean3), F.mse_loss(threes[112].float(), mean7) # ((a_3 - mean7)**2).mean().sqrt()"
   ]
  },
  {
   "cell_type": "markdown",
   "id": "6c13db2c-500b-4aca-9547-d7f526b4ef20",
   "metadata": {},
   "source": [
    "# Stochastic Gradient Descent\n",
    "\n",
    "PyTorch can automatically compute the derivative of almost any function. It does this by tagging variables so it can track how to calculate gradients during subsequent operations. In deep learning, \"gradients\" typically refer to the value of a function's derivative at a specific input."
   ]
  },
  {
   "cell_type": "code",
   "execution_count": 23,
   "id": "268d2f1b-86f8-49ad-bb2c-95c111f1356f",
   "metadata": {},
   "outputs": [],
   "source": [
    "def f(x): return x**2"
   ]
  },
  {
   "cell_type": "code",
   "execution_count": 24,
   "id": "bd666e66-354a-4a56-9aca-438aed2affef",
   "metadata": {},
   "outputs": [],
   "source": [
    "xt = tensor(3.).requires_grad_()"
   ]
  },
  {
   "cell_type": "code",
   "execution_count": 25,
   "id": "62806821-ac31-4968-8d17-18835f4caea4",
   "metadata": {},
   "outputs": [
    {
     "data": {
      "text/plain": [
       "tensor(9., grad_fn=<PowBackward0>)"
      ]
     },
     "execution_count": 25,
     "metadata": {},
     "output_type": "execute_result"
    }
   ],
   "source": [
    "yt = f(xt)\n",
    "yt"
   ]
  },
  {
   "cell_type": "markdown",
   "id": "fdab9128-8ef9-44cf-ba56-5fe19df84a07",
   "metadata": {},
   "source": [
    "We can now ask PyTorch to calculate gradient for us:"
   ]
  },
  {
   "cell_type": "code",
   "execution_count": 26,
   "id": "a8f6fab4-16c8-4a7e-ad85-92a1d5315196",
   "metadata": {},
   "outputs": [],
   "source": [
    "yt.backward()  # Or simply - calculate_grad!"
   ]
  },
  {
   "cell_type": "code",
   "execution_count": 27,
   "id": "de6ebad6-84b1-4410-b828-7f25d91fb1d9",
   "metadata": {},
   "outputs": [
    {
     "data": {
      "text/plain": [
       "tensor(6.)"
      ]
     },
     "execution_count": 27,
     "metadata": {},
     "output_type": "execute_result"
    }
   ],
   "source": [
    "xt.grad"
   ]
  },
  {
   "cell_type": "markdown",
   "id": "175e4785-3a11-49ac-b62e-432a600d4ee1",
   "metadata": {},
   "source": [
    "## Automatic Differentiation"
   ]
  },
  {
   "cell_type": "code",
   "execution_count": 28,
   "id": "fac05ec1-44ea-4b17-b969-02955d842772",
   "metadata": {},
   "outputs": [],
   "source": [
    "a = tensor([2., 3.]).requires_grad_()\n",
    "b = tensor([6., 4.]).requires_grad_()"
   ]
  },
  {
   "cell_type": "code",
   "execution_count": 29,
   "id": "aafa1e4a-7053-43e2-bb1a-ac7c0b84042d",
   "metadata": {},
   "outputs": [],
   "source": [
    "Q = 3*a**3 - b**2"
   ]
  },
  {
   "cell_type": "code",
   "execution_count": 30,
   "id": "dfb3d761-2eda-4c64-a39d-ad3d817ad4be",
   "metadata": {},
   "outputs": [
    {
     "data": {
      "text/plain": [
       "tensor([-12.,  65.], grad_fn=<SubBackward0>)"
      ]
     },
     "execution_count": 30,
     "metadata": {},
     "output_type": "execute_result"
    }
   ],
   "source": [
    "Q"
   ]
  },
  {
   "cell_type": "code",
   "execution_count": 31,
   "id": "8f8e3a5e-d75d-4913-bc83-6a016ccea3e8",
   "metadata": {},
   "outputs": [],
   "source": [
    "external_grad = torch.tensor([1., 1.])\n",
    "Q.backward(gradient=external_grad)"
   ]
  },
  {
   "cell_type": "markdown",
   "id": "2927b043-dbf3-4e94-ab46-977a54b98eed",
   "metadata": {},
   "source": [
    "When we call .backward() on Q, autograd calculates gradients and stores them in the respective tensors’ .grad attribute."
   ]
  },
  {
   "cell_type": "code",
   "execution_count": 32,
   "id": "66f608e2-eb25-4898-ad09-07d7d96079e1",
   "metadata": {},
   "outputs": [
    {
     "name": "stdout",
     "output_type": "stream",
     "text": [
      "tensor([36., 81.])\n",
      "tensor([-12.,  -8.])\n"
     ]
    }
   ],
   "source": [
    "print(a.grad)\n",
    "print(b.grad)"
   ]
  },
  {
   "cell_type": "markdown",
   "id": "ed95cf4f-9fdc-41a4-a87e-87526288f3ee",
   "metadata": {},
   "source": [
    "## A Tensor with rank > 0"
   ]
  },
  {
   "cell_type": "markdown",
   "id": "c8244591-e54f-4ec0-825e-dee665cda0f6",
   "metadata": {},
   "source": [
    "Behind the scenes PyTorch has an **autograd** (automatic differentiation) engine. It builds a computation graph dynamically as you perform operations on tensors with `requires_grad=True`."
   ]
  },
  {
   "cell_type": "code",
   "execution_count": 33,
   "id": "3ca28a13-d242-4bad-bbf8-f018b1172520",
   "metadata": {},
   "outputs": [
    {
     "data": {
      "text/plain": [
       "tensor([ 3.,  4., 10.], requires_grad=True)"
      ]
     },
     "execution_count": 33,
     "metadata": {},
     "output_type": "execute_result"
    }
   ],
   "source": [
    "# We can repeat the same operation for multiple values:\n",
    "xt = tensor([3.,4.,10.]).requires_grad_()\n",
    "xt"
   ]
  },
  {
   "cell_type": "code",
   "execution_count": 34,
   "id": "7e903777-c73b-4c07-96e8-4d1fead98e3e",
   "metadata": {},
   "outputs": [
    {
     "data": {
      "text/plain": [
       "tensor(125., grad_fn=<SumBackward0>)"
      ]
     },
     "execution_count": 34,
     "metadata": {},
     "output_type": "execute_result"
    }
   ],
   "source": [
    "# And we'll add sum to our function so it can take a vector (i.e., a rank-1 tensor), and return a scalar (i.e., a rank-0 tensor):\n",
    "def f(x): return (x**2).sum() \n",
    "\n",
    "yt = f(xt)\n",
    "yt"
   ]
  },
  {
   "cell_type": "code",
   "execution_count": 35,
   "id": "8e840575-8fc5-46cf-8260-eb03efbf6e9e",
   "metadata": {},
   "outputs": [
    {
     "data": {
      "text/plain": [
       "tensor([ 6.,  8., 20.])"
      ]
     },
     "execution_count": 35,
     "metadata": {},
     "output_type": "execute_result"
    }
   ],
   "source": [
    "yt.backward()\n",
    "xt.grad"
   ]
  },
  {
   "cell_type": "markdown",
   "id": "3d7428ba-8f72-4b2c-9d04-63de8a53de9b",
   "metadata": {},
   "source": [
    "The gradients only tell us the slope of our function, they don't actually tell us exactly how far to adjust the parameters. But it gives us some idea of how far; if the slope is very large, then that may suggest that we have more adjustments to do, whereas if the slope is very small, that may suggest that we are close to the optimal value."
   ]
  },
  {
   "cell_type": "markdown",
   "id": "3a197ec8-8bc9-45b7-b337-9dcbef8ab72c",
   "metadata": {},
   "source": [
    "## E2E Example: Linear Function"
   ]
  },
  {
   "cell_type": "markdown",
   "id": "3973b2ca-af27-4cce-b43c-fb7ffcab4a17",
   "metadata": {},
   "source": [
    "The model is very simple: $y_{pred} = x_1*w_1 + x_2*w_2$"
   ]
  },
  {
   "cell_type": "code",
   "execution_count": 36,
   "id": "3103d4f7-acce-4b44-9a71-3f495e1aea05",
   "metadata": {},
   "outputs": [],
   "source": [
    "def model(x1, x2, w1, w2):\n",
    "    return x1*w1 + x2*w2"
   ]
  },
  {
   "cell_type": "code",
   "execution_count": 37,
   "id": "52e28e42-922f-4036-ad8a-c98ea2d40d90",
   "metadata": {},
   "outputs": [],
   "source": [
    "# Let's say that my inputs, also known as training data, x1 = 2, x2 = 1\n",
    "data = torch.tensor([2., 1.])\n",
    "# let's say that the gound y = 4\n",
    "y_true = torch.tensor([4.])\n",
    "# Let's initialize the values of w1 and w2 by randomly setting both to 1. Since these are the parameters we want to optimize, we'll also track their gradients.\n",
    "ws = torch.tensor([1., 1.]).requires_grad_()"
   ]
  },
  {
   "cell_type": "code",
   "execution_count": 38,
   "id": "e3e8548b-f68d-48fc-b32d-5dfc905b8ef7",
   "metadata": {},
   "outputs": [],
   "source": [
    "# Now we are ready to run the prediction:\n",
    "y_pred = model(*data, *ws)"
   ]
  },
  {
   "cell_type": "code",
   "execution_count": 39,
   "id": "c2f164b0-0a1c-4e05-b8ed-6049762f08aa",
   "metadata": {},
   "outputs": [
    {
     "name": "stdout",
     "output_type": "stream",
     "text": [
      "tensor(3., grad_fn=<AddBackward0>)\n"
     ]
    }
   ],
   "source": [
    "print(y_pred)"
   ]
  },
  {
   "cell_type": "code",
   "execution_count": 40,
   "id": "6fe6094b-8209-436c-ad18-204a96704a55",
   "metadata": {},
   "outputs": [],
   "source": [
    "# We need to define a loss function.\n",
    "def mse(preds, targets):\n",
    "    return (preds-targets)**2"
   ]
  },
  {
   "cell_type": "code",
   "execution_count": 41,
   "id": "7d2113df-dea6-458e-b5d4-6d656cec2d20",
   "metadata": {},
   "outputs": [],
   "source": [
    "loss = mse(y_pred, y_true)"
   ]
  },
  {
   "cell_type": "code",
   "execution_count": 42,
   "id": "b1892605-a34e-41af-a88b-233461138104",
   "metadata": {},
   "outputs": [
    {
     "name": "stdout",
     "output_type": "stream",
     "text": [
      "tensor([1.], grad_fn=<PowBackward0>)\n"
     ]
    }
   ],
   "source": [
    "print(loss)"
   ]
  },
  {
   "cell_type": "code",
   "execution_count": 43,
   "id": "4c7e36ee-b3bb-41ef-aa2e-3715732c655f",
   "metadata": {},
   "outputs": [
    {
     "name": "stdout",
     "output_type": "stream",
     "text": [
      "tensor([-4., -2.])\n"
     ]
    }
   ],
   "source": [
    "# Now we can extract gradients, isntead of calculating them manually!\n",
    "loss.backward()\n",
    "print(ws.grad)"
   ]
  },
  {
   "cell_type": "code",
   "execution_count": 44,
   "id": "b93590c6-3a43-45cb-a28f-4696482f2f2b",
   "metadata": {},
   "outputs": [],
   "source": [
    "lr = 1e-2\n",
    "ws.data -= lr * ws.grad.data"
   ]
  },
  {
   "cell_type": "markdown",
   "id": "9ffbfe52-ff61-4dd3-8b55-f986572fbb4d",
   "metadata": {},
   "source": [
    "## E2E Example: Non-Linear Function"
   ]
  },
  {
   "cell_type": "code",
   "execution_count": 45,
   "id": "8c326c65-c5a8-4522-861b-d40a0dbf83e3",
   "metadata": {},
   "outputs": [],
   "source": [
    "# A toy example of speed over time.\n",
    "time = torch.arange(0, 20).float()\n",
    "speed = torch.randn(20)*3 + 0.75*(time-9.5)**2 + 1"
   ]
  },
  {
   "cell_type": "code",
   "execution_count": 46,
   "id": "6345ddc1-c038-496e-8e90-a984d5d22b16",
   "metadata": {},
   "outputs": [
    {
     "name": "stdout",
     "output_type": "stream",
     "text": [
      "tensor([74.4682, 59.6494, 45.8897, 26.3709, 21.4131, 19.4225, 12.5899, 10.7294,  3.7551, -0.8724, -0.2926,  3.4120,  4.9926, 10.3128, 15.4328, 26.2671, 31.7583, 42.0004, 57.5977, 66.8227])\n"
     ]
    }
   ],
   "source": [
    "print(speed)"
   ]
  },
  {
   "cell_type": "code",
   "execution_count": 47,
   "id": "929eedfb-01dd-463b-ac4d-aa9ba34b11a9",
   "metadata": {},
   "outputs": [
    {
     "data": {
      "image/png": "[encoded data removed]",
      "text/plain": [
       "<Figure size 640x480 with 1 Axes>"
      ]
     },
     "metadata": {},
     "output_type": "display_data"
    }
   ],
   "source": [
    "plt.scatter(time,speed);"
   ]
  },
  {
   "cell_type": "code",
   "execution_count": 48,
   "id": "669a6d99-e383-499a-9e83-6b01699e0648",
   "metadata": {},
   "outputs": [],
   "source": [
    "# Let's make a \"wild\" guess and try to approximate data with quadratic function.\n",
    "def f(t, params):\n",
    "    a,b,c = params\n",
    "    return a*(t**2) + (b*t) + c"
   ]
  },
  {
   "cell_type": "markdown",
   "id": "d9f4f133-1a05-41e0-80f9-c37b8c29e47a",
   "metadata": {},
   "source": [
    "If we can solve this problem for the three parameters of a quadratic function, we'll be able to apply the same approach for other, more complex functions with more parameters—such as a neural net.\n",
    "\n",
    "We need to define first what we mean by \"best.\" We define this precisely by choosing a loss function, which will return a value based on a prediction and a target, where lower values of the function correspond to \"better\" predictions."
   ]
  },
  {
   "cell_type": "code",
   "execution_count": 49,
   "id": "0dbfb6b9-90ca-4121-8d0b-df0c1cce8350",
   "metadata": {},
   "outputs": [],
   "source": [
    "# The loss function quantifies how well your parameters (a, b, and c) currently fit your data\n",
    "def mse(preds, targets):\n",
    "    return ((preds-targets)**2).mean()"
   ]
  },
  {
   "cell_type": "code",
   "execution_count": 50,
   "id": "b57f1ff6-a251-44ba-804c-2eff2f82305d",
   "metadata": {},
   "outputs": [],
   "source": [
    "# Step 1: Init a, b, and c to random variable and track gradients.\n",
    "params = torch.randn(3).requires_grad_()"
   ]
  },
  {
   "cell_type": "code",
   "execution_count": 51,
   "id": "cfd88dff-e8a0-4108-9230-a2e7fe668198",
   "metadata": {},
   "outputs": [
    {
     "name": "stdout",
     "output_type": "stream",
     "text": [
      "tensor([ 1.3525e+00, -1.6391e-01, -3.2121e+00, -7.7919e+00, -1.3903e+01, -2.1547e+01, -3.0721e+01, -4.1428e+01, -5.3666e+01, -6.7436e+01, -8.2738e+01, -9.9571e+01, -1.1794e+02, -1.3783e+02,\n",
      "        -1.5926e+02, -1.8222e+02, -2.0671e+02, -2.3274e+02, -2.6029e+02, -2.8938e+02], grad_fn=<AddBackward0>)\n"
     ]
    }
   ],
   "source": [
    "# Step 2: Calculate the predictions\n",
    "preds = f(time, params)\n",
    "print(preds)"
   ]
  },
  {
   "cell_type": "code",
   "execution_count": 52,
   "id": "1b42687e-3c6e-46fb-8d6b-4890fb0b4ead",
   "metadata": {},
   "outputs": [
    {
     "data": {
      "image/png": "[encoded data removed]",
      "text/plain": [
       "<Figure size 640x480 with 1 Axes>"
      ]
     },
     "metadata": {},
     "output_type": "display_data"
    }
   ],
   "source": [
    "def show_preds(preds, ax=None):\n",
    "    if ax is None: ax=plt.subplots()[1]\n",
    "    ax.scatter(time, speed)\n",
    "    ax.scatter(time, to_np(preds), color='red')\n",
    "    ax.set_ylim(-300,100)\n",
    "\n",
    "show_preds(preds)"
   ]
  },
  {
   "cell_type": "code",
   "execution_count": 53,
   "id": "5c4d9ce2-0198-4aff-a571-29cb5928c779",
   "metadata": {},
   "outputs": [
    {
     "data": {
      "text/plain": [
       "tensor(25823.8086, grad_fn=<MeanBackward0>)"
      ]
     },
     "execution_count": 53,
     "metadata": {},
     "output_type": "execute_result"
    }
   ],
   "source": [
    "# Step 3: Calculate the loss. We will be looking for improving gradients for losses, not for the original function!\n",
    "# Original function is important only for the forward pass when predict.\n",
    "loss = mse(preds, speed)\n",
    "loss"
   ]
  },
  {
   "cell_type": "code",
   "execution_count": 54,
   "id": "e35ed437-7d78-4993-a54c-22c63865c72f",
   "metadata": {},
   "outputs": [],
   "source": [
    "# Step 4: Calculate the gradients\n",
    "loss.backward()"
   ]
  },
  {
   "cell_type": "code",
   "execution_count": 55,
   "id": "50ec588c-1ac9-4da3-b249-2e04df701a0f",
   "metadata": {},
   "outputs": [
    {
     "data": {
      "text/plain": [
       "tensor([-53195.8594,  -3419.7146,   -253.8908])"
      ]
     },
     "execution_count": 55,
     "metadata": {},
     "output_type": "execute_result"
    }
   ],
   "source": [
    "params.grad  # Gradient vector of a loss function."
   ]
  },
  {
   "cell_type": "markdown",
   "id": "0689e55e-97bb-4fd3-a22a-389ba8b75622",
   "metadata": {},
   "source": [
    "PyTorch computes the partial derivatives of loss with respect to each parameter (a, b, and c). Each parameter tensor's .grad attribute contains the derivative evaluated at the current parameter values.\n",
    "\n",
    "The gradient values indicate the direction and magnitude by which each parameter (a, b, and c) should change to minimize the loss during the next optimization step."
   ]
  },
  {
   "cell_type": "code",
   "execution_count": 56,
   "id": "b145caf0-26cc-45d6-a40d-eac640062b98",
   "metadata": {},
   "outputs": [],
   "source": [
    "# Step 5: Step the weights.\n",
    "lr = 1e-5\n",
    "params.data -= lr * params.grad.data\n",
    "params.grad = None"
   ]
  },
  {
   "cell_type": "markdown",
   "id": "d1e48ee3-fd2b-4b4b-a159-33d709b87db8",
   "metadata": {},
   "source": [
    "Understanding this bit depends on remembering recent history. To calculate the gradients we call backward on the loss. But this loss was itself calculated by mse, which in turn took preds as an input, which was calculated using f taking as an input params, which was the object on which we originally called requires_grad_—which is the original call that now allows us to call backward on loss. This chain of function calls represents the mathematical composition of functions, which enables PyTorch to use calculus's chain rule under the hood to calculate these gradients."
   ]
  },
  {
   "cell_type": "code",
   "execution_count": 57,
   "id": "72572bef-9397-478e-b0ab-9a28f7c69308",
   "metadata": {},
   "outputs": [
    {
     "data": {
      "text/plain": [
       "tensor(5435.5371, grad_fn=<MeanBackward0>)"
      ]
     },
     "execution_count": 57,
     "metadata": {},
     "output_type": "execute_result"
    }
   ],
   "source": [
    "preds = f(time,params)\n",
    "mse(preds, speed)"
   ]
  },
  {
   "cell_type": "code",
   "execution_count": 58,
   "id": "1383791a-4ccf-4cb0-aeb4-807d194c9c9c",
   "metadata": {},
   "outputs": [
    {
     "data": {
      "image/png": "[encoded data removed]",
      "text/plain": [
       "<Figure size 640x480 with 1 Axes>"
      ]
     },
     "metadata": {},
     "output_type": "display_data"
    }
   ],
   "source": [
    "show_preds(preds)"
   ]
  },
  {
   "cell_type": "code",
   "execution_count": 60,
   "id": "303d2cbb-7c08-4bed-8efa-b13b00789379",
   "metadata": {},
   "outputs": [],
   "source": [
    "def apply_step(params, prn=True):\n",
    "    preds = f(time, params)\n",
    "    loss = mse(preds, speed)\n",
    "    loss.backward()\n",
    "    params.data -= lr * params.grad.data\n",
    "    params.grad = None\n",
    "    print(loss.item())\n",
    "    return preds"
   ]
  },
  {
   "cell_type": "code",
   "execution_count": 61,
   "id": "cd4babf8-81fc-42b1-addd-9db4248a8ac6",
   "metadata": {},
   "outputs": [
    {
     "name": "stdout",
     "output_type": "stream",
     "text": [
      "5435.537109375\n",
      "1577.449462890625\n",
      "847.3779296875\n",
      "709.2225952148438\n",
      "683.0758056640625\n",
      "678.1244506835938\n",
      "677.1838989257812\n",
      "677.0023193359375\n",
      "676.9644775390625\n",
      "676.9537353515625\n"
     ]
    }
   ],
   "source": [
    "# Step 6: just repeat the process multiple times!\n",
    "for i in range(10): apply_step(params)"
   ]
  },
  {
   "cell_type": "markdown",
   "id": "004aece9-8949-45cd-8db3-0922a0743946",
   "metadata": {},
   "source": [
    "Looking only at these loss numbers disguises the fact that each iteration represents an entirely different quadratic function being tried, on the way to finding the best possible quadratic function."
   ]
  },
  {
   "cell_type": "code",
   "execution_count": 62,
   "id": "e98d0952-5183-4e3f-9a68-04d54a3232b9",
   "metadata": {},
   "outputs": [
    {
     "name": "stdout",
     "output_type": "stream",
     "text": [
      "676.9481201171875\n",
      "676.9434814453125\n",
      "676.9390869140625\n",
      "676.9346923828125\n"
     ]
    },
    {
     "data": {
      "image/png": "[encoded data removed]",
      "text/plain": [
       "<Figure size 1200x300 with 4 Axes>"
      ]
     },
     "metadata": {},
     "output_type": "display_data"
    }
   ],
   "source": [
    "_,axs = plt.subplots(1,4,figsize=(12,3))\n",
    "for ax in axs: show_preds(apply_step(params, False), ax)\n",
    "plt.tight_layout()"
   ]
  },
  {
   "cell_type": "code",
   "execution_count": 63,
   "id": "0fa5e761-8c81-4d89-a3dd-fd24606a312c",
   "metadata": {},
   "outputs": [
    {
     "data": {
      "text/plain": [
       "tensor([ 0.1756, -0.6893,  1.3597], requires_grad=True)"
      ]
     },
     "execution_count": 63,
     "metadata": {},
     "output_type": "execute_result"
    }
   ],
   "source": [
    "params"
   ]
  },
  {
   "cell_type": "markdown",
   "id": "f74cee26-d172-45b1-be3e-6ab5c6c7bada",
   "metadata": {},
   "source": [
    "## The MNIST Loss Function"
   ]
  },
  {
   "cell_type": "code",
   "execution_count": 64,
   "id": "b325227b-2505-43f9-b767-66a29eb00b81",
   "metadata": {},
   "outputs": [
    {
     "name": "stdout",
     "output_type": "stream",
     "text": [
      "torch.Size([6131, 28, 28]) torch.Size([6265, 28, 28])\n"
     ]
    }
   ],
   "source": [
    "print(threes.shape, sevens.shape)"
   ]
  },
  {
   "cell_type": "code",
   "execution_count": 65,
   "id": "74c8bd9d-9abf-43bb-9c92-a7f199136539",
   "metadata": {},
   "outputs": [
    {
     "name": "stdout",
     "output_type": "stream",
     "text": [
      "torch.Size([12396, 28, 28])\n"
     ]
    }
   ],
   "source": [
    "threes_sevents = torch.cat([threes, sevens]) # simple concatination\n",
    "print(threes_sevents.shape)"
   ]
  },
  {
   "cell_type": "code",
   "execution_count": 66,
   "id": "9c6791ee-2181-46ad-bf27-509fc9b0d43b",
   "metadata": {},
   "outputs": [
    {
     "name": "stdout",
     "output_type": "stream",
     "text": [
      "torch.Size([12396, 784])\n"
     ]
    }
   ],
   "source": [
    "# view's -1 is a special parameter to view that means \"make this axis as big as necessary to fit all the data\":\n",
    "train_x = threes_sevents.view(-1, 28*28)\n",
    "print(train_x.shape)"
   ]
  },
  {
   "cell_type": "code",
   "execution_count": 67,
   "id": "1d5365a1-6665-494c-a7d5-c90aeccd743c",
   "metadata": {},
   "outputs": [
    {
     "name": "stdout",
     "output_type": "stream",
     "text": [
      "tensor([1, 1, 1,  ..., 0, 0, 0])\n"
     ]
    }
   ],
   "source": [
    "# Add labels.\n",
    "train_y_squeeze = tensor( [1]*len(threes) + [0]*len(sevens) )\n",
    "print(train_y_squeeze)"
   ]
  },
  {
   "cell_type": "code",
   "execution_count": 68,
   "id": "0e360da7-45ec-4b8a-b730-2d19fa2d1114",
   "metadata": {},
   "outputs": [],
   "source": [
    "train_y = train_y_squeeze.unsqueeze(1)"
   ]
  },
  {
   "cell_type": "code",
   "execution_count": 69,
   "id": "dff3b62d-c90b-43c7-8b1b-b7e30d73fb68",
   "metadata": {},
   "outputs": [
    {
     "data": {
      "text/plain": [
       "tensor([[1],\n",
       "        [1],\n",
       "        [1],\n",
       "        ...,\n",
       "        [0],\n",
       "        [0],\n",
       "        [0]])"
      ]
     },
     "execution_count": 69,
     "metadata": {},
     "output_type": "execute_result"
    }
   ],
   "source": [
    "train_y"
   ]
  },
  {
   "cell_type": "code",
   "execution_count": 76,
   "id": "95a098aa-61c3-4426-bccd-273b7f67ddb6",
   "metadata": {},
   "outputs": [
    {
     "name": "stdout",
     "output_type": "stream",
     "text": [
      "A single example: x.shape = torch.Size([784]), y.shape = torch.Size([1])\n"
     ]
    }
   ],
   "source": [
    "# PyTorch wants (X,Y) pairs\n",
    "dset = list(zip(train_x,train_y))\n",
    "x,y = dset[0]\n",
    "print(f\"A single example: x.shape = {x.shape}, y.shape = {y.shape}\")"
   ]
  },
  {
   "cell_type": "code",
   "execution_count": 77,
   "id": "28953b8f-ae28-422e-8d25-32aa8ee2962e",
   "metadata": {},
   "outputs": [],
   "source": [
    "def init_params(size, std=1.0): \n",
    "    return (torch.randn(size)*std).requires_grad_()"
   ]
  },
  {
   "cell_type": "code",
   "execution_count": 78,
   "id": "247e74ad-a8bb-43f2-8a49-d6ad960fa72d",
   "metadata": {},
   "outputs": [],
   "source": [
    "# As always, we initiate parameters to some random numbers.\n",
    "weights = init_params((28*28,1))\n",
    "bias = init_params(1)"
   ]
  },
  {
   "cell_type": "code",
   "execution_count": 79,
   "id": "ea5e5aa8-1ba4-4611-ab3a-0fb052eb185c",
   "metadata": {},
   "outputs": [
    {
     "data": {
      "text/plain": [
       "(torch.Size([784, 1]), torch.Size([1]))"
      ]
     },
     "execution_count": 79,
     "metadata": {},
     "output_type": "execute_result"
    }
   ],
   "source": [
    "weights.shape, bias.shape"
   ]
  },
  {
   "cell_type": "code",
   "execution_count": 80,
   "id": "4d9a400f-9058-4d1b-9329-2bb5d8bc3b36",
   "metadata": {},
   "outputs": [
    {
     "data": {
      "text/plain": [
       "tensor([8.4130], grad_fn=<AddBackward0>)"
      ]
     },
     "execution_count": 80,
     "metadata": {},
     "output_type": "execute_result"
    }
   ],
   "source": [
    "# Prediction for a single image:\n",
    "(train_x[0]*weights.T).sum() + bias"
   ]
  },
  {
   "cell_type": "code",
   "execution_count": 81,
   "id": "98064417-055c-49b6-a7bf-f97cd792da54",
   "metadata": {},
   "outputs": [
    {
     "data": {
      "text/plain": [
       "(torch.Size([12396, 784]), torch.Size([784, 1]))"
      ]
     },
     "execution_count": 81,
     "metadata": {},
     "output_type": "execute_result"
    }
   ],
   "source": [
    "train_x.shape, weights.shape"
   ]
  },
  {
   "cell_type": "code",
   "execution_count": 82,
   "id": "31242ebf-2770-4833-ab75-36dd4533cc15",
   "metadata": {},
   "outputs": [
    {
     "name": "stdout",
     "output_type": "stream",
     "text": [
      "tensor([[ 8.4130],\n",
      "        [ 7.7504],\n",
      "        [13.5487],\n",
      "        ...,\n",
      "        [24.0699],\n",
      "        [20.7974],\n",
      "        [19.3607]], grad_fn=<AddBackward0>)\n"
     ]
    }
   ],
   "source": [
    "# Predictions for everything, \"@\" is for matmul:\n",
    "preds = train_x @ weights + bias\n",
    "print(preds) # The first elements is the same as before."
   ]
  },
  {
   "cell_type": "code",
   "execution_count": 83,
   "id": "e98e6e01-aa3c-42da-b1a3-1896b2118186",
   "metadata": {},
   "outputs": [
    {
     "data": {
      "text/plain": [
       "tensor([[ True],\n",
       "        [ True],\n",
       "        [ True],\n",
       "        ...,\n",
       "        [False],\n",
       "        [False],\n",
       "        [False]])"
      ]
     },
     "execution_count": 83,
     "metadata": {},
     "output_type": "execute_result"
    }
   ],
   "source": [
    "corrects = (preds>0.0).float() == train_y\n",
    "corrects"
   ]
  },
  {
   "cell_type": "code",
   "execution_count": 84,
   "id": "263de28a-a07e-4099-a82c-5ea54e872530",
   "metadata": {},
   "outputs": [
    {
     "data": {
      "text/plain": [
       "0.4912068545818329"
      ]
     },
     "execution_count": 84,
     "metadata": {},
     "output_type": "execute_result"
    }
   ],
   "source": [
    "corrects.float().mean().item()"
   ]
  },
  {
   "cell_type": "code",
   "execution_count": 85,
   "id": "2747c135-5218-41eb-8b93-45497df334c5",
   "metadata": {},
   "outputs": [],
   "source": [
    "# Just to check the idea, let's change one of 784 params:\n",
    "with torch.no_grad():\n",
    "    weights[0] *= 1.0001"
   ]
  },
  {
   "cell_type": "code",
   "execution_count": 86,
   "id": "f571b9c4-0d76-4126-8b10-b6df9da0fb82",
   "metadata": {},
   "outputs": [
    {
     "data": {
      "text/plain": [
       "0.4912068545818329"
      ]
     },
     "execution_count": 86,
     "metadata": {},
     "output_type": "execute_result"
    }
   ],
   "source": [
    "preds = train_x @ weights + bias\n",
    "((preds>0.0).float() == train_y).float().mean().item()"
   ]
  },
  {
   "cell_type": "markdown",
   "id": "e556b180-b614-4938-b2b3-b9d69fcb13cf",
   "metadata": {},
   "source": [
    "As we've seen, we need gradients in order to improve our model using SGD, and in order to calculate gradients we need some loss function that represents how good our model is. That is because the gradients are a measure of how that loss function changes with small tweaks to the weights."
   ]
  },
  {
   "cell_type": "markdown",
   "id": "d12ffba0-a6b7-44b9-80ef-7091e7806945",
   "metadata": {},
   "source": [
    "Unfortunately, we have a significant technical problem here. The gradient of a function is its slope, or its steepness, which can be defined as rise over run—that is, how much the value of the function goes up or down, divided by how much we changed the input. We can write this in mathematically as: \n",
    "\n",
    "$$(y_{new} - y_{old}) / (x_{new} - x_{old})$$ \n",
    "\n",
    "This gives us a good approximation of the gradient when $x_{new}$ is very similar to $x_{old}$, meaning that their difference is very small. But accuracy only changes at all when a prediction changes from a 3 to a 7, or vice versa. The problem is that a small change in weights from $x_{old}$ to $x_{new}$ isn't likely to cause any prediction to change, so $(y_{new} - y_{old})$ will almost always be 0. In other words, the gradient is 0 almost everywhere.\n",
    "\n",
    "A very small change in the value of a weight will often not actually change the accuracy at all. This means it is not useful to use accuracy as a loss function. If we do, most of the time our gradients will actually be 0, and the model will not be able to learn from that number.\n",
    "\n",
    "Instead, we need a loss function which, when our weights result in slightly better predictions, gives us a slightly better loss. So what does a \"slightly better prediction\" look like, exactly? Well, in this case, it means that if the correct answer is a 3 the score is a little higher, or if the correct answer is a 7 the score is a little lower."
   ]
  },
  {
   "cell_type": "markdown",
   "id": "99029678-5ec1-4750-9a16-7d3944b97aab",
   "metadata": {},
   "source": [
    "So, for instance, suppose we had three images which we knew were a 3, a 7, and a 3. And suppose our model predicted with high confidence (0.9) that the first was a 3, with slight confidence (0.4) that the second was a 7, and with fair confidence (0.2), but incorrectly, that the last was a 7. This would mean our loss function would receive these values as its inputs:"
   ]
  },
  {
   "cell_type": "code",
   "execution_count": 87,
   "id": "ed8e6e0c-9da1-4841-98a4-2107abc88566",
   "metadata": {},
   "outputs": [
    {
     "data": {
      "text/plain": [
       "tensor([0.1000, 0.4000, 0.8000])"
      ]
     },
     "execution_count": 87,
     "metadata": {},
     "output_type": "execute_result"
    }
   ],
   "source": [
    "# Let's learn \"where\" function: In plain English, this function will measure how distant each prediction is from 1 if it should be 1, \n",
    "# and how distant it is from 0 if it should be 0, and then it will take the mean of all those distances.\n",
    "trgts  = tensor([1,0,1])\n",
    "prds   = tensor([0.9, 0.4, 0.2])\n",
    "torch.where(trgts == 1, 1 - prds, prds)\n",
    "# In short, torch.where(cond, x, y) does an element‐by‐element choice: wherever cond is true, it returns the corresponding element from x; \n",
    "# otherwise, it returns the corresponding element from y."
   ]
  },
  {
   "cell_type": "code",
   "execution_count": 88,
   "id": "9101e589-3c91-4c80-996b-7716f05ecb1e",
   "metadata": {},
   "outputs": [
    {
     "data": {
      "text/plain": [
       "tensor(0.4333)"
      ]
     },
     "execution_count": 88,
     "metadata": {},
     "output_type": "execute_result"
    }
   ],
   "source": [
    "def mnist_loss(predictions, targets):\n",
    "    return torch.where(targets==1, 1-predictions, predictions).mean()\n",
    "mnist_loss(prds,trgts)"
   ]
  },
  {
   "cell_type": "code",
   "execution_count": 89,
   "id": "b299437f-9eaf-4e81-8f25-bacaf8a95e0d",
   "metadata": {},
   "outputs": [
    {
     "data": {
      "text/plain": [
       "tensor(0.2333)"
      ]
     },
     "execution_count": 89,
     "metadata": {},
     "output_type": "execute_result"
    }
   ],
   "source": [
    "# For instance, if we change our prediction for the one \"false\" target from 0.2 to 0.8 the loss will go down, indicating that this is a better prediction:\n",
    "mnist_loss(tensor([0.9, 0.4, 0.8]),trgts)\n"
   ]
  },
  {
   "cell_type": "markdown",
   "id": "58ad2535-7d0f-435c-86ae-6375d6fec548",
   "metadata": {},
   "source": [
    "One problem with mnist_loss as currently defined is that it assumes that predictions are always between 0 and 1. We need to ensure, then, that this is actually the case! As it happens, there is a function that does exactly that—let's take a look.\n",
    "\n"
   ]
  },
  {
   "cell_type": "markdown",
   "id": "f02c9139-8bb6-4a7b-a9d6-fffcd0da44ab",
   "metadata": {},
   "source": [
    "## Sigmoid\n",
    "\n",
    "The **sigmoid** function always outputs a number between 0 and 1. It's defined as follows:"
   ]
  },
  {
   "cell_type": "code",
   "execution_count": 90,
   "id": "3e3dec82-9fa5-4dfe-a166-b230d8f01d22",
   "metadata": {},
   "outputs": [
    {
     "data": {
      "image/png": "[encoded data removed]",
      "text/plain": [
       "<Figure size 600x400 with 1 Axes>"
      ]
     },
     "metadata": {},
     "output_type": "display_data"
    }
   ],
   "source": [
    "def sigmoid(x): return 1/(1+torch.exp(-x))\n",
    "plot_function(torch.sigmoid, title='Sigmoid', min=-4, max=4)"
   ]
  },
  {
   "cell_type": "markdown",
   "id": "f29184b0-72a9-493a-9381-d216ec161f59",
   "metadata": {},
   "source": [
    "We can use this function to update our loss, since we want it always to be between 0 and 1."
   ]
  },
  {
   "cell_type": "code",
   "execution_count": 91,
   "id": "d8f1145d-c26a-4bca-bd3a-4ef2160347b7",
   "metadata": {},
   "outputs": [],
   "source": [
    "def mnist_loss(predictions, targets):\n",
    "    predictions = predictions.sigmoid()\n",
    "    return torch.where(targets==1, 1-predictions, predictions).mean()"
   ]
  },
  {
   "cell_type": "markdown",
   "id": "70df4f99-2d4a-427a-aed8-c83234e8e81e",
   "metadata": {},
   "source": [
    "# Putting It All Together"
   ]
  },
  {
   "cell_type": "markdown",
   "id": "3322be41-339b-43cc-b754-40a22fbe55af",
   "metadata": {},
   "source": [
    "The data loader provides the independent variable $X$ and the dependent variable $Y$. For each epoch, we follow the same four steps:\n",
    "\n",
    "1. Using an initial set of randomly selected parameters, make a prediction: `preds = model(X)`\n",
    "2. Calculate the loss using the previously defined loss function: `loss = loss_func(preds, Y)`\n",
    "3. Perform backpropagation with the computed loss: `loss.backward()`\n",
    "4. Finally, update the weights: `parameters -= parameters.grad * lr`"
   ]
  },
  {
   "cell_type": "code",
   "execution_count": 96,
   "id": "004db651-b12b-46b2-89d2-adcdb63c094e",
   "metadata": {},
   "outputs": [
    {
     "data": {
      "text/plain": [
       "(torch.Size([1, 784]), torch.Size([1]))"
      ]
     },
     "execution_count": 96,
     "metadata": {},
     "output_type": "execute_result"
    }
   ],
   "source": [
    "# nn.Linear helps to create weights and a bias in a single command.\n",
    "linear_model = nn.Linear(28*28, 1)  # 784 input features and 1 output feature\n",
    "w,b = linear_model.parameters()\n",
    "w.shape,b.shape"
   ]
  },
  {
   "cell_type": "code",
   "execution_count": 113,
   "id": "448a9584-04fb-414f-9709-7821855b55a5",
   "metadata": {},
   "outputs": [],
   "source": [
    "train_3_tens = torch.stack([tensor(Image.open(o)) \n",
    "                            for o in (path/'train'/'3').ls()])\n",
    "train_3_tens = train_3_tens.float()/255\n",
    "train_7_tens = torch.stack([tensor(Image.open(o)) \n",
    "                            for o in (path/'train'/'7').ls()])\n",
    "train_7_tens = train_7_tens.float()/255\n",
    "train_3_tens.shape, train_7_tens.shape\n",
    "\n",
    "train_x = torch.cat([train_3_tens, train_7_tens]).view(-1, 28*28)\n",
    "train_y = tensor([1]*len(train_3_tens) + [0]*len(train_7_tens)).unsqueeze(1)\n",
    "train_dset = list(zip(train_x, train_y))\n",
    "\n",
    "dl = DataLoader(train_dset, batch_size=256)"
   ]
  },
  {
   "cell_type": "code",
   "execution_count": 114,
   "id": "87dec1fe-fbd2-4d53-a79d-08d598a6eeab",
   "metadata": {},
   "outputs": [],
   "source": [
    "valid_3_tens = torch.stack([tensor(Image.open(o)) \n",
    "                            for o in (path/'valid'/'3').ls()])\n",
    "valid_3_tens = valid_3_tens.float()/255\n",
    "valid_7_tens = torch.stack([tensor(Image.open(o)) \n",
    "                            for o in (path/'valid'/'7').ls()])\n",
    "valid_7_tens = valid_7_tens.float()/255\n",
    "valid_3_tens.shape, valid_7_tens.shape\n",
    "\n",
    "valid_x = torch.cat([valid_3_tens, valid_7_tens]).view(-1, 28*28)\n",
    "valid_y = tensor([1]*len(valid_3_tens) + [0]*len(valid_7_tens)).unsqueeze(1)\n",
    "valid_dset = list(zip(valid_x,valid_y))\n",
    "\n",
    "valid_dl = DataLoader(valid_dset, batch_size=256)"
   ]
  },
  {
   "cell_type": "code",
   "execution_count": 115,
   "id": "42fb853c-0b45-4805-a590-826be5725b01",
   "metadata": {},
   "outputs": [],
   "source": [
    "dls = DataLoaders(dl, valid_dl)"
   ]
  },
  {
   "cell_type": "code",
   "execution_count": 116,
   "id": "953a80a8-d862-47fa-b396-fa43f1669455",
   "metadata": {},
   "outputs": [],
   "source": [
    "# batch accuracy is the metric we care about\n",
    "def batch_accuracy(xb, yb):\n",
    "    preds = xb.sigmoid()\n",
    "    correct = (preds>0.5) == yb\n",
    "    return correct.float().mean()"
   ]
  },
  {
   "cell_type": "code",
   "execution_count": 117,
   "id": "5bcaf065-1401-4ce7-ad5d-9fd5131eb27b",
   "metadata": {},
   "outputs": [],
   "source": [
    "# fastai provides the SGD\n",
    "learn = Learner(dls, linear_model, opt_func=SGD,\n",
    "                loss_func=mnist_loss, metrics=batch_accuracy)"
   ]
  },
  {
   "cell_type": "code",
   "execution_count": 118,
   "id": "7414d530-180c-4f0a-90ab-594c02ef096c",
   "metadata": {},
   "outputs": [
    {
     "data": {
      "text/html": [
       "\n",
       "<style>\n",
       "    /* Turns off some styling */\n",
       "    progress {\n",
       "        /* gets rid of default border in Firefox and Opera. */\n",
       "        border: none;\n",
       "        /* Needs to be in here for Safari polyfill so background images work as expected. */\n",
       "        background-size: auto;\n",
       "    }\n",
       "    progress:not([value]), progress:not([value])::-webkit-progress-bar {\n",
       "        background: repeating-linear-gradient(45deg, #7e7e7e, #7e7e7e 10px, #5c5c5c 10px, #5c5c5c 20px);\n",
       "    }\n",
       "    .progress-bar-interrupted, .progress-bar-interrupted::-webkit-progress-bar {\n",
       "        background: #F44336;\n",
       "    }\n",
       "</style>\n"
      ],
      "text/plain": [
       "<IPython.core.display.HTML object>"
      ]
     },
     "metadata": {},
     "output_type": "display_data"
    },
    {
     "data": {
      "text/html": [
       "<table border=\"1\" class=\"dataframe\">\n",
       "  <thead>\n",
       "    <tr style=\"text-align: left;\">\n",
       "      <th>epoch</th>\n",
       "      <th>train_loss</th>\n",
       "      <th>valid_loss</th>\n",
       "      <th>batch_accuracy</th>\n",
       "      <th>time</th>\n",
       "    </tr>\n",
       "  </thead>\n",
       "  <tbody>\n",
       "    <tr>\n",
       "      <td>0</td>\n",
       "      <td>0.477829</td>\n",
       "      <td>0.374725</td>\n",
       "      <td>0.958783</td>\n",
       "      <td>00:00</td>\n",
       "    </tr>\n",
       "    <tr>\n",
       "      <td>1</td>\n",
       "      <td>0.353609</td>\n",
       "      <td>0.279014</td>\n",
       "      <td>0.929833</td>\n",
       "      <td>00:00</td>\n",
       "    </tr>\n",
       "    <tr>\n",
       "      <td>2</td>\n",
       "      <td>0.266190</td>\n",
       "      <td>0.216227</td>\n",
       "      <td>0.940628</td>\n",
       "      <td>00:00</td>\n",
       "    </tr>\n",
       "    <tr>\n",
       "      <td>3</td>\n",
       "      <td>0.209967</td>\n",
       "      <td>0.175207</td>\n",
       "      <td>0.955348</td>\n",
       "      <td>00:00</td>\n",
       "    </tr>\n",
       "    <tr>\n",
       "      <td>4</td>\n",
       "      <td>0.173177</td>\n",
       "      <td>0.149208</td>\n",
       "      <td>0.959274</td>\n",
       "      <td>00:00</td>\n",
       "    </tr>\n",
       "    <tr>\n",
       "      <td>5</td>\n",
       "      <td>0.148559</td>\n",
       "      <td>0.131845</td>\n",
       "      <td>0.961236</td>\n",
       "      <td>00:00</td>\n",
       "    </tr>\n",
       "    <tr>\n",
       "      <td>6</td>\n",
       "      <td>0.131515</td>\n",
       "      <td>0.119512</td>\n",
       "      <td>0.961727</td>\n",
       "      <td>00:00</td>\n",
       "    </tr>\n",
       "    <tr>\n",
       "      <td>7</td>\n",
       "      <td>0.119222</td>\n",
       "      <td>0.110291</td>\n",
       "      <td>0.962218</td>\n",
       "      <td>00:00</td>\n",
       "    </tr>\n",
       "    <tr>\n",
       "      <td>8</td>\n",
       "      <td>0.109983</td>\n",
       "      <td>0.103115</td>\n",
       "      <td>0.963690</td>\n",
       "      <td>00:00</td>\n",
       "    </tr>\n",
       "    <tr>\n",
       "      <td>9</td>\n",
       "      <td>0.102777</td>\n",
       "      <td>0.097352</td>\n",
       "      <td>0.964671</td>\n",
       "      <td>00:00</td>\n",
       "    </tr>\n",
       "  </tbody>\n",
       "</table>"
      ],
      "text/plain": [
       "<IPython.core.display.HTML object>"
      ]
     },
     "metadata": {},
     "output_type": "display_data"
    }
   ],
   "source": [
    "learn.fit(10, lr=0.01)"
   ]
  },
  {
   "cell_type": "code",
   "execution_count": 119,
   "id": "29a3371a-2dda-4540-b737-c5f5678a84ca",
   "metadata": {},
   "outputs": [],
   "source": [
    "# The only issue with this model is that it is linear. Let's add nonlinearity.\n",
    "# A simple example with two neurons and non-linear function in between:\n",
    "def simple_net(xb): \n",
    "    res = xb@w1 + b1\n",
    "    res = F.relu(res)\n",
    "    res = res@w2 + b2\n",
    "    return res"
   ]
  },
  {
   "cell_type": "code",
   "execution_count": 121,
   "id": "185fc181-ed50-4501-8ebe-38e0f4f5ef2c",
   "metadata": {},
   "outputs": [],
   "source": [
    "# That's it! All we have in simple_net is two linear classifiers with a relu function between them.\n",
    "# w1 and w2 are weight tensors, and b1 and b2 are bias tensors; \n",
    "# that is, parameters that are initially randomly initialized, just like we did in the previous section:\n",
    "w1 = init_params((28*28,60))\n",
    "b1 = init_params(60)\n",
    "w2 = init_params((60,1))\n",
    "b2 = init_params(1)"
   ]
  },
  {
   "cell_type": "markdown",
   "id": "26560495-d693-4ca4-9a3b-f8068bed7f64",
   "metadata": {},
   "source": [
    "The key point about this is that w1 has 60 output activations (which means that w2 must have 60 input activations, so they match). That means that the first layer can construct 60 different features, each representing some different mix of pixels. You can change that 60 to anything you like, to make the model more or less complex."
   ]
  },
  {
   "cell_type": "markdown",
   "id": "9dd303a0-59dd-44fe-8834-b2bf0924d9c0",
   "metadata": {},
   "source": [
    "The basic idea is that by using more linear layers, we can have our model do more computation, and therefore model more complex functions. But there's no point just putting one linear layer directly after another one, because when we multiply things together and then add them up multiple times, that could be replaced by multiplying different things together and adding them up just once! That is to say, a series of any number of linear layers in a row can be replaced with a single linear layer with a different set of parameters.\n",
    "\n",
    "But if we put a nonlinear function between them, such as relu, then this is no longer true. Now each linear layer is actually somewhat decoupled from the other ones, and can do its own useful work.\n",
    "\n",
    "S: Mathematically, we say the composition of two linear functions is another linear function. So, we can stack as many linear classifiers as we want on top of each other, and without nonlinear functions between them, it will just be the same as one linear classifier.\n",
    "\n",
    "Just like in the previous section, we can replace this code with something a bit simpler, by taking advantage of PyTorch:"
   ]
  },
  {
   "cell_type": "code",
   "execution_count": 127,
   "id": "d610d63c-640d-4285-ba9c-9498364b4bde",
   "metadata": {},
   "outputs": [],
   "source": [
    "simple_net = nn.Sequential(\n",
    "    nn.Linear(28*28,60),  # No need to \n",
    "    nn.ReLU(),\n",
    "    nn.Linear(60,1)\n",
    ")"
   ]
  },
  {
   "cell_type": "code",
   "execution_count": 128,
   "id": "45af3914-eebd-42a7-8c93-175225245351",
   "metadata": {},
   "outputs": [
    {
     "data": {
      "text/plain": [
       "Sequential(\n",
       "  (0): Linear(in_features=784, out_features=60, bias=True)\n",
       "  (1): ReLU()\n",
       "  (2): Linear(in_features=60, out_features=1, bias=True)\n",
       ")"
      ]
     },
     "execution_count": 128,
     "metadata": {},
     "output_type": "execute_result"
    }
   ],
   "source": [
    "simple_net"
   ]
  },
  {
   "cell_type": "code",
   "execution_count": 129,
   "id": "97763024-b11e-4e2f-9987-d74bce403644",
   "metadata": {},
   "outputs": [],
   "source": [
    "learn = Learner(dls, simple_net, opt_func=SGD,\n",
    "                loss_func=mnist_loss, metrics=batch_accuracy)"
   ]
  },
  {
   "cell_type": "code",
   "execution_count": 130,
   "id": "0ebf3ede-cf9e-40b0-b1f6-994be473e7d2",
   "metadata": {},
   "outputs": [
    {
     "data": {
      "text/html": [
       "\n",
       "<style>\n",
       "    /* Turns off some styling */\n",
       "    progress {\n",
       "        /* gets rid of default border in Firefox and Opera. */\n",
       "        border: none;\n",
       "        /* Needs to be in here for Safari polyfill so background images work as expected. */\n",
       "        background-size: auto;\n",
       "    }\n",
       "    progress:not([value]), progress:not([value])::-webkit-progress-bar {\n",
       "        background: repeating-linear-gradient(45deg, #7e7e7e, #7e7e7e 10px, #5c5c5c 10px, #5c5c5c 20px);\n",
       "    }\n",
       "    .progress-bar-interrupted, .progress-bar-interrupted::-webkit-progress-bar {\n",
       "        background: #F44336;\n",
       "    }\n",
       "</style>\n"
      ],
      "text/plain": [
       "<IPython.core.display.HTML object>"
      ]
     },
     "metadata": {},
     "output_type": "display_data"
    },
    {
     "data": {
      "text/html": [
       "<table border=\"1\" class=\"dataframe\">\n",
       "  <thead>\n",
       "    <tr style=\"text-align: left;\">\n",
       "      <th>epoch</th>\n",
       "      <th>train_loss</th>\n",
       "      <th>valid_loss</th>\n",
       "      <th>batch_accuracy</th>\n",
       "      <th>time</th>\n",
       "    </tr>\n",
       "  </thead>\n",
       "  <tbody>\n",
       "    <tr>\n",
       "      <td>0</td>\n",
       "      <td>0.284411</td>\n",
       "      <td>0.408988</td>\n",
       "      <td>0.506869</td>\n",
       "      <td>00:00</td>\n",
       "    </tr>\n",
       "    <tr>\n",
       "      <td>1</td>\n",
       "      <td>0.134209</td>\n",
       "      <td>0.209739</td>\n",
       "      <td>0.825810</td>\n",
       "      <td>00:00</td>\n",
       "    </tr>\n",
       "    <tr>\n",
       "      <td>2</td>\n",
       "      <td>0.075745</td>\n",
       "      <td>0.108075</td>\n",
       "      <td>0.919038</td>\n",
       "      <td>00:00</td>\n",
       "    </tr>\n",
       "    <tr>\n",
       "      <td>3</td>\n",
       "      <td>0.050998</td>\n",
       "      <td>0.074266</td>\n",
       "      <td>0.943081</td>\n",
       "      <td>00:00</td>\n",
       "    </tr>\n",
       "    <tr>\n",
       "      <td>4</td>\n",
       "      <td>0.039522</td>\n",
       "      <td>0.058737</td>\n",
       "      <td>0.960255</td>\n",
       "      <td>00:00</td>\n",
       "    </tr>\n",
       "    <tr>\n",
       "      <td>5</td>\n",
       "      <td>0.033554</td>\n",
       "      <td>0.050007</td>\n",
       "      <td>0.962709</td>\n",
       "      <td>00:00</td>\n",
       "    </tr>\n",
       "    <tr>\n",
       "      <td>6</td>\n",
       "      <td>0.030020</td>\n",
       "      <td>0.044473</td>\n",
       "      <td>0.965653</td>\n",
       "      <td>00:00</td>\n",
       "    </tr>\n",
       "    <tr>\n",
       "      <td>7</td>\n",
       "      <td>0.027649</td>\n",
       "      <td>0.040654</td>\n",
       "      <td>0.966143</td>\n",
       "      <td>00:00</td>\n",
       "    </tr>\n",
       "    <tr>\n",
       "      <td>8</td>\n",
       "      <td>0.025896</td>\n",
       "      <td>0.037833</td>\n",
       "      <td>0.968597</td>\n",
       "      <td>00:00</td>\n",
       "    </tr>\n",
       "    <tr>\n",
       "      <td>9</td>\n",
       "      <td>0.024514</td>\n",
       "      <td>0.035640</td>\n",
       "      <td>0.970069</td>\n",
       "      <td>00:00</td>\n",
       "    </tr>\n",
       "    <tr>\n",
       "      <td>10</td>\n",
       "      <td>0.023379</td>\n",
       "      <td>0.033874</td>\n",
       "      <td>0.971541</td>\n",
       "      <td>00:00</td>\n",
       "    </tr>\n",
       "    <tr>\n",
       "      <td>11</td>\n",
       "      <td>0.022421</td>\n",
       "      <td>0.032409</td>\n",
       "      <td>0.973013</td>\n",
       "      <td>00:00</td>\n",
       "    </tr>\n",
       "    <tr>\n",
       "      <td>12</td>\n",
       "      <td>0.021601</td>\n",
       "      <td>0.031167</td>\n",
       "      <td>0.973994</td>\n",
       "      <td>00:00</td>\n",
       "    </tr>\n",
       "    <tr>\n",
       "      <td>13</td>\n",
       "      <td>0.020890</td>\n",
       "      <td>0.030093</td>\n",
       "      <td>0.974485</td>\n",
       "      <td>00:00</td>\n",
       "    </tr>\n",
       "    <tr>\n",
       "      <td>14</td>\n",
       "      <td>0.020266</td>\n",
       "      <td>0.029152</td>\n",
       "      <td>0.975466</td>\n",
       "      <td>00:00</td>\n",
       "    </tr>\n",
       "    <tr>\n",
       "      <td>15</td>\n",
       "      <td>0.019714</td>\n",
       "      <td>0.028319</td>\n",
       "      <td>0.975466</td>\n",
       "      <td>00:00</td>\n",
       "    </tr>\n",
       "    <tr>\n",
       "      <td>16</td>\n",
       "      <td>0.019222</td>\n",
       "      <td>0.027574</td>\n",
       "      <td>0.976938</td>\n",
       "      <td>00:00</td>\n",
       "    </tr>\n",
       "    <tr>\n",
       "      <td>17</td>\n",
       "      <td>0.018778</td>\n",
       "      <td>0.026904</td>\n",
       "      <td>0.977429</td>\n",
       "      <td>00:00</td>\n",
       "    </tr>\n",
       "    <tr>\n",
       "      <td>18</td>\n",
       "      <td>0.018377</td>\n",
       "      <td>0.026298</td>\n",
       "      <td>0.977429</td>\n",
       "      <td>00:00</td>\n",
       "    </tr>\n",
       "    <tr>\n",
       "      <td>19</td>\n",
       "      <td>0.018011</td>\n",
       "      <td>0.025749</td>\n",
       "      <td>0.978901</td>\n",
       "      <td>00:00</td>\n",
       "    </tr>\n",
       "    <tr>\n",
       "      <td>20</td>\n",
       "      <td>0.017675</td>\n",
       "      <td>0.025250</td>\n",
       "      <td>0.979882</td>\n",
       "      <td>00:00</td>\n",
       "    </tr>\n",
       "    <tr>\n",
       "      <td>21</td>\n",
       "      <td>0.017365</td>\n",
       "      <td>0.024796</td>\n",
       "      <td>0.979882</td>\n",
       "      <td>00:00</td>\n",
       "    </tr>\n",
       "    <tr>\n",
       "      <td>22</td>\n",
       "      <td>0.017078</td>\n",
       "      <td>0.024381</td>\n",
       "      <td>0.979882</td>\n",
       "      <td>00:00</td>\n",
       "    </tr>\n",
       "    <tr>\n",
       "      <td>23</td>\n",
       "      <td>0.016811</td>\n",
       "      <td>0.024002</td>\n",
       "      <td>0.979882</td>\n",
       "      <td>00:00</td>\n",
       "    </tr>\n",
       "    <tr>\n",
       "      <td>24</td>\n",
       "      <td>0.016562</td>\n",
       "      <td>0.023654</td>\n",
       "      <td>0.979882</td>\n",
       "      <td>00:00</td>\n",
       "    </tr>\n",
       "    <tr>\n",
       "      <td>25</td>\n",
       "      <td>0.016330</td>\n",
       "      <td>0.023333</td>\n",
       "      <td>0.979882</td>\n",
       "      <td>00:00</td>\n",
       "    </tr>\n",
       "    <tr>\n",
       "      <td>26</td>\n",
       "      <td>0.016112</td>\n",
       "      <td>0.023037</td>\n",
       "      <td>0.980373</td>\n",
       "      <td>00:00</td>\n",
       "    </tr>\n",
       "    <tr>\n",
       "      <td>27</td>\n",
       "      <td>0.015907</td>\n",
       "      <td>0.022762</td>\n",
       "      <td>0.980864</td>\n",
       "      <td>00:00</td>\n",
       "    </tr>\n",
       "    <tr>\n",
       "      <td>28</td>\n",
       "      <td>0.015715</td>\n",
       "      <td>0.022507</td>\n",
       "      <td>0.981354</td>\n",
       "      <td>00:00</td>\n",
       "    </tr>\n",
       "    <tr>\n",
       "      <td>29</td>\n",
       "      <td>0.015532</td>\n",
       "      <td>0.022269</td>\n",
       "      <td>0.981845</td>\n",
       "      <td>00:00</td>\n",
       "    </tr>\n",
       "  </tbody>\n",
       "</table>"
      ],
      "text/plain": [
       "<IPython.core.display.HTML object>"
      ]
     },
     "metadata": {},
     "output_type": "display_data"
    }
   ],
   "source": [
    "learn.fit(30, 0.1)"
   ]
  },
  {
   "cell_type": "code",
   "execution_count": 131,
   "id": "91a04271-6ba4-4bc7-b6fa-94f0900a99c8",
   "metadata": {},
   "outputs": [
    {
     "data": {
      "image/png": "[encoded data removed]",
      "text/plain": [
       "<Figure size 640x480 with 1 Axes>"
      ]
     },
     "metadata": {},
     "output_type": "display_data"
    }
   ],
   "source": [
    "# The training process is recorded in learn.recorder, with the table of output stored in the values attribute, so we can plot the accuracy over training as:\n",
    "plt.plot(L(learn.recorder.values).itemgot(2));"
   ]
  },
  {
   "cell_type": "markdown",
   "id": "0364b3f9-18b2-41af-afc6-4c68ebcaa352",
   "metadata": {},
   "source": [
    "At this point we have something that is rather magical:\n",
    "\n",
    "- A function that can solve any problem to any level of accuracy (the neural network) given the correct set of parameters\n",
    "- A way to find the best set of parameters for any function (stochastic gradient descent)"
   ]
  },
  {
   "cell_type": "markdown",
   "id": "f95a5964-3e9d-40e1-aac2-b374ebf94706",
   "metadata": {},
   "source": [
    "There is no need to stop at just two linear layers. We can add as many as we want, as long as we add a nonlinearity between each pair of linear layers"
   ]
  },
  {
   "cell_type": "markdown",
   "id": "854928a6-2e46-49cd-b001-4e8449625602",
   "metadata": {},
   "source": [
    "We already know that a single nonlinearity with two linear layers is enough to approximate any function. So why would we use deeper models? The reason is performance. With a deeper model (that is, one with more layers) we do not need to use as many parameters; it turns out that we can use smaller matrices with more layers, and get better results than we would get with larger matrices, and few layers."
   ]
  },
  {
   "cell_type": "code",
   "execution_count": 135,
   "id": "d2a1420d-b5a0-422e-a6a9-a8fce738eb7b",
   "metadata": {},
   "outputs": [
    {
     "data": {
      "text/html": [
       "\n",
       "<style>\n",
       "    /* Turns off some styling */\n",
       "    progress {\n",
       "        /* gets rid of default border in Firefox and Opera. */\n",
       "        border: none;\n",
       "        /* Needs to be in here for Safari polyfill so background images work as expected. */\n",
       "        background-size: auto;\n",
       "    }\n",
       "    progress:not([value]), progress:not([value])::-webkit-progress-bar {\n",
       "        background: repeating-linear-gradient(45deg, #7e7e7e, #7e7e7e 10px, #5c5c5c 10px, #5c5c5c 20px);\n",
       "    }\n",
       "    .progress-bar-interrupted, .progress-bar-interrupted::-webkit-progress-bar {\n",
       "        background: #F44336;\n",
       "    }\n",
       "</style>\n"
      ],
      "text/plain": [
       "<IPython.core.display.HTML object>"
      ]
     },
     "metadata": {},
     "output_type": "display_data"
    },
    {
     "data": {
      "text/html": [
       "<table border=\"1\" class=\"dataframe\">\n",
       "  <thead>\n",
       "    <tr style=\"text-align: left;\">\n",
       "      <th>epoch</th>\n",
       "      <th>train_loss</th>\n",
       "      <th>valid_loss</th>\n",
       "      <th>accuracy</th>\n",
       "      <th>time</th>\n",
       "    </tr>\n",
       "  </thead>\n",
       "  <tbody>\n",
       "    <tr>\n",
       "      <td>0</td>\n",
       "      <td>0.060132</td>\n",
       "      <td>0.012431</td>\n",
       "      <td>0.995093</td>\n",
       "      <td>00:06</td>\n",
       "    </tr>\n",
       "    <tr>\n",
       "      <td>1</td>\n",
       "      <td>0.050449</td>\n",
       "      <td>0.006504</td>\n",
       "      <td>0.998528</td>\n",
       "      <td>00:06</td>\n",
       "    </tr>\n",
       "  </tbody>\n",
       "</table>"
      ],
      "text/plain": [
       "<IPython.core.display.HTML object>"
      ]
     },
     "metadata": {},
     "output_type": "display_data"
    }
   ],
   "source": [
    "# We can even get others' model architecture and get it to to our data: \n",
    "dls = ImageDataLoaders.from_folder(path)\n",
    "learn = vision_learner(dls, resnet18, pretrained=False,\n",
    "                    loss_func=F.cross_entropy, metrics=accuracy)\n",
    "learn.fit(2, 0.01)"
   ]
  },
  {
   "cell_type": "code",
   "execution_count": 136,
   "id": "e05eb6bc-6348-473a-95c6-be2f08db8a46",
   "metadata": {},
   "outputs": [
    {
     "name": "stdout",
     "output_type": "stream",
     "text": [
      "ResNet(\n",
      "  (conv1): Conv2d(3, 64, kernel_size=(7, 7), stride=(2, 2), padding=(3, 3), bias=False)\n",
      "  (bn1): BatchNorm2d(64, eps=1e-05, momentum=0.1, affine=True, track_running_stats=True)\n",
      "  (relu): ReLU(inplace=True)\n",
      "  (maxpool): MaxPool2d(kernel_size=3, stride=2, padding=1, dilation=1, ceil_mode=False)\n",
      "  (layer1): Sequential(\n",
      "    (0): BasicBlock(\n",
      "      (conv1): Conv2d(64, 64, kernel_size=(3, 3), stride=(1, 1), padding=(1, 1), bias=False)\n",
      "      (bn1): BatchNorm2d(64, eps=1e-05, momentum=0.1, affine=True, track_running_stats=True)\n",
      "      (relu): ReLU(inplace=True)\n",
      "      (conv2): Conv2d(64, 64, kernel_size=(3, 3), stride=(1, 1), padding=(1, 1), bias=False)\n",
      "      (bn2): BatchNorm2d(64, eps=1e-05, momentum=0.1, affine=True, track_running_stats=True)\n",
      "    )\n",
      "    (1): BasicBlock(\n",
      "      (conv1): Conv2d(64, 64, kernel_size=(3, 3), stride=(1, 1), padding=(1, 1), bias=False)\n",
      "      (bn1): BatchNorm2d(64, eps=1e-05, momentum=0.1, affine=True, track_running_stats=True)\n",
      "      (relu): ReLU(inplace=True)\n",
      "      (conv2): Conv2d(64, 64, kernel_size=(3, 3), stride=(1, 1), padding=(1, 1), bias=False)\n",
      "      (bn2): BatchNorm2d(64, eps=1e-05, momentum=0.1, affine=True, track_running_stats=True)\n",
      "    )\n",
      "  )\n",
      "  (layer2): Sequential(\n",
      "    (0): BasicBlock(\n",
      "      (conv1): Conv2d(64, 128, kernel_size=(3, 3), stride=(2, 2), padding=(1, 1), bias=False)\n",
      "      (bn1): BatchNorm2d(128, eps=1e-05, momentum=0.1, affine=True, track_running_stats=True)\n",
      "      (relu): ReLU(inplace=True)\n",
      "      (conv2): Conv2d(128, 128, kernel_size=(3, 3), stride=(1, 1), padding=(1, 1), bias=False)\n",
      "      (bn2): BatchNorm2d(128, eps=1e-05, momentum=0.1, affine=True, track_running_stats=True)\n",
      "      (downsample): Sequential(\n",
      "        (0): Conv2d(64, 128, kernel_size=(1, 1), stride=(2, 2), bias=False)\n",
      "        (1): BatchNorm2d(128, eps=1e-05, momentum=0.1, affine=True, track_running_stats=True)\n",
      "      )\n",
      "    )\n",
      "    (1): BasicBlock(\n",
      "      (conv1): Conv2d(128, 128, kernel_size=(3, 3), stride=(1, 1), padding=(1, 1), bias=False)\n",
      "      (bn1): BatchNorm2d(128, eps=1e-05, momentum=0.1, affine=True, track_running_stats=True)\n",
      "      (relu): ReLU(inplace=True)\n",
      "      (conv2): Conv2d(128, 128, kernel_size=(3, 3), stride=(1, 1), padding=(1, 1), bias=False)\n",
      "      (bn2): BatchNorm2d(128, eps=1e-05, momentum=0.1, affine=True, track_running_stats=True)\n",
      "    )\n",
      "  )\n",
      "  (layer3): Sequential(\n",
      "    (0): BasicBlock(\n",
      "      (conv1): Conv2d(128, 256, kernel_size=(3, 3), stride=(2, 2), padding=(1, 1), bias=False)\n",
      "      (bn1): BatchNorm2d(256, eps=1e-05, momentum=0.1, affine=True, track_running_stats=True)\n",
      "      (relu): ReLU(inplace=True)\n",
      "      (conv2): Conv2d(256, 256, kernel_size=(3, 3), stride=(1, 1), padding=(1, 1), bias=False)\n",
      "      (bn2): BatchNorm2d(256, eps=1e-05, momentum=0.1, affine=True, track_running_stats=True)\n",
      "      (downsample): Sequential(\n",
      "        (0): Conv2d(128, 256, kernel_size=(1, 1), stride=(2, 2), bias=False)\n",
      "        (1): BatchNorm2d(256, eps=1e-05, momentum=0.1, affine=True, track_running_stats=True)\n",
      "      )\n",
      "    )\n",
      "    (1): BasicBlock(\n",
      "      (conv1): Conv2d(256, 256, kernel_size=(3, 3), stride=(1, 1), padding=(1, 1), bias=False)\n",
      "      (bn1): BatchNorm2d(256, eps=1e-05, momentum=0.1, affine=True, track_running_stats=True)\n",
      "      (relu): ReLU(inplace=True)\n",
      "      (conv2): Conv2d(256, 256, kernel_size=(3, 3), stride=(1, 1), padding=(1, 1), bias=False)\n",
      "      (bn2): BatchNorm2d(256, eps=1e-05, momentum=0.1, affine=True, track_running_stats=True)\n",
      "    )\n",
      "  )\n",
      "  (layer4): Sequential(\n",
      "    (0): BasicBlock(\n",
      "      (conv1): Conv2d(256, 512, kernel_size=(3, 3), stride=(2, 2), padding=(1, 1), bias=False)\n",
      "      (bn1): BatchNorm2d(512, eps=1e-05, momentum=0.1, affine=True, track_running_stats=True)\n",
      "      (relu): ReLU(inplace=True)\n",
      "      (conv2): Conv2d(512, 512, kernel_size=(3, 3), stride=(1, 1), padding=(1, 1), bias=False)\n",
      "      (bn2): BatchNorm2d(512, eps=1e-05, momentum=0.1, affine=True, track_running_stats=True)\n",
      "      (downsample): Sequential(\n",
      "        (0): Conv2d(256, 512, kernel_size=(1, 1), stride=(2, 2), bias=False)\n",
      "        (1): BatchNorm2d(512, eps=1e-05, momentum=0.1, affine=True, track_running_stats=True)\n",
      "      )\n",
      "    )\n",
      "    (1): BasicBlock(\n",
      "      (conv1): Conv2d(512, 512, kernel_size=(3, 3), stride=(1, 1), padding=(1, 1), bias=False)\n",
      "      (bn1): BatchNorm2d(512, eps=1e-05, momentum=0.1, affine=True, track_running_stats=True)\n",
      "      (relu): ReLU(inplace=True)\n",
      "      (conv2): Conv2d(512, 512, kernel_size=(3, 3), stride=(1, 1), padding=(1, 1), bias=False)\n",
      "      (bn2): BatchNorm2d(512, eps=1e-05, momentum=0.1, affine=True, track_running_stats=True)\n",
      "    )\n",
      "  )\n",
      "  (avgpool): AdaptiveAvgPool2d(output_size=(1, 1))\n",
      "  (fc): Linear(in_features=512, out_features=1000, bias=True)\n",
      ")\n"
     ]
    }
   ],
   "source": [
    "from fastai.vision.all import *\n",
    "\n",
    "# Load the resnet18 architecture (without training it)\n",
    "model = resnet18()\n",
    "\n",
    "# Print the model architecture\n",
    "print(model)"
   ]
  }
 ],
 "metadata": {
  "kernelspec": {
   "display_name": "Python 3 (ipykernel)",
   "language": "python",
   "name": "python3"
  },
  "language_info": {
   "codemirror_mode": {
    "name": "ipython",
    "version": 3
   },
   "file_extension": ".py",
   "mimetype": "text/x-python",
   "name": "python",
   "nbconvert_exporter": "python",
   "pygments_lexer": "ipython3",
   "version": "3.11.11"
  }
 },
 "nbformat": 4,
 "nbformat_minor": 5
}
