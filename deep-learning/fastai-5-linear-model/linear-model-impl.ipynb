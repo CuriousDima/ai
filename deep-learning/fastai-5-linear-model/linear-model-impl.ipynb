{
 "cells": [
  {
   "cell_type": "code",
   "execution_count": 1,
   "id": "28260778",
   "metadata": {},
   "outputs": [],
   "source": [
    "import torch\n",
    "import numpy as np\n",
    "import pandas as pd"
   ]
  },
  {
   "cell_type": "markdown",
   "id": "28a74a63",
   "metadata": {},
   "source": [
    "# Loading and Cleaning-up Data"
   ]
  },
  {
   "cell_type": "code",
   "execution_count": 2,
   "id": "1e90bc8e",
   "metadata": {},
   "outputs": [
    {
     "data": {
      "text/html": [
       "<div>\n",
       "<style scoped>\n",
       "    .dataframe tbody tr th:only-of-type {\n",
       "        vertical-align: middle;\n",
       "    }\n",
       "\n",
       "    .dataframe tbody tr th {\n",
       "        vertical-align: top;\n",
       "    }\n",
       "\n",
       "    .dataframe thead th {\n",
       "        text-align: right;\n",
       "    }\n",
       "</style>\n",
       "<table border=\"1\" class=\"dataframe\">\n",
       "  <thead>\n",
       "    <tr style=\"text-align: right;\">\n",
       "      <th></th>\n",
       "      <th>Survived</th>\n",
       "      <th>Pclass</th>\n",
       "      <th>Name</th>\n",
       "      <th>Sex</th>\n",
       "      <th>Age</th>\n",
       "      <th>SibSp</th>\n",
       "      <th>Parch</th>\n",
       "      <th>Ticket</th>\n",
       "      <th>Fare</th>\n",
       "      <th>Cabin</th>\n",
       "      <th>Embarked</th>\n",
       "    </tr>\n",
       "    <tr>\n",
       "      <th>PassengerId</th>\n",
       "      <th></th>\n",
       "      <th></th>\n",
       "      <th></th>\n",
       "      <th></th>\n",
       "      <th></th>\n",
       "      <th></th>\n",
       "      <th></th>\n",
       "      <th></th>\n",
       "      <th></th>\n",
       "      <th></th>\n",
       "      <th></th>\n",
       "    </tr>\n",
       "  </thead>\n",
       "  <tbody>\n",
       "    <tr>\n",
       "      <th>1</th>\n",
       "      <td>0</td>\n",
       "      <td>3</td>\n",
       "      <td>Braund, Mr. Owen Harris</td>\n",
       "      <td>male</td>\n",
       "      <td>22.0</td>\n",
       "      <td>1</td>\n",
       "      <td>0</td>\n",
       "      <td>A/5 21171</td>\n",
       "      <td>7.2500</td>\n",
       "      <td>NaN</td>\n",
       "      <td>S</td>\n",
       "    </tr>\n",
       "    <tr>\n",
       "      <th>2</th>\n",
       "      <td>1</td>\n",
       "      <td>1</td>\n",
       "      <td>Cumings, Mrs. John Bradley (Florence Briggs Th...</td>\n",
       "      <td>female</td>\n",
       "      <td>38.0</td>\n",
       "      <td>1</td>\n",
       "      <td>0</td>\n",
       "      <td>PC 17599</td>\n",
       "      <td>71.2833</td>\n",
       "      <td>C85</td>\n",
       "      <td>C</td>\n",
       "    </tr>\n",
       "    <tr>\n",
       "      <th>3</th>\n",
       "      <td>1</td>\n",
       "      <td>3</td>\n",
       "      <td>Heikkinen, Miss. Laina</td>\n",
       "      <td>female</td>\n",
       "      <td>26.0</td>\n",
       "      <td>0</td>\n",
       "      <td>0</td>\n",
       "      <td>STON/O2. 3101282</td>\n",
       "      <td>7.9250</td>\n",
       "      <td>NaN</td>\n",
       "      <td>S</td>\n",
       "    </tr>\n",
       "    <tr>\n",
       "      <th>4</th>\n",
       "      <td>1</td>\n",
       "      <td>1</td>\n",
       "      <td>Futrelle, Mrs. Jacques Heath (Lily May Peel)</td>\n",
       "      <td>female</td>\n",
       "      <td>35.0</td>\n",
       "      <td>1</td>\n",
       "      <td>0</td>\n",
       "      <td>113803</td>\n",
       "      <td>53.1000</td>\n",
       "      <td>C123</td>\n",
       "      <td>S</td>\n",
       "    </tr>\n",
       "    <tr>\n",
       "      <th>5</th>\n",
       "      <td>0</td>\n",
       "      <td>3</td>\n",
       "      <td>Allen, Mr. William Henry</td>\n",
       "      <td>male</td>\n",
       "      <td>35.0</td>\n",
       "      <td>0</td>\n",
       "      <td>0</td>\n",
       "      <td>373450</td>\n",
       "      <td>8.0500</td>\n",
       "      <td>NaN</td>\n",
       "      <td>S</td>\n",
       "    </tr>\n",
       "    <tr>\n",
       "      <th>...</th>\n",
       "      <td>...</td>\n",
       "      <td>...</td>\n",
       "      <td>...</td>\n",
       "      <td>...</td>\n",
       "      <td>...</td>\n",
       "      <td>...</td>\n",
       "      <td>...</td>\n",
       "      <td>...</td>\n",
       "      <td>...</td>\n",
       "      <td>...</td>\n",
       "      <td>...</td>\n",
       "    </tr>\n",
       "    <tr>\n",
       "      <th>887</th>\n",
       "      <td>0</td>\n",
       "      <td>2</td>\n",
       "      <td>Montvila, Rev. Juozas</td>\n",
       "      <td>male</td>\n",
       "      <td>27.0</td>\n",
       "      <td>0</td>\n",
       "      <td>0</td>\n",
       "      <td>211536</td>\n",
       "      <td>13.0000</td>\n",
       "      <td>NaN</td>\n",
       "      <td>S</td>\n",
       "    </tr>\n",
       "    <tr>\n",
       "      <th>888</th>\n",
       "      <td>1</td>\n",
       "      <td>1</td>\n",
       "      <td>Graham, Miss. Margaret Edith</td>\n",
       "      <td>female</td>\n",
       "      <td>19.0</td>\n",
       "      <td>0</td>\n",
       "      <td>0</td>\n",
       "      <td>112053</td>\n",
       "      <td>30.0000</td>\n",
       "      <td>B42</td>\n",
       "      <td>S</td>\n",
       "    </tr>\n",
       "    <tr>\n",
       "      <th>889</th>\n",
       "      <td>0</td>\n",
       "      <td>3</td>\n",
       "      <td>Johnston, Miss. Catherine Helen \"Carrie\"</td>\n",
       "      <td>female</td>\n",
       "      <td>NaN</td>\n",
       "      <td>1</td>\n",
       "      <td>2</td>\n",
       "      <td>W./C. 6607</td>\n",
       "      <td>23.4500</td>\n",
       "      <td>NaN</td>\n",
       "      <td>S</td>\n",
       "    </tr>\n",
       "    <tr>\n",
       "      <th>890</th>\n",
       "      <td>1</td>\n",
       "      <td>1</td>\n",
       "      <td>Behr, Mr. Karl Howell</td>\n",
       "      <td>male</td>\n",
       "      <td>26.0</td>\n",
       "      <td>0</td>\n",
       "      <td>0</td>\n",
       "      <td>111369</td>\n",
       "      <td>30.0000</td>\n",
       "      <td>C148</td>\n",
       "      <td>C</td>\n",
       "    </tr>\n",
       "    <tr>\n",
       "      <th>891</th>\n",
       "      <td>0</td>\n",
       "      <td>3</td>\n",
       "      <td>Dooley, Mr. Patrick</td>\n",
       "      <td>male</td>\n",
       "      <td>32.0</td>\n",
       "      <td>0</td>\n",
       "      <td>0</td>\n",
       "      <td>370376</td>\n",
       "      <td>7.7500</td>\n",
       "      <td>NaN</td>\n",
       "      <td>Q</td>\n",
       "    </tr>\n",
       "  </tbody>\n",
       "</table>\n",
       "<p>891 rows × 11 columns</p>\n",
       "</div>"
      ],
      "text/plain": [
       "             Survived  Pclass  \\\n",
       "PassengerId                     \n",
       "1                   0       3   \n",
       "2                   1       1   \n",
       "3                   1       3   \n",
       "4                   1       1   \n",
       "5                   0       3   \n",
       "...               ...     ...   \n",
       "887                 0       2   \n",
       "888                 1       1   \n",
       "889                 0       3   \n",
       "890                 1       1   \n",
       "891                 0       3   \n",
       "\n",
       "                                                          Name     Sex   Age  \\\n",
       "PassengerId                                                                    \n",
       "1                                      Braund, Mr. Owen Harris    male  22.0   \n",
       "2            Cumings, Mrs. John Bradley (Florence Briggs Th...  female  38.0   \n",
       "3                                       Heikkinen, Miss. Laina  female  26.0   \n",
       "4                 Futrelle, Mrs. Jacques Heath (Lily May Peel)  female  35.0   \n",
       "5                                     Allen, Mr. William Henry    male  35.0   \n",
       "...                                                        ...     ...   ...   \n",
       "887                                      Montvila, Rev. Juozas    male  27.0   \n",
       "888                               Graham, Miss. Margaret Edith  female  19.0   \n",
       "889                   Johnston, Miss. Catherine Helen \"Carrie\"  female   NaN   \n",
       "890                                      Behr, Mr. Karl Howell    male  26.0   \n",
       "891                                        Dooley, Mr. Patrick    male  32.0   \n",
       "\n",
       "             SibSp  Parch            Ticket     Fare Cabin Embarked  \n",
       "PassengerId                                                          \n",
       "1                1      0         A/5 21171   7.2500   NaN        S  \n",
       "2                1      0          PC 17599  71.2833   C85        C  \n",
       "3                0      0  STON/O2. 3101282   7.9250   NaN        S  \n",
       "4                1      0            113803  53.1000  C123        S  \n",
       "5                0      0            373450   8.0500   NaN        S  \n",
       "...            ...    ...               ...      ...   ...      ...  \n",
       "887              0      0            211536  13.0000   NaN        S  \n",
       "888              0      0            112053  30.0000   B42        S  \n",
       "889              1      2        W./C. 6607  23.4500   NaN        S  \n",
       "890              0      0            111369  30.0000  C148        C  \n",
       "891              0      0            370376   7.7500   NaN        Q  \n",
       "\n",
       "[891 rows x 11 columns]"
      ]
     },
     "execution_count": 2,
     "metadata": {},
     "output_type": "execute_result"
    }
   ],
   "source": [
    "df = pd.read_csv(\"data/train.csv\")\n",
    "df.set_index(\"PassengerId\", inplace=True)\n",
    "df"
   ]
  },
  {
   "cell_type": "code",
   "execution_count": 3,
   "id": "0907e1c6",
   "metadata": {},
   "outputs": [
    {
     "data": {
      "text/plain": [
       "Survived      0\n",
       "Pclass        0\n",
       "Name          0\n",
       "Sex           0\n",
       "Age         177\n",
       "SibSp         0\n",
       "Parch         0\n",
       "Ticket        0\n",
       "Fare          0\n",
       "Cabin       687\n",
       "Embarked      2\n",
       "dtype: int64"
      ]
     },
     "execution_count": 3,
     "metadata": {},
     "output_type": "execute_result"
    }
   ],
   "source": [
    "df.isna().sum()"
   ]
  },
  {
   "cell_type": "code",
   "execution_count": 4,
   "id": "ecd4dc4f",
   "metadata": {},
   "outputs": [
    {
     "data": {
      "text/plain": [
       "Survived                    0.0\n",
       "Pclass                      3.0\n",
       "Name        Abbing, Mr. Anthony\n",
       "Sex                        male\n",
       "Age                        24.0\n",
       "SibSp                       0.0\n",
       "Parch                       0.0\n",
       "Ticket                     1601\n",
       "Fare                       8.05\n",
       "Cabin                   B96 B98\n",
       "Embarked                      S\n",
       "Name: 0, dtype: object"
      ]
     },
     "execution_count": 4,
     "metadata": {},
     "output_type": "execute_result"
    }
   ],
   "source": [
    "# We are going to fill missing values with the mode of each column.\n",
    "# Pandas has a built-in method to calculate the mode, but it return more than one value if there a tie.\n",
    "# We take the first mode in case of ties.\n",
    "modes = df.mode().iloc[0]\n",
    "modes"
   ]
  },
  {
   "cell_type": "code",
   "execution_count": 5,
   "id": "f0b419ee",
   "metadata": {},
   "outputs": [],
   "source": [
    "df.fillna(modes, inplace=True)"
   ]
  },
  {
   "cell_type": "code",
   "execution_count": 6,
   "id": "604c6263",
   "metadata": {},
   "outputs": [
    {
     "data": {
      "text/plain": [
       "Survived    0\n",
       "Pclass      0\n",
       "Name        0\n",
       "Sex         0\n",
       "Age         0\n",
       "SibSp       0\n",
       "Parch       0\n",
       "Ticket      0\n",
       "Fare        0\n",
       "Cabin       0\n",
       "Embarked    0\n",
       "dtype: int64"
      ]
     },
     "execution_count": 6,
     "metadata": {},
     "output_type": "execute_result"
    }
   ],
   "source": [
    "df.isna().sum()"
   ]
  },
  {
   "cell_type": "code",
   "execution_count": 7,
   "id": "bd8b920c",
   "metadata": {},
   "outputs": [
    {
     "data": {
      "text/html": [
       "<div>\n",
       "<style scoped>\n",
       "    .dataframe tbody tr th:only-of-type {\n",
       "        vertical-align: middle;\n",
       "    }\n",
       "\n",
       "    .dataframe tbody tr th {\n",
       "        vertical-align: top;\n",
       "    }\n",
       "\n",
       "    .dataframe thead th {\n",
       "        text-align: right;\n",
       "    }\n",
       "</style>\n",
       "<table border=\"1\" class=\"dataframe\">\n",
       "  <thead>\n",
       "    <tr style=\"text-align: right;\">\n",
       "      <th></th>\n",
       "      <th>Survived</th>\n",
       "      <th>Pclass</th>\n",
       "      <th>Age</th>\n",
       "      <th>SibSp</th>\n",
       "      <th>Parch</th>\n",
       "      <th>Fare</th>\n",
       "    </tr>\n",
       "  </thead>\n",
       "  <tbody>\n",
       "    <tr>\n",
       "      <th>count</th>\n",
       "      <td>891.000000</td>\n",
       "      <td>891.000000</td>\n",
       "      <td>891.000000</td>\n",
       "      <td>891.000000</td>\n",
       "      <td>891.000000</td>\n",
       "      <td>891.000000</td>\n",
       "    </tr>\n",
       "    <tr>\n",
       "      <th>mean</th>\n",
       "      <td>0.383838</td>\n",
       "      <td>2.308642</td>\n",
       "      <td>28.566970</td>\n",
       "      <td>0.523008</td>\n",
       "      <td>0.381594</td>\n",
       "      <td>32.204208</td>\n",
       "    </tr>\n",
       "    <tr>\n",
       "      <th>std</th>\n",
       "      <td>0.486592</td>\n",
       "      <td>0.836071</td>\n",
       "      <td>13.199572</td>\n",
       "      <td>1.102743</td>\n",
       "      <td>0.806057</td>\n",
       "      <td>49.693429</td>\n",
       "    </tr>\n",
       "    <tr>\n",
       "      <th>min</th>\n",
       "      <td>0.000000</td>\n",
       "      <td>1.000000</td>\n",
       "      <td>0.420000</td>\n",
       "      <td>0.000000</td>\n",
       "      <td>0.000000</td>\n",
       "      <td>0.000000</td>\n",
       "    </tr>\n",
       "    <tr>\n",
       "      <th>25%</th>\n",
       "      <td>0.000000</td>\n",
       "      <td>2.000000</td>\n",
       "      <td>22.000000</td>\n",
       "      <td>0.000000</td>\n",
       "      <td>0.000000</td>\n",
       "      <td>7.910400</td>\n",
       "    </tr>\n",
       "    <tr>\n",
       "      <th>50%</th>\n",
       "      <td>0.000000</td>\n",
       "      <td>3.000000</td>\n",
       "      <td>24.000000</td>\n",
       "      <td>0.000000</td>\n",
       "      <td>0.000000</td>\n",
       "      <td>14.454200</td>\n",
       "    </tr>\n",
       "    <tr>\n",
       "      <th>75%</th>\n",
       "      <td>1.000000</td>\n",
       "      <td>3.000000</td>\n",
       "      <td>35.000000</td>\n",
       "      <td>1.000000</td>\n",
       "      <td>0.000000</td>\n",
       "      <td>31.000000</td>\n",
       "    </tr>\n",
       "    <tr>\n",
       "      <th>max</th>\n",
       "      <td>1.000000</td>\n",
       "      <td>3.000000</td>\n",
       "      <td>80.000000</td>\n",
       "      <td>8.000000</td>\n",
       "      <td>6.000000</td>\n",
       "      <td>512.329200</td>\n",
       "    </tr>\n",
       "  </tbody>\n",
       "</table>\n",
       "</div>"
      ],
      "text/plain": [
       "         Survived      Pclass         Age       SibSp       Parch        Fare\n",
       "count  891.000000  891.000000  891.000000  891.000000  891.000000  891.000000\n",
       "mean     0.383838    2.308642   28.566970    0.523008    0.381594   32.204208\n",
       "std      0.486592    0.836071   13.199572    1.102743    0.806057   49.693429\n",
       "min      0.000000    1.000000    0.420000    0.000000    0.000000    0.000000\n",
       "25%      0.000000    2.000000   22.000000    0.000000    0.000000    7.910400\n",
       "50%      0.000000    3.000000   24.000000    0.000000    0.000000   14.454200\n",
       "75%      1.000000    3.000000   35.000000    1.000000    0.000000   31.000000\n",
       "max      1.000000    3.000000   80.000000    8.000000    6.000000  512.329200"
      ]
     },
     "execution_count": 7,
     "metadata": {},
     "output_type": "execute_result"
    }
   ],
   "source": [
    "df.describe(include=(np.number))"
   ]
  },
  {
   "cell_type": "code",
   "execution_count": 8,
   "id": "1475c6ac",
   "metadata": {},
   "outputs": [
    {
     "data": {
      "text/plain": [
       "<Axes: >"
      ]
     },
     "execution_count": 8,
     "metadata": {},
     "output_type": "execute_result"
    },
    {
     "data": {
      "image/png": "[encoded data removed]",
      "text/plain": [
       "<Figure size 640x480 with 1 Axes>"
      ]
     },
     "metadata": {},
     "output_type": "display_data"
    }
   ],
   "source": [
    "df.Fare.hist()"
   ]
  },
  {
   "cell_type": "code",
   "execution_count": 9,
   "id": "399282f2",
   "metadata": {},
   "outputs": [],
   "source": [
    "# Long-tailed distribution does not work well with neural networks.\n",
    "# We can use a log transformation to make it more normal.\n",
    "# Since sometimes Fare can be zero, we use log1p to avoid issues with log(0).\n",
    "df[\"LogFare\"] = np.log1p(df[\"Fare\"])"
   ]
  },
  {
   "cell_type": "code",
   "execution_count": 10,
   "id": "00474175",
   "metadata": {},
   "outputs": [
    {
     "data": {
      "text/plain": [
       "<Axes: >"
      ]
     },
     "execution_count": 10,
     "metadata": {},
     "output_type": "execute_result"
    },
    {
     "data": {
      "image/png": "[encoded data removed]",
      "text/plain": [
       "<Figure size 640x480 with 1 Axes>"
      ]
     },
     "metadata": {},
     "output_type": "display_data"
    }
   ],
   "source": [
    "df.LogFare.hist()"
   ]
  },
  {
   "cell_type": "code",
   "execution_count": 11,
   "id": "850c2a62",
   "metadata": {},
   "outputs": [
    {
     "data": {
      "text/plain": [
       "array([3, 1, 2])"
      ]
     },
     "execution_count": 11,
     "metadata": {},
     "output_type": "execute_result"
    }
   ],
   "source": [
    "df.Pclass.unique()"
   ]
  },
  {
   "cell_type": "code",
   "execution_count": 12,
   "id": "7e494ed8",
   "metadata": {},
   "outputs": [
    {
     "data": {
      "text/html": [
       "<div>\n",
       "<style scoped>\n",
       "    .dataframe tbody tr th:only-of-type {\n",
       "        vertical-align: middle;\n",
       "    }\n",
       "\n",
       "    .dataframe tbody tr th {\n",
       "        vertical-align: top;\n",
       "    }\n",
       "\n",
       "    .dataframe thead th {\n",
       "        text-align: right;\n",
       "    }\n",
       "</style>\n",
       "<table border=\"1\" class=\"dataframe\">\n",
       "  <thead>\n",
       "    <tr style=\"text-align: right;\">\n",
       "      <th></th>\n",
       "      <th>Name</th>\n",
       "      <th>Sex</th>\n",
       "      <th>Ticket</th>\n",
       "      <th>Cabin</th>\n",
       "      <th>Embarked</th>\n",
       "    </tr>\n",
       "  </thead>\n",
       "  <tbody>\n",
       "    <tr>\n",
       "      <th>count</th>\n",
       "      <td>891</td>\n",
       "      <td>891</td>\n",
       "      <td>891</td>\n",
       "      <td>891</td>\n",
       "      <td>891</td>\n",
       "    </tr>\n",
       "    <tr>\n",
       "      <th>unique</th>\n",
       "      <td>891</td>\n",
       "      <td>2</td>\n",
       "      <td>681</td>\n",
       "      <td>147</td>\n",
       "      <td>3</td>\n",
       "    </tr>\n",
       "    <tr>\n",
       "      <th>top</th>\n",
       "      <td>Braund, Mr. Owen Harris</td>\n",
       "      <td>male</td>\n",
       "      <td>347082</td>\n",
       "      <td>B96 B98</td>\n",
       "      <td>S</td>\n",
       "    </tr>\n",
       "    <tr>\n",
       "      <th>freq</th>\n",
       "      <td>1</td>\n",
       "      <td>577</td>\n",
       "      <td>7</td>\n",
       "      <td>691</td>\n",
       "      <td>646</td>\n",
       "    </tr>\n",
       "  </tbody>\n",
       "</table>\n",
       "</div>"
      ],
      "text/plain": [
       "                           Name   Sex  Ticket    Cabin Embarked\n",
       "count                       891   891     891      891      891\n",
       "unique                      891     2     681      147        3\n",
       "top     Braund, Mr. Owen Harris  male  347082  B96 B98        S\n",
       "freq                          1   577       7      691      646"
      ]
     },
     "execution_count": 12,
     "metadata": {},
     "output_type": "execute_result"
    }
   ],
   "source": [
    "df.describe(include=\"object\")"
   ]
  },
  {
   "cell_type": "code",
   "execution_count": 13,
   "id": "12526ebe",
   "metadata": {},
   "outputs": [
    {
     "data": {
      "text/plain": [
       "Index(['Survived', 'Name', 'Age', 'SibSp', 'Parch', 'Ticket', 'Fare', 'Cabin',\n",
       "       'LogFare', 'Sex_female', 'Sex_male', 'Pclass_1', 'Pclass_2', 'Pclass_3',\n",
       "       'Embarked_C', 'Embarked_Q', 'Embarked_S'],\n",
       "      dtype='object')"
      ]
     },
     "execution_count": 13,
     "metadata": {},
     "output_type": "execute_result"
    }
   ],
   "source": [
    "# Clearly we can't multiply strings like male or S by coefficients, so we need to replace those with numbers.\n",
    "# Apply one-hot encoding to categorical variables and remove the original columns.\n",
    "df = pd.get_dummies(df, columns=[\"Sex\", \"Pclass\", \"Embarked\"], dtype=np.float32)\n",
    "df.columns"
   ]
  },
  {
   "cell_type": "code",
   "execution_count": 14,
   "id": "15c8b466",
   "metadata": {},
   "outputs": [
    {
     "data": {
      "text/html": [
       "<div>\n",
       "<style scoped>\n",
       "    .dataframe tbody tr th:only-of-type {\n",
       "        vertical-align: middle;\n",
       "    }\n",
       "\n",
       "    .dataframe tbody tr th {\n",
       "        vertical-align: top;\n",
       "    }\n",
       "\n",
       "    .dataframe thead th {\n",
       "        text-align: right;\n",
       "    }\n",
       "</style>\n",
       "<table border=\"1\" class=\"dataframe\">\n",
       "  <thead>\n",
       "    <tr style=\"text-align: right;\">\n",
       "      <th></th>\n",
       "      <th>Age</th>\n",
       "      <th>SibSp</th>\n",
       "      <th>Parch</th>\n",
       "      <th>LogFare</th>\n",
       "      <th>Sex_male</th>\n",
       "      <th>Sex_female</th>\n",
       "      <th>Pclass_1</th>\n",
       "      <th>Pclass_2</th>\n",
       "      <th>Pclass_3</th>\n",
       "      <th>Embarked_C</th>\n",
       "      <th>Embarked_Q</th>\n",
       "      <th>Embarked_S</th>\n",
       "    </tr>\n",
       "    <tr>\n",
       "      <th>PassengerId</th>\n",
       "      <th></th>\n",
       "      <th></th>\n",
       "      <th></th>\n",
       "      <th></th>\n",
       "      <th></th>\n",
       "      <th></th>\n",
       "      <th></th>\n",
       "      <th></th>\n",
       "      <th></th>\n",
       "      <th></th>\n",
       "      <th></th>\n",
       "      <th></th>\n",
       "    </tr>\n",
       "  </thead>\n",
       "  <tbody>\n",
       "    <tr>\n",
       "      <th>1</th>\n",
       "      <td>22.0</td>\n",
       "      <td>1</td>\n",
       "      <td>0</td>\n",
       "      <td>2.110213</td>\n",
       "      <td>1.0</td>\n",
       "      <td>0.0</td>\n",
       "      <td>0.0</td>\n",
       "      <td>0.0</td>\n",
       "      <td>1.0</td>\n",
       "      <td>0.0</td>\n",
       "      <td>0.0</td>\n",
       "      <td>1.0</td>\n",
       "    </tr>\n",
       "    <tr>\n",
       "      <th>2</th>\n",
       "      <td>38.0</td>\n",
       "      <td>1</td>\n",
       "      <td>0</td>\n",
       "      <td>4.280593</td>\n",
       "      <td>0.0</td>\n",
       "      <td>1.0</td>\n",
       "      <td>1.0</td>\n",
       "      <td>0.0</td>\n",
       "      <td>0.0</td>\n",
       "      <td>1.0</td>\n",
       "      <td>0.0</td>\n",
       "      <td>0.0</td>\n",
       "    </tr>\n",
       "    <tr>\n",
       "      <th>3</th>\n",
       "      <td>26.0</td>\n",
       "      <td>0</td>\n",
       "      <td>0</td>\n",
       "      <td>2.188856</td>\n",
       "      <td>0.0</td>\n",
       "      <td>1.0</td>\n",
       "      <td>0.0</td>\n",
       "      <td>0.0</td>\n",
       "      <td>1.0</td>\n",
       "      <td>0.0</td>\n",
       "      <td>0.0</td>\n",
       "      <td>1.0</td>\n",
       "    </tr>\n",
       "    <tr>\n",
       "      <th>4</th>\n",
       "      <td>35.0</td>\n",
       "      <td>1</td>\n",
       "      <td>0</td>\n",
       "      <td>3.990834</td>\n",
       "      <td>0.0</td>\n",
       "      <td>1.0</td>\n",
       "      <td>1.0</td>\n",
       "      <td>0.0</td>\n",
       "      <td>0.0</td>\n",
       "      <td>0.0</td>\n",
       "      <td>0.0</td>\n",
       "      <td>1.0</td>\n",
       "    </tr>\n",
       "    <tr>\n",
       "      <th>5</th>\n",
       "      <td>35.0</td>\n",
       "      <td>0</td>\n",
       "      <td>0</td>\n",
       "      <td>2.202765</td>\n",
       "      <td>1.0</td>\n",
       "      <td>0.0</td>\n",
       "      <td>0.0</td>\n",
       "      <td>0.0</td>\n",
       "      <td>1.0</td>\n",
       "      <td>0.0</td>\n",
       "      <td>0.0</td>\n",
       "      <td>1.0</td>\n",
       "    </tr>\n",
       "  </tbody>\n",
       "</table>\n",
       "</div>"
      ],
      "text/plain": [
       "              Age  SibSp  Parch   LogFare  Sex_male  Sex_female  Pclass_1  \\\n",
       "PassengerId                                                                 \n",
       "1            22.0      1      0  2.110213       1.0         0.0       0.0   \n",
       "2            38.0      1      0  4.280593       0.0         1.0       1.0   \n",
       "3            26.0      0      0  2.188856       0.0         1.0       0.0   \n",
       "4            35.0      1      0  3.990834       0.0         1.0       1.0   \n",
       "5            35.0      0      0  2.202765       1.0         0.0       0.0   \n",
       "\n",
       "             Pclass_2  Pclass_3  Embarked_C  Embarked_Q  Embarked_S  \n",
       "PassengerId                                                          \n",
       "1                 0.0       1.0         0.0         0.0         1.0  \n",
       "2                 0.0       0.0         1.0         0.0         0.0  \n",
       "3                 0.0       1.0         0.0         0.0         1.0  \n",
       "4                 0.0       0.0         0.0         0.0         1.0  \n",
       "5                 0.0       1.0         0.0         0.0         1.0  "
      ]
     },
     "execution_count": 14,
     "metadata": {},
     "output_type": "execute_result"
    }
   ],
   "source": [
    "added_cols = [\n",
    "    \"Sex_male\",\n",
    "    \"Sex_female\",\n",
    "    \"Pclass_1\",\n",
    "    \"Pclass_2\",\n",
    "    \"Pclass_3\",\n",
    "    \"Embarked_C\",\n",
    "    \"Embarked_Q\",\n",
    "    \"Embarked_S\",\n",
    "]\n",
    "indep_cols = [\n",
    "    \"Age\",\n",
    "    \"SibSp\",\n",
    "    \"Parch\",\n",
    "    \"LogFare\",\n",
    "] + added_cols\n",
    "df[indep_cols].head()"
   ]
  },
  {
   "cell_type": "code",
   "execution_count": 15,
   "id": "78c38433",
   "metadata": {},
   "outputs": [],
   "source": [
    "# Create dependent and independent variables.\n",
    "Y = torch.tensor(df.Survived.values)\n",
    "X = torch.tensor(\n",
    "    df[indep_cols].values, dtype=torch.float\n",
    ")  # .values returns a numpy array."
   ]
  },
  {
   "cell_type": "code",
   "execution_count": 16,
   "id": "6057e8c6",
   "metadata": {},
   "outputs": [
    {
     "data": {
      "text/plain": [
       "(torch.Size([891, 12]), torch.Size([891]))"
      ]
     },
     "execution_count": 16,
     "metadata": {},
     "output_type": "execute_result"
    }
   ],
   "source": [
    "X.shape, Y.shape"
   ]
  },
  {
   "cell_type": "code",
   "execution_count": 17,
   "id": "cfaa3f3b",
   "metadata": {},
   "outputs": [
    {
     "data": {
      "text/plain": [
       "tensor([[-0.4975,  0.4326, -0.4734, -0.8792,  0.7373, -0.7373, -0.5654, -0.5099,\n",
       "          0.9021, -0.4818, -0.3074,  0.6155],\n",
       "        [ 0.7146,  0.4326, -0.4734,  1.3605, -1.3548,  1.3548,  1.7668, -0.5099,\n",
       "         -1.1073,  2.0733, -0.3074, -1.6229],\n",
       "        [-0.1945, -0.4743, -0.4734, -0.7981, -1.3548,  1.3548, -0.5654, -0.5099,\n",
       "          0.9021, -0.4818, -0.3074,  0.6155],\n",
       "        [ 0.4874,  0.4326, -0.4734,  1.0614, -1.3548,  1.3548,  1.7668, -0.5099,\n",
       "         -1.1073, -0.4818, -0.3074,  0.6155],\n",
       "        [ 0.4874, -0.4743, -0.4734, -0.7837,  0.7373, -0.7373, -0.5654, -0.5099,\n",
       "          0.9021, -0.4818, -0.3074,  0.6155]])"
      ]
     },
     "execution_count": 17,
     "metadata": {},
     "output_type": "execute_result"
    }
   ],
   "source": [
    "# Normalize the independent variables.\n",
    "X_mean = X.mean(dim=0)\n",
    "X_std = X.std(dim=0)\n",
    "X = (X - X_mean) / X_std\n",
    "X[:5]"
   ]
  },
  {
   "cell_type": "markdown",
   "id": "d0ed6eef",
   "metadata": {},
   "source": [
    "# One Epoch Example"
   ]
  },
  {
   "cell_type": "code",
   "execution_count": 18,
   "id": "f93552d6",
   "metadata": {},
   "outputs": [
    {
     "data": {
      "text/plain": [
       "12"
      ]
     },
     "execution_count": 18,
     "metadata": {},
     "output_type": "execute_result"
    }
   ],
   "source": [
    "# Linear model takes every feature and multiple it by a coefficient.\n",
    "# Let's start from a random coefficient for each feature.\n",
    "torch.manual_seed(442)\n",
    "n_coeff = X.shape[1]\n",
    "n_coeff"
   ]
  },
  {
   "cell_type": "code",
   "execution_count": 19,
   "id": "4fe306f1",
   "metadata": {},
   "outputs": [
    {
     "data": {
      "text/plain": [
       "tensor([-0.4629,  0.1386,  0.2409, -0.2262, -0.2632, -0.3147,  0.4876,  0.3136,\n",
       "         0.2799, -0.4392,  0.2103,  0.3625])"
      ]
     },
     "execution_count": 19,
     "metadata": {},
     "output_type": "execute_result"
    }
   ],
   "source": [
    "coeffs = (\n",
    "    torch.rand(\n",
    "        n_coeff,\n",
    "        dtype=torch.float,\n",
    "    )\n",
    "    - 0.5\n",
    ")  # Random coefficients in the range [-0.5, 0.5]\n",
    "coeffs"
   ]
  },
  {
   "cell_type": "code",
   "execution_count": 20,
   "id": "90dfc61f",
   "metadata": {},
   "outputs": [
    {
     "name": "stdout",
     "output_type": "stream",
     "text": [
      "891 tensor([ 0.6000, -1.9341,  0.2080,  0.1723, -0.0032,  0.3088, -0.5066,  1.6219,\n",
      "         0.6990, -1.2584])\n"
     ]
    }
   ],
   "source": [
    "# Our predictions will be calculated by multiplying each row by the coefficients, and adding them up.\n",
    "# Of course, these predictions aren't going to be any use, since our coefficients are random -\n",
    "# they're just a starting point for our gradient descent process.\n",
    "preds = X @ coeffs\n",
    "print(len(preds), preds[:10])"
   ]
  },
  {
   "cell_type": "code",
   "execution_count": 21,
   "id": "0288ac58",
   "metadata": {},
   "outputs": [
    {
     "data": {
      "text/plain": [
       "tensor(0.8891)"
      ]
     },
     "execution_count": 21,
     "metadata": {},
     "output_type": "execute_result"
    }
   ],
   "source": [
    "# To do gradient descent, we need a loss function.\n",
    "# Taking the average error of the rows (i.e. the absolute value of the difference between the prediction and the dependent)\n",
    "# is generally a reasonable approach.\n",
    "loss = torch.abs(preds - Y).mean()\n",
    "loss"
   ]
  },
  {
   "cell_type": "code",
   "execution_count": 22,
   "id": "6c7e15fc",
   "metadata": {},
   "outputs": [
    {
     "data": {
      "text/plain": [
       "tensor([0, 1, 1, 1, 0, 0, 0, 0, 1, 1])"
      ]
     },
     "execution_count": 22,
     "metadata": {},
     "output_type": "execute_result"
    }
   ],
   "source": [
    "Y[:10]"
   ]
  },
  {
   "cell_type": "code",
   "execution_count": 23,
   "id": "3da08ebc",
   "metadata": {},
   "outputs": [],
   "source": [
    "def calc_preds(coeffs, indeps):\n",
    "    return indeps @ coeffs\n",
    "\n",
    "\n",
    "def calc_loss(coeffs, indeps, deps):\n",
    "    return torch.abs(calc_preds(coeffs, indeps) - deps).mean()"
   ]
  },
  {
   "cell_type": "code",
   "execution_count": 24,
   "id": "974543ed",
   "metadata": {},
   "outputs": [
    {
     "data": {
      "text/plain": [
       "tensor([-0.4629,  0.1386,  0.2409, -0.2262, -0.2632, -0.3147,  0.4876,  0.3136,\n",
       "         0.2799, -0.4392,  0.2103,  0.3625], requires_grad=True)"
      ]
     },
     "execution_count": 24,
     "metadata": {},
     "output_type": "execute_result"
    }
   ],
   "source": [
    "# To get PyTorch to calculate gradients, we'll need to call requires_grad_() on our coeffs\n",
    "coeffs.requires_grad_()"
   ]
  },
  {
   "cell_type": "code",
   "execution_count": 25,
   "id": "d61b9873",
   "metadata": {},
   "outputs": [
    {
     "data": {
      "text/plain": [
       "tensor(0.8891, grad_fn=<MeanBackward0>)"
      ]
     },
     "execution_count": 25,
     "metadata": {},
     "output_type": "execute_result"
    }
   ],
   "source": [
    "loss = calc_loss(coeffs, X, Y)\n",
    "loss"
   ]
  },
  {
   "cell_type": "code",
   "execution_count": 26,
   "id": "34928052",
   "metadata": {},
   "outputs": [],
   "source": [
    "# Use backward() to ask PyTorch to calculate gradients now:\n",
    "loss.backward()"
   ]
  },
  {
   "cell_type": "code",
   "execution_count": 27,
   "id": "96d0bb0d",
   "metadata": {},
   "outputs": [
    {
     "data": {
      "text/plain": [
       "tensor([-0.4181,  0.1828,  0.1708, -0.2654,  0.2976, -0.2976, -0.3301, -0.0329,\n",
       "         0.3112, -0.4553,  0.0369,  0.3756])"
      ]
     },
     "execution_count": 27,
     "metadata": {},
     "output_type": "execute_result"
    }
   ],
   "source": [
    "coeffs.grad"
   ]
  },
  {
   "cell_type": "code",
   "execution_count": 28,
   "id": "3de1386b",
   "metadata": {},
   "outputs": [
    {
     "name": "stdout",
     "output_type": "stream",
     "text": [
      "tensor(0.7882)\n"
     ]
    }
   ],
   "source": [
    "# Note that each time we call backward, the gradients are actually added to whatever is in the .grad attribute.\n",
    "# For this reason, after we use the gradients to do a gradient descent step, we need to set them back to zero.\n",
    "with torch.no_grad():\n",
    "    coeffs.sub_(coeffs.grad * 0.1)\n",
    "    coeffs.grad.zero_()\n",
    "    print(calc_loss(coeffs, X, Y))"
   ]
  },
  {
   "cell_type": "markdown",
   "id": "5e3fda34",
   "metadata": {},
   "source": [
    "The one step of gradient, indeed, decreased the loss!"
   ]
  },
  {
   "cell_type": "markdown",
   "id": "66c95663",
   "metadata": {},
   "source": [
    "# Train Linear Model"
   ]
  },
  {
   "cell_type": "code",
   "execution_count": 29,
   "id": "32e92953",
   "metadata": {},
   "outputs": [],
   "source": [
    "from fastai.data.transforms import RandomSplitter\n",
    "\n",
    "trn_split, val_split = RandomSplitter(seed=42)(df)"
   ]
  },
  {
   "cell_type": "code",
   "execution_count": 30,
   "id": "07915d43",
   "metadata": {},
   "outputs": [
    {
     "data": {
      "text/plain": [
       "(713, 178)"
      ]
     },
     "execution_count": 30,
     "metadata": {},
     "output_type": "execute_result"
    }
   ],
   "source": [
    "trn_indep, val_indep = X[trn_split], X[val_split]\n",
    "trn_dep, val_dep = Y[trn_split], Y[val_split]\n",
    "len(trn_indep), len(val_indep)"
   ]
  },
  {
   "cell_type": "code",
   "execution_count": 31,
   "id": "e2ac47c7",
   "metadata": {},
   "outputs": [],
   "source": [
    "def update_coeffs(coeffs, lr):\n",
    "    coeffs.sub_(coeffs.grad * lr)\n",
    "    coeffs.grad.zero_()"
   ]
  },
  {
   "cell_type": "code",
   "execution_count": 32,
   "id": "16600749",
   "metadata": {},
   "outputs": [],
   "source": [
    "def one_epoch(coeffs, lr):\n",
    "    loss = calc_loss(coeffs, X, Y)\n",
    "    loss.backward()\n",
    "    with torch.no_grad():\n",
    "        update_coeffs(coeffs, lr)\n",
    "    print(f\"{loss:.3f}\", end=\"; \")"
   ]
  },
  {
   "cell_type": "code",
   "execution_count": 33,
   "id": "5d2d297a",
   "metadata": {},
   "outputs": [],
   "source": [
    "def init_coeffs():\n",
    "    return (torch.rand(n_coeff) - 0.5).requires_grad_()"
   ]
  },
  {
   "cell_type": "code",
   "execution_count": 34,
   "id": "9d35606c",
   "metadata": {},
   "outputs": [],
   "source": [
    "def train_model(epochs=30, lr=0.01):\n",
    "    torch.manual_seed(442)\n",
    "    coeffs = init_coeffs()\n",
    "    for i in range(epochs):\n",
    "        one_epoch(coeffs, lr=lr)\n",
    "    return coeffs"
   ]
  },
  {
   "cell_type": "code",
   "execution_count": 35,
   "id": "faff5b86",
   "metadata": {},
   "outputs": [
    {
     "name": "stdout",
     "output_type": "stream",
     "text": [
      "0.889; 0.697; 0.590; 0.529; 0.496; 0.476; 0.463; 0.453; 0.444; 0.438; 0.431; 0.424; 0.419; 0.412; 0.406; 0.402; 0.398; 0.412; 0.439; 0.424; 0.406; 0.403; 0.406; 0.428; 0.426; 0.407; 0.407; 0.419; 0.404; 0.413; "
     ]
    }
   ],
   "source": [
    "coeffs = train_model(lr=0.2)"
   ]
  },
  {
   "cell_type": "code",
   "execution_count": 36,
   "id": "ccfc7ff2",
   "metadata": {},
   "outputs": [
    {
     "data": {
      "text/plain": [
       "{'Age': tensor(0.0108),\n",
       " 'SibSp': tensor(-0.0226),\n",
       " 'Parch': tensor(-0.0143),\n",
       " 'LogFare': tensor(0.0553),\n",
       " 'Sex_male': tensor(-0.3315),\n",
       " 'Sex_female': tensor(-0.2465),\n",
       " 'Pclass_1': tensor(0.3881),\n",
       " 'Pclass_2': tensor(0.3459),\n",
       " 'Pclass_3': tensor(0.3393),\n",
       " 'Embarked_C': tensor(0.0631),\n",
       " 'Embarked_Q': tensor(0.0410),\n",
       " 'Embarked_S': tensor(0.0291)}"
      ]
     },
     "execution_count": 36,
     "metadata": {},
     "output_type": "execute_result"
    }
   ],
   "source": [
    "def show_coeffs():\n",
    "    return dict(zip(indep_cols, coeffs.requires_grad_(False)))\n",
    "\n",
    "\n",
    "show_coeffs()"
   ]
  },
  {
   "cell_type": "markdown",
   "id": "27aca576",
   "metadata": {},
   "source": [
    "# A neural network"
   ]
  },
  {
   "cell_type": "code",
   "execution_count": 39,
   "id": "bfd68d21",
   "metadata": {},
   "outputs": [],
   "source": [
    "def init_coeffs(n_hidden=20):\n",
    "    layer1 = (torch.rand(n_coeff, n_hidden) - 0.5) / n_hidden\n",
    "    layer2 = torch.rand(n_hidden, 1) - 0.3\n",
    "    const = torch.rand(1)[0]\n",
    "    return layer1.requires_grad_(), layer2.requires_grad_(), const.requires_grad_()"
   ]
  },
  {
   "cell_type": "code",
   "execution_count": 40,
   "id": "14d27a26",
   "metadata": {},
   "outputs": [],
   "source": [
    "import torch.nn.functional as F\n",
    "\n",
    "\n",
    "def calc_preds(coeffs, indeps):\n",
    "    l1, l2, const = coeffs\n",
    "    res = F.relu(indeps @ l1)\n",
    "    res = res @ l2 + const\n",
    "    return torch.sigmoid(res)"
   ]
  },
  {
   "cell_type": "code",
   "execution_count": 41,
   "id": "1eaa54c2",
   "metadata": {},
   "outputs": [],
   "source": [
    "def update_coeffs(coeffs, lr):\n",
    "    for layer in coeffs:\n",
    "        layer.sub_(layer.grad * lr)\n",
    "        layer.grad.zero_()"
   ]
  },
  {
   "cell_type": "code",
   "execution_count": 45,
   "id": "6206af54",
   "metadata": {},
   "outputs": [
    {
     "name": "stdout",
     "output_type": "stream",
     "text": [
      "0.545; 0.539; 0.534; 0.530; 0.525; 0.520; 0.515; 0.510; 0.505; 0.499; 0.494; 0.488; 0.483; 0.477; 0.472; 0.466; 0.461; 0.456; 0.452; 0.447; 0.443; 0.439; 0.436; 0.433; 0.429; 0.427; 0.424; 0.422; 0.419; 0.417; "
     ]
    }
   ],
   "source": [
    "coeffs = train_model(lr=1.4)"
   ]
  },
  {
   "cell_type": "code",
   "execution_count": 46,
   "id": "b30d1be3",
   "metadata": {},
   "outputs": [
    {
     "name": "stdout",
     "output_type": "stream",
     "text": [
      "0.545; 0.514; 0.428; 0.398; 0.393; 0.390; 0.389; 0.388; 0.387; 0.386; 0.386; 0.386; 0.386; 0.385; 0.385; 0.385; 0.385; 0.385; 0.385; 0.385; 0.385; 0.385; 0.385; 0.385; 0.384; 0.384; 0.384; 0.384; 0.384; 0.384; "
     ]
    }
   ],
   "source": [
    "coeffs = train_model(lr=20)"
   ]
  },
  {
   "cell_type": "code",
   "execution_count": 47,
   "id": "0d9eb8b2",
   "metadata": {},
   "outputs": [
    {
     "data": {
      "text/plain": [
       "(tensor([[ 8.9836e-07, -2.3060e-05,  1.5718e-05, -1.0140e-01, -2.8943e-01,\n",
       "           6.9720e-05, -2.8872e-05, -1.5632e-05,  2.0677e-05,  5.6258e-05,\n",
       "           1.9656e-05, -6.9791e-02,  8.9572e-03,  1.8992e-05, -4.0221e-02,\n",
       "           1.6677e-02,  1.1462e-05,  2.6156e-04,  1.3494e-04,  2.3525e-01],\n",
       "         [ 1.0394e-04, -2.6668e-04,  1.1940e-03, -1.0961e-01,  2.5292e-01,\n",
       "          -4.1498e-03,  8.7632e-05,  8.7965e-05,  2.2892e-04,  5.6902e-05,\n",
       "          -2.1537e-03, -1.9631e-02, -4.2273e-02, -3.7224e-06,  1.5729e-01,\n",
       "          -6.4870e-02, -1.3834e-05,  1.2749e-04,  1.1488e-04, -6.8054e-02],\n",
       "         [ 2.7293e-04, -1.4702e-04,  8.4977e-04, -1.3073e-01,  2.9172e-01,\n",
       "           1.2592e-04,  4.5037e-05,  1.3269e-04,  2.5642e-04,  7.4423e-05,\n",
       "           2.1529e-03, -6.8959e-02, -1.3750e-01,  6.7644e-05,  2.2864e-01,\n",
       "          -1.0283e-01, -1.9865e-05,  1.8297e-04,  1.7373e-04, -9.4923e-02],\n",
       "         [ 5.0381e-04,  8.0629e-04, -3.2108e-03, -2.1515e-01,  2.0027e-02,\n",
       "           6.4433e-03,  2.4902e-04,  2.2162e-04,  4.4240e-04,  2.0373e-04,\n",
       "           5.8857e-05, -3.7049e-01, -1.9058e-01,  2.5182e-04,  2.9802e-01,\n",
       "          -6.9264e-02,  3.2157e-05,  4.0819e-04,  3.0341e-04,  3.9023e-01],\n",
       "         [ 7.7878e-03, -9.5113e-03, -1.8922e-02,  2.3177e-01, -4.6399e-01,\n",
       "          -1.9203e-03, -1.1954e-02, -1.9856e-02,  2.3307e-04,  1.1176e-02,\n",
       "          -2.8875e-03,  9.9011e-02,  4.2313e-01,  2.5435e-03, -1.0792e-01,\n",
       "           2.5402e-01, -4.5867e-04,  9.7604e-03, -2.8195e-03, -2.8045e-02],\n",
       "         [ 9.4748e-03, -9.3536e-03, -1.8835e-02, -2.5059e-01,  4.5566e-01,\n",
       "          -2.1677e-03, -1.2198e-02, -1.9742e-02,  1.6142e-04,  1.0911e-02,\n",
       "          -2.8899e-03, -1.2926e-01, -4.2183e-01,  3.4041e-03,  1.1955e-01,\n",
       "          -2.5104e-01, -3.7699e-04,  1.0054e-02, -2.4146e-03,  5.6030e-02],\n",
       "         [ 6.8967e-04,  9.4274e-03, -1.2841e-02, -1.9714e-01, -1.3447e-01,\n",
       "          -7.9935e-03,  6.7429e-03,  7.6746e-03, -5.2877e-03,  1.0329e-02,\n",
       "          -1.3865e-03, -4.5198e-01, -1.2560e-01, -5.3917e-03,  2.1517e-01,\n",
       "          -2.4194e-02,  1.9375e-03,  3.9349e-03, -1.3878e-02,  4.0147e-01],\n",
       "         [ 9.3215e-04,  9.3035e-03, -1.3768e-02, -2.6966e-01, -1.6189e-01,\n",
       "          -5.1133e-03,  6.3502e-03,  7.1206e-03, -5.4346e-03,  9.6552e-03,\n",
       "          -1.3659e-03,  8.1284e-02, -6.1788e-02, -5.2121e-03,  1.8525e-02,\n",
       "          -3.2015e-02,  1.4894e-03,  3.2771e-03, -1.3586e-02,  5.0331e-01],\n",
       "         [-2.2008e-04,  1.1707e-02, -1.7756e-02,  3.8711e-01,  2.7682e-01,\n",
       "          -5.0063e-03,  7.5384e-03,  8.4958e-03, -6.7641e-03,  1.1568e-02,\n",
       "          -1.7117e-03,  3.2153e-01,  1.0889e-01, -6.6991e-03, -2.2613e-01,\n",
       "           5.6133e-02,  2.7807e-03,  4.1641e-03, -1.6537e-02, -7.9906e-01],\n",
       "         [-5.8331e-04, -2.4590e-03, -1.0054e-02,  1.4672e-01, -5.2980e-02,\n",
       "          -5.5541e-03, -6.9371e-03, -2.5373e-03, -7.7833e-03, -3.9397e-03,\n",
       "           8.3681e-03, -4.1879e-01, -4.4188e-02, -3.6960e-03,  1.1091e-01,\n",
       "          -1.1361e-01,  1.0944e-02, -1.4070e-02,  6.3945e-03,  1.1803e-01],\n",
       "         [ 9.8136e-06, -1.6738e-03, -7.1825e-03,  9.2947e-02,  2.4609e-01,\n",
       "          -3.6386e-03, -4.7927e-03, -1.6380e-03, -5.3012e-03, -2.8881e-03,\n",
       "           6.0076e-03,  7.1228e-02, -5.7842e-02, -2.4709e-03, -1.1162e-01,\n",
       "           7.5283e-03,  8.2411e-03, -9.3017e-03,  5.2397e-03, -2.2008e-01],\n",
       "         [-3.8926e-04, -2.8255e-03, -1.1493e-02, -1.8320e-01, -1.0870e-01,\n",
       "          -6.1834e-03, -7.9456e-03, -2.8821e-03, -8.9880e-03, -4.7402e-03,\n",
       "           9.4900e-03,  3.3410e-01,  3.8282e-02, -4.3897e-03, -6.3361e-02,\n",
       "           9.6150e-02,  1.2436e-02, -1.5577e-02,  7.4640e-03,  4.0360e-02]],\n",
       "        requires_grad=True),\n",
       " tensor([[ 0.3218],\n",
       "         [ 0.1236],\n",
       "         [ 0.0399],\n",
       "         [-0.7247],\n",
       "         [-0.9348],\n",
       "         [ 0.0229],\n",
       "         [ 0.1523],\n",
       "         [ 0.1350],\n",
       "         [ 0.3011],\n",
       "         [ 0.1031],\n",
       "         [ 0.0347],\n",
       "         [-0.8838],\n",
       "         [-0.6705],\n",
       "         [ 0.1508],\n",
       "         [-0.5674],\n",
       "         [-0.4146],\n",
       "         [ 0.2922],\n",
       "         [ 0.3148],\n",
       "         [ 0.2478],\n",
       "         [-1.1598]], requires_grad=True),\n",
       " tensor(-3.3280, requires_grad=True))"
      ]
     },
     "execution_count": 47,
     "metadata": {},
     "output_type": "execute_result"
    }
   ],
   "source": [
    "coeffs"
   ]
  },
  {
   "cell_type": "code",
   "execution_count": 48,
   "id": "fb5bba24",
   "metadata": {},
   "outputs": [],
   "source": [
    "def acc(coeffs):\n",
    "    return (val_dep.bool() == (calc_preds(coeffs, val_indep) > 0.5)).float().mean()"
   ]
  },
  {
   "cell_type": "code",
   "execution_count": 49,
   "id": "ef64ce47",
   "metadata": {},
   "outputs": [
    {
     "data": {
      "text/plain": [
       "tensor(0.5955)"
      ]
     },
     "execution_count": 49,
     "metadata": {},
     "output_type": "execute_result"
    }
   ],
   "source": [
    "acc(coeffs)"
   ]
  },
  {
   "cell_type": "code",
   "execution_count": null,
   "id": "aea1f1d5",
   "metadata": {},
   "outputs": [],
   "source": []
  }
 ],
 "metadata": {
  "kernelspec": {
   "display_name": ".venv",
   "language": "python",
   "name": "python3"
  },
  "language_info": {
   "codemirror_mode": {
    "name": "ipython",
    "version": 3
   },
   "file_extension": ".py",
   "mimetype": "text/x-python",
   "name": "python",
   "nbconvert_exporter": "python",
   "pygments_lexer": "ipython3",
   "version": "3.10.17"
  }
 },
 "nbformat": 4,
 "nbformat_minor": 5
}
