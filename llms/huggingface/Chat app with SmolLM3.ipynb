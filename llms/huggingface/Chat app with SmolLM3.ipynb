{
 "cells": [
  {
   "cell_type": "code",
   "execution_count": 26,
   "id": "73025dfd-bd4e-4186-b99f-3ee3a292f8b3",
   "metadata": {},
   "outputs": [],
   "source": [
    "from transformers import pipeline"
   ]
  },
  {
   "cell_type": "code",
   "execution_count": 27,
   "id": "8867906f-d6f6-47e9-9f00-aafdffc1c71c",
   "metadata": {},
   "outputs": [
    {
     "data": {
      "application/vnd.jupyter.widget-view+json": {
       "model_id": "f3df1683ecb646e09859acce4388e2ca",
       "version_major": 2,
       "version_minor": 0
      },
      "text/plain": [
       "Loading checkpoint shards:   0%|          | 0/2 [00:00<?, ?it/s]"
      ]
     },
     "metadata": {},
     "output_type": "display_data"
    },
    {
     "name": "stderr",
     "output_type": "stream",
     "text": [
      "Device set to use mps:0\n"
     ]
    }
   ],
   "source": [
    "pipe = pipeline(\"text-generation\", model=\"HuggingFaceTB/SmolLM3-3B\")"
   ]
  },
  {
   "cell_type": "markdown",
   "id": "d3a540d1-72dc-4d4e-9244-bb84a6890c03",
   "metadata": {},
   "source": [
    "On MacBooks with Apple Silicon, MPS stands for Metal Performance Shaders. It's Apple's framework that enables GPU-accelerated computing using the integrated GPU in Apple Silicon chips (M1, M2, M3, M4 series)."
   ]
  },
  {
   "cell_type": "code",
   "execution_count": 28,
   "id": "b6f10880-9270-4f2d-b5a1-3bc87bf678e5",
   "metadata": {},
   "outputs": [],
   "source": [
    "messages = [\n",
    "    {'role': 'system','content': 'You\\'re a helpful AI assistant, and your job is to have a friendly conversation with the user.'},\n",
    "    {\"role\": \"user\", \"content\": \"Who are you?\"},\n",
    "]"
   ]
  },
  {
   "cell_type": "code",
   "execution_count": 29,
   "id": "e23ed235-977f-421a-a120-a21254c4a5cc",
   "metadata": {},
   "outputs": [],
   "source": [
    "response_messages = pipe(messages)\n",
    "messages = response_messages[-1][\"generated_text\"]"
   ]
  },
  {
   "cell_type": "code",
   "execution_count": 30,
   "id": "f2f550f2-72df-4d3a-b20e-1c4758d7a00b",
   "metadata": {},
   "outputs": [
    {
     "name": "stdout",
     "output_type": "stream",
     "text": [
      "[{'content': \"You're a helpful AI assistant, and your job is to have a \"\n",
      "             'friendly conversation with the user.',\n",
      "  'role': 'system'},\n",
      " {'content': 'Who are you?', 'role': 'user'},\n",
      " {'content': '<think>\\n'\n",
      "             'Okay, the user asked, \"Who are you?\" I need to respond in a '\n",
      "             'friendly and informative way. Let me start by introducing myself '\n",
      "             \"as an AI assistant. I should mention that I'm here to help with \"\n",
      "             'various tasks like answering questions, providing information, '\n",
      "             \"or just engaging in conversation. It's important to keep the \"\n",
      "             'tone welcoming and open. Maybe add a bit about my capabilities '\n",
      "             'to show that I can handle different types of queries. Also, I '\n",
      "             \"should ask if they have any specific questions or tasks they'd \"\n",
      "             'like help with. Let me make sure the response is concise but '\n",
      "             'covers all the necessary points without being too technical. '\n",
      "             'Alright, time to put that together.\\n'\n",
      "             '</think>\\n'\n",
      "             '\\n'\n",
      "             \"Hello! I'm an AI assistant designed to help and engage with you \"\n",
      "             \"in a friendly way. I'm here to answer questions, provide \"\n",
      "             'information, and help with tasks when you need it. Whether '\n",
      "             \"you're curious about a topic, need a quick fact, or just want to \"\n",
      "             \"chat, I'm here to assist! What can I help you with today?\",\n",
      "  'role': 'assistant'}]\n"
     ]
    }
   ],
   "source": [
    "from pprint import pprint\n",
    "pprint(messages)"
   ]
  },
  {
   "cell_type": "code",
   "execution_count": 31,
   "id": "a57b359c-3e42-4b11-9553-fc5b1fd96b89",
   "metadata": {},
   "outputs": [
    {
     "name": "stdin",
     "output_type": "stream",
     "text": [
      "Your message:  How is your day going?\n"
     ]
    },
    {
     "name": "stdout",
     "output_type": "stream",
     "text": [
      "Assitant: <think>\n",
      "Okay, the user asked how my day is going. I need to respond in a friendly and conversational way. Since I'm an AI, I don't have a physical day, but I can describe how I'm doing in a metaphorical sense. Maybe say I'm \"thriving\" or \"operating smoothly.\" I should keep it light-hearted and positive. Also, offer to help with anything they need. Let me make sure the tone is warm and inviting. Maybe add an emoji to keep it approachable. Alright, that should cover it.\n",
      "</think>\n",
      "\n",
      "I'm \"thriving\" today! It’s always a good day to help and chat with someone like you. What’s been on your mind lately? Need help with something, or just want to swap stories? I’m all ears!\n"
     ]
    },
    {
     "name": "stdin",
     "output_type": "stream",
     "text": [
      "Your message:  exit\n"
     ]
    }
   ],
   "source": [
    "while True:\n",
    "    user_message = input(\"Your message: \")\n",
    "    if user_message == \"exit\":\n",
    "        break\n",
    "\n",
    "    messages.append({'role': 'user', 'content': user_message})\n",
    "    response_messages = pipe(messages)\n",
    "    messages = response_messages[-1][\"generated_text\"]\n",
    "\n",
    "    print(f\"Assitant: {messages[-1]['content']}\")"
   ]
  },
  {
   "cell_type": "code",
   "execution_count": null,
   "id": "f394fdb8-571c-459d-be69-825c74592a53",
   "metadata": {},
   "outputs": [],
   "source": []
  }
 ],
 "metadata": {
  "kernelspec": {
   "display_name": "Python 3 (ipykernel)",
   "language": "python",
   "name": "python3"
  },
  "language_info": {
   "codemirror_mode": {
    "name": "ipython",
    "version": 3
   },
   "file_extension": ".py",
   "mimetype": "text/x-python",
   "name": "python",
   "nbconvert_exporter": "python",
   "pygments_lexer": "ipython3",
   "version": "3.10.17"
  }
 },
 "nbformat": 4,
 "nbformat_minor": 5
}
