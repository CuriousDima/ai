{
  "nbformat": 4,
  "nbformat_minor": 0,
  "metadata": {
    "colab": {
      "provenance": [],
      "gpuType": "A100"
    },
    "kernelspec": {
      "name": "python3",
      "display_name": "Python 3"
    },
    "language_info": {
      "name": "python"
    },
    "accelerator": "GPU"
  },
  "cells": [
    {
      "cell_type": "markdown",
      "source": [
        "# HuggingFace - LLMs"
      ],
      "metadata": {
        "id": "8vlEgaC2lizN"
      }
    },
    {
      "cell_type": "code",
      "execution_count": null,
      "metadata": {
        "id": "153GYaS3eltf"
      },
      "outputs": [],
      "source": [
        "from transformers import pipeline\n",
        "import torch"
      ]
    },
    {
      "cell_type": "code",
      "source": [
        "generator = pipeline('text-generation', model='google/gemma-3-12b-it')"
      ],
      "metadata": {
        "id": "CfDaJjrrhTAS"
      },
      "execution_count": null,
      "outputs": []
    },
    {
      "cell_type": "code",
      "source": [
        "!nvidia-smi"
      ],
      "metadata": {
        "colab": {
          "base_uri": "https://localhost:8080/"
        },
        "id": "H_Hbuq-WhoF9",
        "outputId": "327af31a-8ddd-4160-f95f-af8032c3e789"
      },
      "execution_count": null,
      "outputs": [
        {
          "output_type": "stream",
          "name": "stdout",
          "text": [
            "Tue Aug 19 04:26:44 2025       \n",
            "+-----------------------------------------------------------------------------------------+\n",
            "| NVIDIA-SMI 550.54.15              Driver Version: 550.54.15      CUDA Version: 12.4     |\n",
            "|-----------------------------------------+------------------------+----------------------+\n",
            "| GPU  Name                 Persistence-M | Bus-Id          Disp.A | Volatile Uncorr. ECC |\n",
            "| Fan  Temp   Perf          Pwr:Usage/Cap |           Memory-Usage | GPU-Util  Compute M. |\n",
            "|                                         |                        |               MIG M. |\n",
            "|=========================================+========================+======================|\n",
            "|   0  NVIDIA A100-SXM4-40GB          Off |   00000000:00:04.0 Off |                    0 |\n",
            "| N/A   31C    P0             49W /  400W |   24021MiB /  40960MiB |     32%      Default |\n",
            "|                                         |                        |             Disabled |\n",
            "+-----------------------------------------+------------------------+----------------------+\n",
            "                                                                                         \n",
            "+-----------------------------------------------------------------------------------------+\n",
            "| Processes:                                                                              |\n",
            "|  GPU   GI   CI        PID   Type   Process name                              GPU Memory |\n",
            "|        ID   ID                                                               Usage      |\n",
            "|=========================================================================================|\n",
            "+-----------------------------------------------------------------------------------------+\n"
          ]
        }
      ]
    },
    {
      "cell_type": "code",
      "source": [
        "generator(\"Over the next 5 years LLMs are going to replace next occupations: \")"
      ],
      "metadata": {
        "colab": {
          "base_uri": "https://localhost:8080/"
        },
        "id": "aZV9sr44h77w",
        "outputId": "541f4f87-1b7d-4884-e981-5474da651be7"
      },
      "execution_count": null,
      "outputs": [
        {
          "output_type": "stream",
          "name": "stderr",
          "text": [
            "/usr/local/lib/python3.11/dist-packages/torch/_inductor/compile_fx.py:194: UserWarning: TensorFloat32 tensor cores for float32 matrix multiplication available but not enabled. Consider setting `torch.set_float32_matmul_precision('high')` for better performance.\n",
            "  warnings.warn(\n"
          ]
        },
        {
          "output_type": "execute_result",
          "data": {
            "text/plain": [
              "[{'generated_text': 'Over the next 5 years LLMs are going to replace next occupations: \\n\\n1. **Data Entry Clerks:** LLMs can automate data input, validation, and organization, significantly reducing the need for human data entry.\\n2. **Customer Service Representatives:** Chatbots powered by LLMs are already handling basic customer inquiries, and their capabilities are rapidly improving.\\n3. **Technical Writers:** LLMs can generate technical documentation, manuals, and guides, although human review will still be necessary for accuracy and clarity.\\n4. **Proofreaders and Copy Editors:** LLMs excel at identifying grammatical errors, typos, and inconsistencies, potentially reducing the demand for human proofreaders.\\n5. **Paralegals and Legal Assistants:** LLMs can assist with legal research, document review, and drafting legal documents, streamlining legal processes.\\n6. **Translators:** While nuance and cultural context remain challenges, LLMs are becoming increasingly proficient in translating languages.\\n7. **Market Research Analysts:** LLMs can analyze large datasets and identify trends, potentially reducing the need for human analysts in some areas.\\n8. **Financial Analysts:** LLMs can automate financial modeling, forecasting, and report generation, impacting the demand for entry-level financial analysts.\\n9. **Journalists:** LLMs can generate news articles and reports based on data and'}]"
            ]
          },
          "metadata": {},
          "execution_count": 4
        }
      ]
    },
    {
      "cell_type": "code",
      "source": [
        "response = \"'Over the next 5 years LLMs are going to replace next occupations: \\n\\n1. **Data Entry Clerks:** LLMs can automate data input, validation, and organization, significantly reducing the need for human data entry.\\n2. **Customer Service Representatives:** Chatbots powered by LLMs are already handling basic customer inquiries, and their capabilities are rapidly improving.\\n3. **Technical Writers:** LLMs can generate technical documentation, manuals, and guides, although human review will still be necessary for accuracy and clarity.\\n4. **Proofreaders and Copy Editors:** LLMs excel at identifying grammatical errors, typos, and inconsistencies, potentially reducing the demand for human proofreaders.\\n5. **Paralegals and Legal Assistants:** LLMs can assist with legal research, document review, and drafting legal documents, streamlining legal processes.\\n6. **Translators:** While nuance and cultural context remain challenges, LLMs are becoming increasingly proficient in translating languages.\\n7. **Market Research Analysts:** LLMs can analyze large datasets and identify trends, potentially reducing the need for human analysts in some areas.\\n8. **Financial Analysts:** LLMs can automate financial modeling, forecasting, and report generation, impacting the demand for entry-level financial analysts.\\n9. **Journalists:** LLMs can generate news articles and reports based on data and'\"\n",
        "print(response)"
      ],
      "metadata": {
        "colab": {
          "base_uri": "https://localhost:8080/"
        },
        "id": "gQT9KdBEmvNO",
        "outputId": "f7c6b598-582a-406c-fa80-56b22e8bc4da"
      },
      "execution_count": null,
      "outputs": [
        {
          "output_type": "stream",
          "name": "stdout",
          "text": [
            "'Over the next 5 years LLMs are going to replace next occupations: \n",
            "\n",
            "1. **Data Entry Clerks:** LLMs can automate data input, validation, and organization, significantly reducing the need for human data entry.\n",
            "2. **Customer Service Representatives:** Chatbots powered by LLMs are already handling basic customer inquiries, and their capabilities are rapidly improving.\n",
            "3. **Technical Writers:** LLMs can generate technical documentation, manuals, and guides, although human review will still be necessary for accuracy and clarity.\n",
            "4. **Proofreaders and Copy Editors:** LLMs excel at identifying grammatical errors, typos, and inconsistencies, potentially reducing the demand for human proofreaders.\n",
            "5. **Paralegals and Legal Assistants:** LLMs can assist with legal research, document review, and drafting legal documents, streamlining legal processes.\n",
            "6. **Translators:** While nuance and cultural context remain challenges, LLMs are becoming increasingly proficient in translating languages.\n",
            "7. **Market Research Analysts:** LLMs can analyze large datasets and identify trends, potentially reducing the need for human analysts in some areas.\n",
            "8. **Financial Analysts:** LLMs can automate financial modeling, forecasting, and report generation, impacting the demand for entry-level financial analysts.\n",
            "9. **Journalists:** LLMs can generate news articles and reports based on data and'\n"
          ]
        }
      ]
    }
  ]
}