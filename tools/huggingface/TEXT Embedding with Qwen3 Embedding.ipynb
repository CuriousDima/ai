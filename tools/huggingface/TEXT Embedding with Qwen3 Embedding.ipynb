{
 "cells": [
  {
   "cell_type": "markdown",
   "id": "c6d30bf6-e5f2-48e7-b579-d210c96c2cb9",
   "metadata": {},
   "source": [
    "The Qwen3 Embedding model series is the latest proprietary model of the Qwen family, specifically designed for text embedding and ranking tasks. \n",
    "\n",
    "`Qwen/Qwen3-Embedding-8B` is the best one I can download based on https://huggingface.co/spaces/mteb/leaderboard.\n",
    "\n",
    "Qwen3-Embedding-8B is specifically designed for text embedding and ranking tasks, built upon the dense foundational models of the Qwen3 series.\n",
    "\n",
    "This is different from a general-purpose language model that happens to produce embeddings as a byproduct. These models are specifically designed for text embedding,"
   ]
  },
  {
   "cell_type": "code",
   "execution_count": 1,
   "id": "f42ac535-d7f4-4330-83a5-b7c7073fb449",
   "metadata": {},
   "outputs": [],
   "source": [
    "from sentence_transformers import SentenceTransformer"
   ]
  },
  {
   "cell_type": "code",
   "execution_count": 2,
   "id": "37c89467-1474-4a35-8aa3-52547a6d1c58",
   "metadata": {},
   "outputs": [
    {
     "data": {
      "application/vnd.jupyter.widget-view+json": {
       "model_id": "6560329fdd504f3face15065669ddfd2",
       "version_major": 2,
       "version_minor": 0
      },
      "text/plain": [
       "Loading checkpoint shards:   0%|          | 0/4 [00:00<?, ?it/s]"
      ]
     },
     "metadata": {},
     "output_type": "display_data"
    }
   ],
   "source": [
    "model = SentenceTransformer(\"Qwen/Qwen3-Embedding-8B\")"
   ]
  },
  {
   "cell_type": "code",
   "execution_count": 3,
   "id": "b0e3e1e7-4ccb-41c4-abcf-3c79d41c6834",
   "metadata": {},
   "outputs": [],
   "source": [
    "# The queries and documents to embed\n",
    "queries = [\n",
    "    \"What is the capital of China?\",\n",
    "    \"Explain gravity\",\n",
    "]\n",
    "documents = [\n",
    "    \"The capital of China is Beijing.\",\n",
    "    \"Gravity is a force that attracts two bodies towards each other. It gives weight to physical objects and is responsible for the movement of planets around the sun.\",\n",
    "]"
   ]
  },
  {
   "cell_type": "code",
   "execution_count": 4,
   "id": "7e1957de-9d7e-441b-917b-077ede0e2bf5",
   "metadata": {},
   "outputs": [
    {
     "name": "stdout",
     "output_type": "stream",
     "text": [
      "tensor([[0.7493, 0.0751],\n",
      "        [0.0880, 0.6318]])\n"
     ]
    }
   ],
   "source": [
    "query_embeddings = model.encode(queries, prompt_name=\"query\")\n",
    "document_embeddings = model.encode(documents)\n",
    "\n",
    "# Compute the (cosine) similarity between the query and document embeddings\n",
    "similarity = model.similarity(query_embeddings, document_embeddings)\n",
    "print(similarity)"
   ]
  },
  {
   "cell_type": "code",
   "execution_count": 5,
   "id": "dce633a6-9ad2-4044-99d0-39f862f5782c",
   "metadata": {},
   "outputs": [
    {
     "data": {
      "text/plain": [
       "array([[-0.02664785,  0.04710829, -0.01593689, ..., -0.01131675,\n",
       "         0.00420265,  0.01479538],\n",
       "       [ 0.03322583, -0.00684191, -0.00641506, ..., -0.00580294,\n",
       "        -0.0098152 ,  0.00747299]], shape=(2, 4096), dtype=float32)"
      ]
     },
     "execution_count": 5,
     "metadata": {},
     "output_type": "execute_result"
    }
   ],
   "source": [
    "query_embeddings"
   ]
  },
  {
   "cell_type": "code",
   "execution_count": null,
   "id": "6fe985fb-3999-40a5-a39e-d7bc290ad752",
   "metadata": {},
   "outputs": [],
   "source": []
  }
 ],
 "metadata": {
  "kernelspec": {
   "display_name": "Python 3 (ipykernel)",
   "language": "python",
   "name": "python3"
  },
  "language_info": {
   "codemirror_mode": {
    "name": "ipython",
    "version": 3
   },
   "file_extension": ".py",
   "mimetype": "text/x-python",
   "name": "python",
   "nbconvert_exporter": "python",
   "pygments_lexer": "ipython3",
   "version": "3.10.17"
  }
 },
 "nbformat": 4,
 "nbformat_minor": 5
}
